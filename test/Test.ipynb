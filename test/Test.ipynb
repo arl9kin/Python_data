{
 "cells": [
  {
   "cell_type": "markdown",
   "metadata": {},
   "source": [
    "### Импортируем необходимые библиотеки"
   ]
  },
  {
   "cell_type": "code",
   "execution_count": 1,
   "metadata": {},
   "outputs": [],
   "source": [
    "import numpy as np\n",
    "import pandas as pd\n",
    "import matplotlib.pyplot as plt\n",
    "import seaborn as sns\n",
    "sns.set()"
   ]
  },
  {
   "cell_type": "markdown",
   "metadata": {},
   "source": [
    "### Открываем первую страницу файла эксель"
   ]
  },
  {
   "cell_type": "code",
   "execution_count": 2,
   "metadata": {},
   "outputs": [
    {
     "data": {
      "text/html": [
       "<div>\n",
       "<style scoped>\n",
       "    .dataframe tbody tr th:only-of-type {\n",
       "        vertical-align: middle;\n",
       "    }\n",
       "\n",
       "    .dataframe tbody tr th {\n",
       "        vertical-align: top;\n",
       "    }\n",
       "\n",
       "    .dataframe thead th {\n",
       "        text-align: right;\n",
       "    }\n",
       "</style>\n",
       "<table border=\"1\" class=\"dataframe\">\n",
       "  <thead>\n",
       "    <tr style=\"text-align: right;\">\n",
       "      <th></th>\n",
       "      <th>client_retail_id</th>\n",
       "      <th>invoice_id</th>\n",
       "      <th>product_article</th>\n",
       "      <th>invoice_product_all_amount</th>\n",
       "      <th>invoice_product_price</th>\n",
       "      <th>shop_id</th>\n",
       "    </tr>\n",
       "  </thead>\n",
       "  <tbody>\n",
       "    <tr>\n",
       "      <th>0</th>\n",
       "      <td>994485</td>\n",
       "      <td>30968665</td>\n",
       "      <td>22955</td>\n",
       "      <td>1</td>\n",
       "      <td>38.0</td>\n",
       "      <td>52</td>\n",
       "    </tr>\n",
       "    <tr>\n",
       "      <th>1</th>\n",
       "      <td>994485</td>\n",
       "      <td>30968665</td>\n",
       "      <td>24860</td>\n",
       "      <td>1</td>\n",
       "      <td>36.0</td>\n",
       "      <td>52</td>\n",
       "    </tr>\n",
       "    <tr>\n",
       "      <th>2</th>\n",
       "      <td>1323249</td>\n",
       "      <td>30968664</td>\n",
       "      <td>20981</td>\n",
       "      <td>1</td>\n",
       "      <td>449.0</td>\n",
       "      <td>155</td>\n",
       "    </tr>\n",
       "    <tr>\n",
       "      <th>3</th>\n",
       "      <td>412480</td>\n",
       "      <td>30968663</td>\n",
       "      <td>10001</td>\n",
       "      <td>1</td>\n",
       "      <td>779.0</td>\n",
       "      <td>117</td>\n",
       "    </tr>\n",
       "    <tr>\n",
       "      <th>4</th>\n",
       "      <td>412480</td>\n",
       "      <td>30968663</td>\n",
       "      <td>10002</td>\n",
       "      <td>1</td>\n",
       "      <td>685.0</td>\n",
       "      <td>117</td>\n",
       "    </tr>\n",
       "  </tbody>\n",
       "</table>\n",
       "</div>"
      ],
      "text/plain": [
       "   client_retail_id  invoice_id product_article  invoice_product_all_amount  \\\n",
       "0            994485    30968665           22955                           1   \n",
       "1            994485    30968665           24860                           1   \n",
       "2           1323249    30968664           20981                           1   \n",
       "3            412480    30968663           10001                           1   \n",
       "4            412480    30968663           10002                           1   \n",
       "\n",
       "   invoice_product_price  shop_id  \n",
       "0                   38.0       52  \n",
       "1                   36.0       52  \n",
       "2                  449.0      155  \n",
       "3                  779.0      117  \n",
       "4                  685.0      117  "
      ]
     },
     "execution_count": 2,
     "metadata": {},
     "output_type": "execute_result"
    }
   ],
   "source": [
    "data1 = pd.read_excel('C:/Users/arl9k/my_python_projects/test/тестовое_мл_аналитик.xlsx',sheet_name=0)\n",
    "data1.head()"
   ]
  },
  {
   "cell_type": "markdown",
   "metadata": {},
   "source": [
    "#### Определим форму таблицы"
   ]
  },
  {
   "cell_type": "code",
   "execution_count": 3,
   "metadata": {},
   "outputs": [
    {
     "data": {
      "text/plain": [
       "(1000, 6)"
      ]
     },
     "execution_count": 3,
     "metadata": {},
     "output_type": "execute_result"
    }
   ],
   "source": [
    "data1.shape"
   ]
  },
  {
   "cell_type": "markdown",
   "metadata": {},
   "source": [
    "Как видим, таблица состоит из 1000 строк и 6 столбцов"
   ]
  },
  {
   "cell_type": "markdown",
   "metadata": {},
   "source": [
    "### Посмотрим статистический отчёт"
   ]
  },
  {
   "cell_type": "code",
   "execution_count": 4,
   "metadata": {},
   "outputs": [
    {
     "data": {
      "text/html": [
       "<div>\n",
       "<style scoped>\n",
       "    .dataframe tbody tr th:only-of-type {\n",
       "        vertical-align: middle;\n",
       "    }\n",
       "\n",
       "    .dataframe tbody tr th {\n",
       "        vertical-align: top;\n",
       "    }\n",
       "\n",
       "    .dataframe thead th {\n",
       "        text-align: right;\n",
       "    }\n",
       "</style>\n",
       "<table border=\"1\" class=\"dataframe\">\n",
       "  <thead>\n",
       "    <tr style=\"text-align: right;\">\n",
       "      <th></th>\n",
       "      <th>client_retail_id</th>\n",
       "      <th>invoice_id</th>\n",
       "      <th>product_article</th>\n",
       "      <th>invoice_product_all_amount</th>\n",
       "      <th>invoice_product_price</th>\n",
       "      <th>shop_id</th>\n",
       "    </tr>\n",
       "  </thead>\n",
       "  <tbody>\n",
       "    <tr>\n",
       "      <th>count</th>\n",
       "      <td>1.000000e+03</td>\n",
       "      <td>1.000000e+03</td>\n",
       "      <td>991.0</td>\n",
       "      <td>1000.000000</td>\n",
       "      <td>992.000000</td>\n",
       "      <td>1000.000000</td>\n",
       "    </tr>\n",
       "    <tr>\n",
       "      <th>unique</th>\n",
       "      <td>NaN</td>\n",
       "      <td>NaN</td>\n",
       "      <td>606.0</td>\n",
       "      <td>NaN</td>\n",
       "      <td>NaN</td>\n",
       "      <td>NaN</td>\n",
       "    </tr>\n",
       "    <tr>\n",
       "      <th>top</th>\n",
       "      <td>NaN</td>\n",
       "      <td>NaN</td>\n",
       "      <td>600814.0</td>\n",
       "      <td>NaN</td>\n",
       "      <td>NaN</td>\n",
       "      <td>NaN</td>\n",
       "    </tr>\n",
       "    <tr>\n",
       "      <th>freq</th>\n",
       "      <td>NaN</td>\n",
       "      <td>NaN</td>\n",
       "      <td>73.0</td>\n",
       "      <td>NaN</td>\n",
       "      <td>NaN</td>\n",
       "      <td>NaN</td>\n",
       "    </tr>\n",
       "    <tr>\n",
       "      <th>mean</th>\n",
       "      <td>1.271079e+06</td>\n",
       "      <td>3.096632e+07</td>\n",
       "      <td>NaN</td>\n",
       "      <td>1.801000</td>\n",
       "      <td>269.677419</td>\n",
       "      <td>107.019000</td>\n",
       "    </tr>\n",
       "    <tr>\n",
       "      <th>std</th>\n",
       "      <td>4.707765e+05</td>\n",
       "      <td>1.750682e+03</td>\n",
       "      <td>NaN</td>\n",
       "      <td>3.208067</td>\n",
       "      <td>433.011778</td>\n",
       "      <td>75.562639</td>\n",
       "    </tr>\n",
       "    <tr>\n",
       "      <th>min</th>\n",
       "      <td>9.252000e+04</td>\n",
       "      <td>3.096388e+07</td>\n",
       "      <td>NaN</td>\n",
       "      <td>1.000000</td>\n",
       "      <td>3.000000</td>\n",
       "      <td>1.000000</td>\n",
       "    </tr>\n",
       "    <tr>\n",
       "      <th>25%</th>\n",
       "      <td>9.163310e+05</td>\n",
       "      <td>3.096452e+07</td>\n",
       "      <td>NaN</td>\n",
       "      <td>1.000000</td>\n",
       "      <td>63.000000</td>\n",
       "      <td>42.000000</td>\n",
       "    </tr>\n",
       "    <tr>\n",
       "      <th>50%</th>\n",
       "      <td>1.555323e+06</td>\n",
       "      <td>3.096736e+07</td>\n",
       "      <td>NaN</td>\n",
       "      <td>1.000000</td>\n",
       "      <td>93.000000</td>\n",
       "      <td>103.000000</td>\n",
       "    </tr>\n",
       "    <tr>\n",
       "      <th>75%</th>\n",
       "      <td>1.637580e+06</td>\n",
       "      <td>3.096794e+07</td>\n",
       "      <td>NaN</td>\n",
       "      <td>2.000000</td>\n",
       "      <td>284.000000</td>\n",
       "      <td>155.000000</td>\n",
       "    </tr>\n",
       "    <tr>\n",
       "      <th>max</th>\n",
       "      <td>1.731856e+06</td>\n",
       "      <td>3.096866e+07</td>\n",
       "      <td>NaN</td>\n",
       "      <td>60.000000</td>\n",
       "      <td>4268.000000</td>\n",
       "      <td>252.000000</td>\n",
       "    </tr>\n",
       "  </tbody>\n",
       "</table>\n",
       "</div>"
      ],
      "text/plain": [
       "        client_retail_id    invoice_id  product_article  \\\n",
       "count       1.000000e+03  1.000000e+03            991.0   \n",
       "unique               NaN           NaN            606.0   \n",
       "top                  NaN           NaN         600814.0   \n",
       "freq                 NaN           NaN             73.0   \n",
       "mean        1.271079e+06  3.096632e+07              NaN   \n",
       "std         4.707765e+05  1.750682e+03              NaN   \n",
       "min         9.252000e+04  3.096388e+07              NaN   \n",
       "25%         9.163310e+05  3.096452e+07              NaN   \n",
       "50%         1.555323e+06  3.096736e+07              NaN   \n",
       "75%         1.637580e+06  3.096794e+07              NaN   \n",
       "max         1.731856e+06  3.096866e+07              NaN   \n",
       "\n",
       "        invoice_product_all_amount  invoice_product_price      shop_id  \n",
       "count                  1000.000000             992.000000  1000.000000  \n",
       "unique                         NaN                    NaN          NaN  \n",
       "top                            NaN                    NaN          NaN  \n",
       "freq                           NaN                    NaN          NaN  \n",
       "mean                      1.801000             269.677419   107.019000  \n",
       "std                       3.208067             433.011778    75.562639  \n",
       "min                       1.000000               3.000000     1.000000  \n",
       "25%                       1.000000              63.000000    42.000000  \n",
       "50%                       1.000000              93.000000   103.000000  \n",
       "75%                       2.000000             284.000000   155.000000  \n",
       "max                      60.000000            4268.000000   252.000000  "
      ]
     },
     "execution_count": 4,
     "metadata": {},
     "output_type": "execute_result"
    }
   ],
   "source": [
    "data1.describe(include='all')"
   ]
  },
  {
   "cell_type": "markdown",
   "metadata": {},
   "source": [
    "Обратим внимание на то, что в стобцах \"product_article\" и \"invoice_product_price\" количество строк меньше 1000, что говорит об отсутсвующих данных в этих столбцах. Также столбец \"product_article\" не определяется как числовой, возможно имеются проблемы с типом данных"
   ]
  },
  {
   "cell_type": "markdown",
   "metadata": {},
   "source": [
    "### Рассмотрим еще отчёты о датафрейме"
   ]
  },
  {
   "cell_type": "code",
   "execution_count": 5,
   "metadata": {},
   "outputs": [
    {
     "name": "stdout",
     "output_type": "stream",
     "text": [
      "<class 'pandas.core.frame.DataFrame'>\n",
      "RangeIndex: 1000 entries, 0 to 999\n",
      "Data columns (total 6 columns):\n",
      " #   Column                      Non-Null Count  Dtype  \n",
      "---  ------                      --------------  -----  \n",
      " 0   client_retail_id            1000 non-null   int64  \n",
      " 1   invoice_id                  1000 non-null   int64  \n",
      " 2   product_article             991 non-null    object \n",
      " 3   invoice_product_all_amount  1000 non-null   int64  \n",
      " 4   invoice_product_price       992 non-null    float64\n",
      " 5   shop_id                     1000 non-null   int64  \n",
      "dtypes: float64(1), int64(4), object(1)\n",
      "memory usage: 47.0+ KB\n"
     ]
    }
   ],
   "source": [
    "data1.info()"
   ]
  },
  {
   "cell_type": "markdown",
   "metadata": {},
   "source": [
    "Действительно, в указанных столбцах отсутствуют данные и тип данных \"product_article\" - строковый, хотя предполагается целочисленный (int64)."
   ]
  },
  {
   "cell_type": "code",
   "execution_count": 6,
   "metadata": {},
   "outputs": [
    {
     "data": {
      "text/plain": [
       "client_retail_id              0\n",
       "invoice_id                    0\n",
       "product_article               9\n",
       "invoice_product_all_amount    0\n",
       "invoice_product_price         8\n",
       "shop_id                       0\n",
       "dtype: int64"
      ]
     },
     "execution_count": 6,
     "metadata": {},
     "output_type": "execute_result"
    }
   ],
   "source": [
    "data1.isna().sum()"
   ]
  },
  {
   "cell_type": "markdown",
   "metadata": {},
   "source": [
    "В столбце \"product_article\" и \"invoice_product_price\" по 9 и 8 отсутствующих данных, соответственно"
   ]
  },
  {
   "cell_type": "code",
   "execution_count": 7,
   "metadata": {},
   "outputs": [
    {
     "data": {
      "text/plain": [
       "client_retail_id                int64\n",
       "invoice_id                      int64\n",
       "product_article                object\n",
       "invoice_product_all_amount      int64\n",
       "invoice_product_price         float64\n",
       "shop_id                         int64\n",
       "dtype: object"
      ]
     },
     "execution_count": 7,
     "metadata": {},
     "output_type": "execute_result"
    }
   ],
   "source": [
    "data1.dtypes"
   ]
  },
  {
   "cell_type": "markdown",
   "metadata": {},
   "source": [
    "### Работа с отсутсвующими данными"
   ]
  },
  {
   "cell_type": "markdown",
   "metadata": {},
   "source": [
    "Начнем работу со столбцом \"product_article\". Для начала осмотрим уникальные элементы столбца."
   ]
  },
  {
   "cell_type": "code",
   "execution_count": 8,
   "metadata": {},
   "outputs": [
    {
     "data": {
      "text/plain": [
       "array([22955, 24860, 20981, 10001, 10002, 35577, 20783, 11152, 21953,\n",
       "       24406, 25103, 24407, 25360, 24975, 21829, 600814, 24256, 20046,\n",
       "       34271, 24497, 22498, 21507, 12816, 37762, 24409, 33898, 47670,\n",
       "       31080, 24862, 22951, 24964, 34145, 20055, 22733, 20358, 20344,\n",
       "       22524, 22201, 21157, 20246, 21615, 33661, 40060, 15127, 40944,\n",
       "       20707, 25200, 20346, 26092, 20352, 24065, 18610, 33899, 47573,\n",
       "       20585, 20366, 20521, 40777, 12729, 22624, 20734, 21074, 20541,\n",
       "       15337, 36129, 20575, 25199, nan, 23366, 20255, 21217, 19207, 14341,\n",
       "       26115, 17700, 12402, 50344, 17160, 12149, 20733, 10228, 10226,\n",
       "       10174, 25104, 24709, 26494, 24596, 24593, 24595, 23417, 23285,\n",
       "       22588, 19511, 33990, 17724, 48652, 40746, 25319, 22586, 24180,\n",
       "       24509, 20356, 46599, 21298, 25364, 20785, 20782, 21142, 21106,\n",
       "       24372, 24362, 11134, 48673, 11383, 14167, 20048, 22231, 21294,\n",
       "       33983, 34828, 17500, 17728, 24401, 24400, 14158, 22625, 26118,\n",
       "       22722, 22392, 21107, 21163, 24594, 24171, 24903, 22126, 21617,\n",
       "       22794, 20135, 22509, 20056, 20069, 20788, 24175, 20257, 20259,\n",
       "       28014, 24167, 24571, 46600, 24966, 33929, 18101, 22842, 21616,\n",
       "       21062, 24190, 20057, 10333, 40445, 21578, 22120, 35325, 36246,\n",
       "       24703, 14765, 48617, 33843, 18012, 18011, 10279, 40554, 18013,\n",
       "       19215, 37298, 36128, 33847, 48613, 12635, 21509, 35909, 21322,\n",
       "       25271, 11834, 24976, 25105, 24977, 213260, 20239, 21455, 218590,\n",
       "       40425, 11353, 24549, 26242, 24867, 33944, 13046, 46639, 14642,\n",
       "       40454, '18554.10', 20725, 17723, 19652, 19654, 47574, 17608, 14293,\n",
       "       21150, 21978, 21979, 26346, 48620, 48616, 48618, 20136, 26157,\n",
       "       10109, 22032, 20476, 21136, 48687, 21113, 22000, 20240, 19665,\n",
       "       21618, 22363, 21823, 26119, 21370, 21235, 24410, 21061, 35860,\n",
       "       23273, 15596, 40933, 34419, 21290, 35901, 24339, 24331, 24332,\n",
       "       25106, 21327, 14875, 17644, 35975, 20660, 23280, 25305, 23282,\n",
       "       22364, 20335, 24753, 24328, 25000, 26496, 20487, 22810, 25268,\n",
       "       10276, 10270, 21305, 26102, 26114, 23364, 26498, 17695, 11910,\n",
       "       19640, 25359, 24333, 21537, 21460, 11291, 11340, 14192, 34313,\n",
       "       22592, 24189, 24968, 24735, 36234, 36232, 36233, 12308, 19271,\n",
       "       20347, 20345, 24066, 40889, '47378.Р»Р°Р№Рј', 24715, 24717, 24752,\n",
       "       46912, 15147, 213270, 46620, 17726, 19192, 21828, 21826, 20761,\n",
       "       46608, 34864, 28015, 20627, 24592, 21992, 33918, 26002, 22629,\n",
       "       22655, 20365, 20711, 21860, 22602, 20775, 46624, 22124, 24381,\n",
       "       24383, 24385, 19673, 24901, 21212, 20681, 26495, 24261, 20333,\n",
       "       20729, 24351, 24354, 20679, '24656.С‡РµСЂРЅРёС‡', 24172, 25409,\n",
       "       21367, 24161, 35879, 31112, 21219, 12958, 32015, 40068, 25240,\n",
       "       11378, 14848, 19629, 32077, 22412, 20986, 20355, 20983, 25317,\n",
       "       23346, 22601, 11384, 21112, '19247.СЃРёРЅ', 20258, 22972, 25358,\n",
       "       21858, 24408, 47452, 20583, 24390, 26491, 24183, 24181, 25405,\n",
       "       35578, 25042, 21839, 26492, 33660, 20984, 20985, 36460, 34702,\n",
       "       46480, 10142, 10164, 20772, 23488, 26350, 21722, 20039, 25401,\n",
       "       25399, 23487, 21721, 23486, 26349, 21272, 20714, 17156, 34422,\n",
       "       17673, 20360, 21295, 21323, 21306, 13266, 21139, 34862, 22500,\n",
       "       20098, 20512, 11805, 23610, '10850.СЂРѕР·', 23495, 24561, 38197,\n",
       "       20747, 22365, 21086, 21108, 20960, 20465, 38230, 23281, 24817,\n",
       "       24818, 24359, 24369, 24371, 24361, 34850, 23311, 20250, 23344,\n",
       "       24280, '20704.Р·РµР»', 24054, 40195, 35858, 19331, 11806, 12988,\n",
       "       12987, 38185, 26223, 21384, 213841, 20340, 20630, 26378, 24318,\n",
       "       40058, 26203, 22948, 21368, 22119, 22954, 36033, 40064, 36065,\n",
       "       38198, 22117, 20208, 40941, 20363, 46602, '47510.Р»Р°Р№Рј', 24868,\n",
       "       24870, 24866, 26348, 36435, 19648, 21999, 46625, 15574, 36244,\n",
       "       33985, 12554, 18088, 20745, 26345, 11840, 21137, 21345, 46643,\n",
       "       46644, 24257, 20247, 22658, 21230, '24263.РјР°Р»', 23494, 17229,\n",
       "       17600, 18513, '48650.РіРѕР»', 23365, 14236, 24965, 33927, 33942,\n",
       "       24168, 17717, 15027, 22942, 26339, 18763, 24259, 11915, 24143,\n",
       "       22662, 21981, 22480, 13283, 26488, 20475, 20478, 35933, 35880,\n",
       "       35881, 22287, 12730, 21156, 21985, 23377, 24394, 20726, 19002,\n",
       "       24334, 24327, 25160, 15161, 15522, 26093, 25400, 26493, 46638,\n",
       "       '24647.С‡РµСЂРЅРёС‡', 34311, 24578, 36126, 34854, 33597, 33575,\n",
       "       19283, 21395, 20074, 51078, 10351, 11837, 26148, 22654, 26104,\n",
       "       20537, 40769, 36132, '10845.Р·РµР»', 33682, 19533, 50232, 26108,\n",
       "       18152, 48619, 47673, 47571, 34819, 23284, 23283, 37761, 20338,\n",
       "       23413, 21709, 21435, 12808, 18420, '24659.С‡РµСЂРЅРёС‡', 22953,\n",
       "       24857, 24363, 26098, 24173, 21830, 50682, 40199, 12989, 14326,\n",
       "       15152, 35276, 22941, 13272, 24878, 33926, 24067, 11335, 20784,\n",
       "       20771, 26244, 25266, 24575, 21193, 11334, 20224, 25057],\n",
       "      dtype=object)"
      ]
     },
     "execution_count": 8,
     "metadata": {},
     "output_type": "execute_result"
    }
   ],
   "source": [
    "data1['product_article'].unique()"
   ]
  },
  {
   "cell_type": "markdown",
   "metadata": {},
   "source": [
    "Можно заметить, что помимо отсутствующих данных, в массиве имеются также и поврежденные данные. Рассмотрим их детально."
   ]
  },
  {
   "cell_type": "code",
   "execution_count": 9,
   "metadata": {},
   "outputs": [
    {
     "data": {
      "text/html": [
       "<div>\n",
       "<style scoped>\n",
       "    .dataframe tbody tr th:only-of-type {\n",
       "        vertical-align: middle;\n",
       "    }\n",
       "\n",
       "    .dataframe tbody tr th {\n",
       "        vertical-align: top;\n",
       "    }\n",
       "\n",
       "    .dataframe thead th {\n",
       "        text-align: right;\n",
       "    }\n",
       "</style>\n",
       "<table border=\"1\" class=\"dataframe\">\n",
       "  <thead>\n",
       "    <tr style=\"text-align: right;\">\n",
       "      <th></th>\n",
       "      <th>client_retail_id</th>\n",
       "      <th>invoice_id</th>\n",
       "      <th>product_article</th>\n",
       "      <th>invoice_product_all_amount</th>\n",
       "      <th>invoice_product_price</th>\n",
       "      <th>shop_id</th>\n",
       "    </tr>\n",
       "  </thead>\n",
       "  <tbody>\n",
       "    <tr>\n",
       "      <th>239</th>\n",
       "      <td>661866</td>\n",
       "      <td>30968344</td>\n",
       "      <td>18554.10</td>\n",
       "      <td>1</td>\n",
       "      <td>236.0</td>\n",
       "      <td>54</td>\n",
       "    </tr>\n",
       "    <tr>\n",
       "      <th>373</th>\n",
       "      <td>603877</td>\n",
       "      <td>30967982</td>\n",
       "      <td>47378.Р»Р°Р№Рј</td>\n",
       "      <td>1</td>\n",
       "      <td>830.0</td>\n",
       "      <td>80</td>\n",
       "    </tr>\n",
       "    <tr>\n",
       "      <th>442</th>\n",
       "      <td>1439491</td>\n",
       "      <td>30964497</td>\n",
       "      <td>24656.С‡РµСЂРЅРёС‡</td>\n",
       "      <td>1</td>\n",
       "      <td>111.0</td>\n",
       "      <td>11</td>\n",
       "    </tr>\n",
       "    <tr>\n",
       "      <th>491</th>\n",
       "      <td>316502</td>\n",
       "      <td>30967857</td>\n",
       "      <td>19247.СЃРёРЅ</td>\n",
       "      <td>1</td>\n",
       "      <td>976.0</td>\n",
       "      <td>155</td>\n",
       "    </tr>\n",
       "    <tr>\n",
       "      <th>592</th>\n",
       "      <td>898568</td>\n",
       "      <td>30967949</td>\n",
       "      <td>10850.СЂРѕР·</td>\n",
       "      <td>1</td>\n",
       "      <td>970.0</td>\n",
       "      <td>88</td>\n",
       "    </tr>\n",
       "    <tr>\n",
       "      <th>635</th>\n",
       "      <td>1106433</td>\n",
       "      <td>30967932</td>\n",
       "      <td>20704.Р·РµР»</td>\n",
       "      <td>1</td>\n",
       "      <td>290.0</td>\n",
       "      <td>54</td>\n",
       "    </tr>\n",
       "    <tr>\n",
       "      <th>713</th>\n",
       "      <td>1707316</td>\n",
       "      <td>30964261</td>\n",
       "      <td>47510.Р»Р°Р№Рј</td>\n",
       "      <td>1</td>\n",
       "      <td>334.0</td>\n",
       "      <td>79</td>\n",
       "    </tr>\n",
       "    <tr>\n",
       "      <th>763</th>\n",
       "      <td>1731803</td>\n",
       "      <td>30967619</td>\n",
       "      <td>24263.РјР°Р»</td>\n",
       "      <td>1</td>\n",
       "      <td>397.0</td>\n",
       "      <td>55</td>\n",
       "    </tr>\n",
       "    <tr>\n",
       "      <th>771</th>\n",
       "      <td>1731807</td>\n",
       "      <td>30967616</td>\n",
       "      <td>48650.РіРѕР»</td>\n",
       "      <td>1</td>\n",
       "      <td>1004.0</td>\n",
       "      <td>28</td>\n",
       "    </tr>\n",
       "    <tr>\n",
       "      <th>880</th>\n",
       "      <td>1623222</td>\n",
       "      <td>30967771</td>\n",
       "      <td>24647.С‡РµСЂРЅРёС‡</td>\n",
       "      <td>1</td>\n",
       "      <td>1163.0</td>\n",
       "      <td>148</td>\n",
       "    </tr>\n",
       "    <tr>\n",
       "      <th>915</th>\n",
       "      <td>1468880</td>\n",
       "      <td>30967722</td>\n",
       "      <td>10845.Р·РµР»</td>\n",
       "      <td>1</td>\n",
       "      <td>1289.0</td>\n",
       "      <td>80</td>\n",
       "    </tr>\n",
       "    <tr>\n",
       "      <th>947</th>\n",
       "      <td>1098738</td>\n",
       "      <td>30964305</td>\n",
       "      <td>24659.С‡РµСЂРЅРёС‡</td>\n",
       "      <td>1</td>\n",
       "      <td>486.0</td>\n",
       "      <td>1</td>\n",
       "    </tr>\n",
       "  </tbody>\n",
       "</table>\n",
       "</div>"
      ],
      "text/plain": [
       "     client_retail_id  invoice_id     product_article  \\\n",
       "239            661866    30968344            18554.10   \n",
       "373            603877    30967982      47378.Р»Р°Р№Рј   \n",
       "442           1439491    30964497  24656.С‡РµСЂРЅРёС‡   \n",
       "491            316502    30967857        19247.СЃРёРЅ   \n",
       "592            898568    30967949        10850.СЂРѕР·   \n",
       "635           1106433    30967932        20704.Р·РµР»   \n",
       "713           1707316    30964261      47510.Р»Р°Р№Рј   \n",
       "763           1731803    30967619        24263.РјР°Р»   \n",
       "771           1731807    30967616        48650.РіРѕР»   \n",
       "880           1623222    30967771  24647.С‡РµСЂРЅРёС‡   \n",
       "915           1468880    30967722        10845.Р·РµР»   \n",
       "947           1098738    30964305  24659.С‡РµСЂРЅРёС‡   \n",
       "\n",
       "     invoice_product_all_amount  invoice_product_price  shop_id  \n",
       "239                           1                  236.0       54  \n",
       "373                           1                  830.0       80  \n",
       "442                           1                  111.0       11  \n",
       "491                           1                  976.0      155  \n",
       "592                           1                  970.0       88  \n",
       "635                           1                  290.0       54  \n",
       "713                           1                  334.0       79  \n",
       "763                           1                  397.0       55  \n",
       "771                           1                 1004.0       28  \n",
       "880                           1                 1163.0      148  \n",
       "915                           1                 1289.0       80  \n",
       "947                           1                  486.0        1  "
      ]
     },
     "execution_count": 9,
     "metadata": {},
     "output_type": "execute_result"
    }
   ],
   "source": [
    "data1[data1['product_article'].str.contains('.')==True]"
   ]
  },
  {
   "cell_type": "markdown",
   "metadata": {},
   "source": [
    "Создадим новый датафрейм, в котором обработаем некорректные данные и внедрим обратно качественные."
   ]
  },
  {
   "cell_type": "code",
   "execution_count": 10,
   "metadata": {},
   "outputs": [
    {
     "data": {
      "text/html": [
       "<div>\n",
       "<style scoped>\n",
       "    .dataframe tbody tr th:only-of-type {\n",
       "        vertical-align: middle;\n",
       "    }\n",
       "\n",
       "    .dataframe tbody tr th {\n",
       "        vertical-align: top;\n",
       "    }\n",
       "\n",
       "    .dataframe thead th {\n",
       "        text-align: right;\n",
       "    }\n",
       "</style>\n",
       "<table border=\"1\" class=\"dataframe\">\n",
       "  <thead>\n",
       "    <tr style=\"text-align: right;\">\n",
       "      <th></th>\n",
       "      <th>client_retail_id</th>\n",
       "      <th>invoice_id</th>\n",
       "      <th>product_article</th>\n",
       "      <th>invoice_product_all_amount</th>\n",
       "      <th>invoice_product_price</th>\n",
       "      <th>shop_id</th>\n",
       "    </tr>\n",
       "  </thead>\n",
       "  <tbody>\n",
       "    <tr>\n",
       "      <th>239</th>\n",
       "      <td>661866</td>\n",
       "      <td>30968344</td>\n",
       "      <td>18554.10</td>\n",
       "      <td>1</td>\n",
       "      <td>236.0</td>\n",
       "      <td>54</td>\n",
       "    </tr>\n",
       "    <tr>\n",
       "      <th>373</th>\n",
       "      <td>603877</td>\n",
       "      <td>30967982</td>\n",
       "      <td>47378.Р»Р°Р№Рј</td>\n",
       "      <td>1</td>\n",
       "      <td>830.0</td>\n",
       "      <td>80</td>\n",
       "    </tr>\n",
       "    <tr>\n",
       "      <th>442</th>\n",
       "      <td>1439491</td>\n",
       "      <td>30964497</td>\n",
       "      <td>24656.С‡РµСЂРЅРёС‡</td>\n",
       "      <td>1</td>\n",
       "      <td>111.0</td>\n",
       "      <td>11</td>\n",
       "    </tr>\n",
       "    <tr>\n",
       "      <th>491</th>\n",
       "      <td>316502</td>\n",
       "      <td>30967857</td>\n",
       "      <td>19247.СЃРёРЅ</td>\n",
       "      <td>1</td>\n",
       "      <td>976.0</td>\n",
       "      <td>155</td>\n",
       "    </tr>\n",
       "    <tr>\n",
       "      <th>592</th>\n",
       "      <td>898568</td>\n",
       "      <td>30967949</td>\n",
       "      <td>10850.СЂРѕР·</td>\n",
       "      <td>1</td>\n",
       "      <td>970.0</td>\n",
       "      <td>88</td>\n",
       "    </tr>\n",
       "    <tr>\n",
       "      <th>635</th>\n",
       "      <td>1106433</td>\n",
       "      <td>30967932</td>\n",
       "      <td>20704.Р·РµР»</td>\n",
       "      <td>1</td>\n",
       "      <td>290.0</td>\n",
       "      <td>54</td>\n",
       "    </tr>\n",
       "    <tr>\n",
       "      <th>713</th>\n",
       "      <td>1707316</td>\n",
       "      <td>30964261</td>\n",
       "      <td>47510.Р»Р°Р№Рј</td>\n",
       "      <td>1</td>\n",
       "      <td>334.0</td>\n",
       "      <td>79</td>\n",
       "    </tr>\n",
       "    <tr>\n",
       "      <th>763</th>\n",
       "      <td>1731803</td>\n",
       "      <td>30967619</td>\n",
       "      <td>24263.РјР°Р»</td>\n",
       "      <td>1</td>\n",
       "      <td>397.0</td>\n",
       "      <td>55</td>\n",
       "    </tr>\n",
       "    <tr>\n",
       "      <th>771</th>\n",
       "      <td>1731807</td>\n",
       "      <td>30967616</td>\n",
       "      <td>48650.РіРѕР»</td>\n",
       "      <td>1</td>\n",
       "      <td>1004.0</td>\n",
       "      <td>28</td>\n",
       "    </tr>\n",
       "    <tr>\n",
       "      <th>880</th>\n",
       "      <td>1623222</td>\n",
       "      <td>30967771</td>\n",
       "      <td>24647.С‡РµСЂРЅРёС‡</td>\n",
       "      <td>1</td>\n",
       "      <td>1163.0</td>\n",
       "      <td>148</td>\n",
       "    </tr>\n",
       "    <tr>\n",
       "      <th>915</th>\n",
       "      <td>1468880</td>\n",
       "      <td>30967722</td>\n",
       "      <td>10845.Р·РµР»</td>\n",
       "      <td>1</td>\n",
       "      <td>1289.0</td>\n",
       "      <td>80</td>\n",
       "    </tr>\n",
       "    <tr>\n",
       "      <th>947</th>\n",
       "      <td>1098738</td>\n",
       "      <td>30964305</td>\n",
       "      <td>24659.С‡РµСЂРЅРёС‡</td>\n",
       "      <td>1</td>\n",
       "      <td>486.0</td>\n",
       "      <td>1</td>\n",
       "    </tr>\n",
       "  </tbody>\n",
       "</table>\n",
       "</div>"
      ],
      "text/plain": [
       "     client_retail_id  invoice_id     product_article  \\\n",
       "239            661866    30968344            18554.10   \n",
       "373            603877    30967982      47378.Р»Р°Р№Рј   \n",
       "442           1439491    30964497  24656.С‡РµСЂРЅРёС‡   \n",
       "491            316502    30967857        19247.СЃРёРЅ   \n",
       "592            898568    30967949        10850.СЂРѕР·   \n",
       "635           1106433    30967932        20704.Р·РµР»   \n",
       "713           1707316    30964261      47510.Р»Р°Р№Рј   \n",
       "763           1731803    30967619        24263.РјР°Р»   \n",
       "771           1731807    30967616        48650.РіРѕР»   \n",
       "880           1623222    30967771  24647.С‡РµСЂРЅРёС‡   \n",
       "915           1468880    30967722        10845.Р·РµР»   \n",
       "947           1098738    30964305  24659.С‡РµСЂРЅРёС‡   \n",
       "\n",
       "     invoice_product_all_amount  invoice_product_price  shop_id  \n",
       "239                           1                  236.0       54  \n",
       "373                           1                  830.0       80  \n",
       "442                           1                  111.0       11  \n",
       "491                           1                  976.0      155  \n",
       "592                           1                  970.0       88  \n",
       "635                           1                  290.0       54  \n",
       "713                           1                  334.0       79  \n",
       "763                           1                  397.0       55  \n",
       "771                           1                 1004.0       28  \n",
       "880                           1                 1163.0      148  \n",
       "915                           1                 1289.0       80  \n",
       "947                           1                  486.0        1  "
      ]
     },
     "execution_count": 10,
     "metadata": {},
     "output_type": "execute_result"
    }
   ],
   "source": [
    "df = data1[data1['product_article'].str.contains('.')==True]\n",
    "df"
   ]
  },
  {
   "cell_type": "markdown",
   "metadata": {},
   "source": [
    "У ошибок имеется определенный паттерн, очевидно, после артикула идёт посторонний текст. Поделим датафрейм на 2 столбца и отделим артикул от \"мусора\"."
   ]
  },
  {
   "cell_type": "code",
   "execution_count": 11,
   "metadata": {},
   "outputs": [
    {
     "data": {
      "text/html": [
       "<div>\n",
       "<style scoped>\n",
       "    .dataframe tbody tr th:only-of-type {\n",
       "        vertical-align: middle;\n",
       "    }\n",
       "\n",
       "    .dataframe tbody tr th {\n",
       "        vertical-align: top;\n",
       "    }\n",
       "\n",
       "    .dataframe thead th {\n",
       "        text-align: right;\n",
       "    }\n",
       "</style>\n",
       "<table border=\"1\" class=\"dataframe\">\n",
       "  <thead>\n",
       "    <tr style=\"text-align: right;\">\n",
       "      <th></th>\n",
       "      <th>number</th>\n",
       "      <th>broke</th>\n",
       "    </tr>\n",
       "  </thead>\n",
       "  <tbody>\n",
       "    <tr>\n",
       "      <th>239</th>\n",
       "      <td>18554</td>\n",
       "      <td>10</td>\n",
       "    </tr>\n",
       "    <tr>\n",
       "      <th>373</th>\n",
       "      <td>47378</td>\n",
       "      <td>Р»Р°Р№Рј</td>\n",
       "    </tr>\n",
       "    <tr>\n",
       "      <th>442</th>\n",
       "      <td>24656</td>\n",
       "      <td>С‡РµСЂРЅРёС‡</td>\n",
       "    </tr>\n",
       "    <tr>\n",
       "      <th>491</th>\n",
       "      <td>19247</td>\n",
       "      <td>СЃРёРЅ</td>\n",
       "    </tr>\n",
       "    <tr>\n",
       "      <th>592</th>\n",
       "      <td>10850</td>\n",
       "      <td>СЂРѕР·</td>\n",
       "    </tr>\n",
       "    <tr>\n",
       "      <th>635</th>\n",
       "      <td>20704</td>\n",
       "      <td>Р·РµР»</td>\n",
       "    </tr>\n",
       "    <tr>\n",
       "      <th>713</th>\n",
       "      <td>47510</td>\n",
       "      <td>Р»Р°Р№Рј</td>\n",
       "    </tr>\n",
       "    <tr>\n",
       "      <th>763</th>\n",
       "      <td>24263</td>\n",
       "      <td>РјР°Р»</td>\n",
       "    </tr>\n",
       "    <tr>\n",
       "      <th>771</th>\n",
       "      <td>48650</td>\n",
       "      <td>РіРѕР»</td>\n",
       "    </tr>\n",
       "    <tr>\n",
       "      <th>880</th>\n",
       "      <td>24647</td>\n",
       "      <td>С‡РµСЂРЅРёС‡</td>\n",
       "    </tr>\n",
       "    <tr>\n",
       "      <th>915</th>\n",
       "      <td>10845</td>\n",
       "      <td>Р·РµР»</td>\n",
       "    </tr>\n",
       "    <tr>\n",
       "      <th>947</th>\n",
       "      <td>24659</td>\n",
       "      <td>С‡РµСЂРЅРёС‡</td>\n",
       "    </tr>\n",
       "  </tbody>\n",
       "</table>\n",
       "</div>"
      ],
      "text/plain": [
       "    number         broke\n",
       "239  18554            10\n",
       "373  47378      Р»Р°Р№Рј\n",
       "442  24656  С‡РµСЂРЅРёС‡\n",
       "491  19247        СЃРёРЅ\n",
       "592  10850        СЂРѕР·\n",
       "635  20704        Р·РµР»\n",
       "713  47510      Р»Р°Р№Рј\n",
       "763  24263        РјР°Р»\n",
       "771  48650        РіРѕР»\n",
       "880  24647  С‡РµСЂРЅРёС‡\n",
       "915  10845        Р·РµР»\n",
       "947  24659  С‡РµСЂРЅРёС‡"
      ]
     },
     "execution_count": 11,
     "metadata": {},
     "output_type": "execute_result"
    }
   ],
   "source": [
    "df = df.product_article.str.split('.',expand=True)\n",
    "df.columns = ['number', 'broke']\n",
    "df"
   ]
  },
  {
   "cell_type": "markdown",
   "metadata": {},
   "source": [
    "Удалим столбец с \"мусором\" и внедрим очищенные данные в первоначальную таблицу."
   ]
  },
  {
   "cell_type": "code",
   "execution_count": 12,
   "metadata": {},
   "outputs": [
    {
     "data": {
      "text/html": [
       "<div>\n",
       "<style scoped>\n",
       "    .dataframe tbody tr th:only-of-type {\n",
       "        vertical-align: middle;\n",
       "    }\n",
       "\n",
       "    .dataframe tbody tr th {\n",
       "        vertical-align: top;\n",
       "    }\n",
       "\n",
       "    .dataframe thead th {\n",
       "        text-align: right;\n",
       "    }\n",
       "</style>\n",
       "<table border=\"1\" class=\"dataframe\">\n",
       "  <thead>\n",
       "    <tr style=\"text-align: right;\">\n",
       "      <th></th>\n",
       "      <th>number</th>\n",
       "    </tr>\n",
       "  </thead>\n",
       "  <tbody>\n",
       "    <tr>\n",
       "      <th>239</th>\n",
       "      <td>18554</td>\n",
       "    </tr>\n",
       "    <tr>\n",
       "      <th>373</th>\n",
       "      <td>47378</td>\n",
       "    </tr>\n",
       "    <tr>\n",
       "      <th>442</th>\n",
       "      <td>24656</td>\n",
       "    </tr>\n",
       "    <tr>\n",
       "      <th>491</th>\n",
       "      <td>19247</td>\n",
       "    </tr>\n",
       "    <tr>\n",
       "      <th>592</th>\n",
       "      <td>10850</td>\n",
       "    </tr>\n",
       "    <tr>\n",
       "      <th>635</th>\n",
       "      <td>20704</td>\n",
       "    </tr>\n",
       "    <tr>\n",
       "      <th>713</th>\n",
       "      <td>47510</td>\n",
       "    </tr>\n",
       "    <tr>\n",
       "      <th>763</th>\n",
       "      <td>24263</td>\n",
       "    </tr>\n",
       "    <tr>\n",
       "      <th>771</th>\n",
       "      <td>48650</td>\n",
       "    </tr>\n",
       "    <tr>\n",
       "      <th>880</th>\n",
       "      <td>24647</td>\n",
       "    </tr>\n",
       "    <tr>\n",
       "      <th>915</th>\n",
       "      <td>10845</td>\n",
       "    </tr>\n",
       "    <tr>\n",
       "      <th>947</th>\n",
       "      <td>24659</td>\n",
       "    </tr>\n",
       "  </tbody>\n",
       "</table>\n",
       "</div>"
      ],
      "text/plain": [
       "    number\n",
       "239  18554\n",
       "373  47378\n",
       "442  24656\n",
       "491  19247\n",
       "592  10850\n",
       "635  20704\n",
       "713  47510\n",
       "763  24263\n",
       "771  48650\n",
       "880  24647\n",
       "915  10845\n",
       "947  24659"
      ]
     },
     "execution_count": 12,
     "metadata": {},
     "output_type": "execute_result"
    }
   ],
   "source": [
    "df = df.drop(['broke'], axis='columns')\n",
    "df"
   ]
  },
  {
   "cell_type": "markdown",
   "metadata": {},
   "source": [
    "Выведем индексы данных для внедрения"
   ]
  },
  {
   "cell_type": "code",
   "execution_count": 13,
   "metadata": {},
   "outputs": [
    {
     "data": {
      "text/plain": [
       "Int64Index([239, 373, 442, 491, 592, 635, 713, 763, 771, 880, 915, 947], dtype='int64')"
      ]
     },
     "execution_count": 13,
     "metadata": {},
     "output_type": "execute_result"
    }
   ],
   "source": [
    "ind = df.index\n",
    "ind"
   ]
  },
  {
   "cell_type": "markdown",
   "metadata": {},
   "source": [
    "Добавим их в отдельный лист"
   ]
  },
  {
   "cell_type": "code",
   "execution_count": 14,
   "metadata": {},
   "outputs": [
    {
     "data": {
      "text/plain": [
       "[239, 373, 442, 491, 592, 635, 713, 763, 771, 880, 915, 947]"
      ]
     },
     "execution_count": 14,
     "metadata": {},
     "output_type": "execute_result"
    }
   ],
   "source": [
    "a =[i for i in ind]\n",
    "a"
   ]
  },
  {
   "cell_type": "markdown",
   "metadata": {},
   "source": [
    "Теперь произведем замену испорченных данных под этими индексами на очищенные."
   ]
  },
  {
   "cell_type": "code",
   "execution_count": 15,
   "metadata": {},
   "outputs": [
    {
     "data": {
      "text/plain": [
       "239    18554\n",
       "373    47378\n",
       "442    24656\n",
       "491    19247\n",
       "592    10850\n",
       "635    20704\n",
       "713    47510\n",
       "763    24263\n",
       "771    48650\n",
       "880    24647\n",
       "915    10845\n",
       "947    24659\n",
       "Name: product_article, dtype: object"
      ]
     },
     "execution_count": 15,
     "metadata": {},
     "output_type": "execute_result"
    }
   ],
   "source": [
    "data1.iloc[a,2] = df.iloc[:,0]\n",
    "data1.iloc[a,2]"
   ]
  },
  {
   "cell_type": "markdown",
   "metadata": {},
   "source": [
    "Чтобы начать работу с типом данных в столбце, для начала обработаем отсутсвующие данные.\n",
    "Это можно сделать несколькими способами, например удалить или заменить."
   ]
  },
  {
   "cell_type": "markdown",
   "metadata": {},
   "source": [
    "### Обработка отсутствующих данных."
   ]
  },
  {
   "cell_type": "markdown",
   "metadata": {},
   "source": [
    "Рассмотрим отсутствующие данные в нашем датафрейме."
   ]
  },
  {
   "cell_type": "code",
   "execution_count": 16,
   "metadata": {},
   "outputs": [
    {
     "data": {
      "text/html": [
       "<div>\n",
       "<style scoped>\n",
       "    .dataframe tbody tr th:only-of-type {\n",
       "        vertical-align: middle;\n",
       "    }\n",
       "\n",
       "    .dataframe tbody tr th {\n",
       "        vertical-align: top;\n",
       "    }\n",
       "\n",
       "    .dataframe thead th {\n",
       "        text-align: right;\n",
       "    }\n",
       "</style>\n",
       "<table border=\"1\" class=\"dataframe\">\n",
       "  <thead>\n",
       "    <tr style=\"text-align: right;\">\n",
       "      <th></th>\n",
       "      <th>client_retail_id</th>\n",
       "      <th>invoice_id</th>\n",
       "      <th>product_article</th>\n",
       "      <th>invoice_product_all_amount</th>\n",
       "      <th>invoice_product_price</th>\n",
       "      <th>shop_id</th>\n",
       "    </tr>\n",
       "  </thead>\n",
       "  <tbody>\n",
       "    <tr>\n",
       "      <th>75</th>\n",
       "      <td>975628</td>\n",
       "      <td>30964838</td>\n",
       "      <td>NaN</td>\n",
       "      <td>1</td>\n",
       "      <td>135.0</td>\n",
       "      <td>31</td>\n",
       "    </tr>\n",
       "    <tr>\n",
       "      <th>169</th>\n",
       "      <td>870725</td>\n",
       "      <td>30964967</td>\n",
       "      <td>20255</td>\n",
       "      <td>2</td>\n",
       "      <td>NaN</td>\n",
       "      <td>32</td>\n",
       "    </tr>\n",
       "    <tr>\n",
       "      <th>180</th>\n",
       "      <td>1731855</td>\n",
       "      <td>30968428</td>\n",
       "      <td>NaN</td>\n",
       "      <td>1</td>\n",
       "      <td>3.0</td>\n",
       "      <td>103</td>\n",
       "    </tr>\n",
       "    <tr>\n",
       "      <th>237</th>\n",
       "      <td>1534281</td>\n",
       "      <td>30968346</td>\n",
       "      <td>14642</td>\n",
       "      <td>1</td>\n",
       "      <td>NaN</td>\n",
       "      <td>25</td>\n",
       "    </tr>\n",
       "    <tr>\n",
       "      <th>291</th>\n",
       "      <td>476172</td>\n",
       "      <td>30964625</td>\n",
       "      <td>35901</td>\n",
       "      <td>5</td>\n",
       "      <td>NaN</td>\n",
       "      <td>8</td>\n",
       "    </tr>\n",
       "    <tr>\n",
       "      <th>311</th>\n",
       "      <td>1248851</td>\n",
       "      <td>30968010</td>\n",
       "      <td>NaN</td>\n",
       "      <td>5</td>\n",
       "      <td>32.0</td>\n",
       "      <td>245</td>\n",
       "    </tr>\n",
       "    <tr>\n",
       "      <th>316</th>\n",
       "      <td>723731</td>\n",
       "      <td>30968007</td>\n",
       "      <td>24328</td>\n",
       "      <td>1</td>\n",
       "      <td>NaN</td>\n",
       "      <td>245</td>\n",
       "    </tr>\n",
       "    <tr>\n",
       "      <th>431</th>\n",
       "      <td>1594100</td>\n",
       "      <td>30964647</td>\n",
       "      <td>NaN</td>\n",
       "      <td>5</td>\n",
       "      <td>20.0</td>\n",
       "      <td>14</td>\n",
       "    </tr>\n",
       "    <tr>\n",
       "      <th>434</th>\n",
       "      <td>1588657</td>\n",
       "      <td>30967911</td>\n",
       "      <td>26495</td>\n",
       "      <td>1</td>\n",
       "      <td>NaN</td>\n",
       "      <td>29</td>\n",
       "    </tr>\n",
       "    <tr>\n",
       "      <th>542</th>\n",
       "      <td>451899</td>\n",
       "      <td>30964410</td>\n",
       "      <td>NaN</td>\n",
       "      <td>1</td>\n",
       "      <td>361.0</td>\n",
       "      <td>223</td>\n",
       "    </tr>\n",
       "    <tr>\n",
       "      <th>674</th>\n",
       "      <td>1672115</td>\n",
       "      <td>30964293</td>\n",
       "      <td>NaN</td>\n",
       "      <td>3</td>\n",
       "      <td>93.0</td>\n",
       "      <td>148</td>\n",
       "    </tr>\n",
       "    <tr>\n",
       "      <th>678</th>\n",
       "      <td>1657009</td>\n",
       "      <td>30964288</td>\n",
       "      <td>21217</td>\n",
       "      <td>1</td>\n",
       "      <td>NaN</td>\n",
       "      <td>28</td>\n",
       "    </tr>\n",
       "    <tr>\n",
       "      <th>738</th>\n",
       "      <td>1670144</td>\n",
       "      <td>30967640</td>\n",
       "      <td>33985</td>\n",
       "      <td>1</td>\n",
       "      <td>NaN</td>\n",
       "      <td>87</td>\n",
       "    </tr>\n",
       "    <tr>\n",
       "      <th>785</th>\n",
       "      <td>1654610</td>\n",
       "      <td>30964211</td>\n",
       "      <td>NaN</td>\n",
       "      <td>1</td>\n",
       "      <td>40.0</td>\n",
       "      <td>24</td>\n",
       "    </tr>\n",
       "    <tr>\n",
       "      <th>875</th>\n",
       "      <td>991954</td>\n",
       "      <td>30967784</td>\n",
       "      <td>NaN</td>\n",
       "      <td>1</td>\n",
       "      <td>107.0</td>\n",
       "      <td>155</td>\n",
       "    </tr>\n",
       "    <tr>\n",
       "      <th>910</th>\n",
       "      <td>1572428</td>\n",
       "      <td>30967724</td>\n",
       "      <td>24359</td>\n",
       "      <td>1</td>\n",
       "      <td>NaN</td>\n",
       "      <td>184</td>\n",
       "    </tr>\n",
       "    <tr>\n",
       "      <th>986</th>\n",
       "      <td>1731600</td>\n",
       "      <td>30963892</td>\n",
       "      <td>NaN</td>\n",
       "      <td>1</td>\n",
       "      <td>99.0</td>\n",
       "      <td>113</td>\n",
       "    </tr>\n",
       "  </tbody>\n",
       "</table>\n",
       "</div>"
      ],
      "text/plain": [
       "     client_retail_id  invoice_id product_article  invoice_product_all_amount  \\\n",
       "75             975628    30964838             NaN                           1   \n",
       "169            870725    30964967           20255                           2   \n",
       "180           1731855    30968428             NaN                           1   \n",
       "237           1534281    30968346           14642                           1   \n",
       "291            476172    30964625           35901                           5   \n",
       "311           1248851    30968010             NaN                           5   \n",
       "316            723731    30968007           24328                           1   \n",
       "431           1594100    30964647             NaN                           5   \n",
       "434           1588657    30967911           26495                           1   \n",
       "542            451899    30964410             NaN                           1   \n",
       "674           1672115    30964293             NaN                           3   \n",
       "678           1657009    30964288           21217                           1   \n",
       "738           1670144    30967640           33985                           1   \n",
       "785           1654610    30964211             NaN                           1   \n",
       "875            991954    30967784             NaN                           1   \n",
       "910           1572428    30967724           24359                           1   \n",
       "986           1731600    30963892             NaN                           1   \n",
       "\n",
       "     invoice_product_price  shop_id  \n",
       "75                   135.0       31  \n",
       "169                    NaN       32  \n",
       "180                    3.0      103  \n",
       "237                    NaN       25  \n",
       "291                    NaN        8  \n",
       "311                   32.0      245  \n",
       "316                    NaN      245  \n",
       "431                   20.0       14  \n",
       "434                    NaN       29  \n",
       "542                  361.0      223  \n",
       "674                   93.0      148  \n",
       "678                    NaN       28  \n",
       "738                    NaN       87  \n",
       "785                   40.0       24  \n",
       "875                  107.0      155  \n",
       "910                    NaN      184  \n",
       "986                   99.0      113  "
      ]
     },
     "execution_count": 16,
     "metadata": {},
     "output_type": "execute_result"
    }
   ],
   "source": [
    "data1[(data1[['product_article','invoice_product_price']]).isnull().values]"
   ]
  },
  {
   "cell_type": "markdown",
   "metadata": {},
   "source": [
    "Как можно заметить, заменить артикул товара средним по столбцу или иным заметилем не имеет большого смысла. Поэтому строки с отсутсвующими данными по столбцу \"product_article\" придется удалить. А вот тсутсвующие данные в столбце \"invoice_product_price\", в свою очередь можно заменить, на среднее значение с учётом количества товаров в чеке.\n",
    "Начнем работу со столбцом артикула."
   ]
  },
  {
   "cell_type": "markdown",
   "metadata": {},
   "source": [
    "### Удаляем отсутсвующие данные "
   ]
  },
  {
   "cell_type": "code",
   "execution_count": 17,
   "metadata": {},
   "outputs": [],
   "source": [
    "data1.dropna(subset=['product_article'],inplace=True)"
   ]
  },
  {
   "cell_type": "markdown",
   "metadata": {},
   "source": [
    "Проверяем, действительно ли все удалилось"
   ]
  },
  {
   "cell_type": "code",
   "execution_count": 18,
   "metadata": {},
   "outputs": [
    {
     "data": {
      "text/plain": [
       "0"
      ]
     },
     "execution_count": 18,
     "metadata": {},
     "output_type": "execute_result"
    }
   ],
   "source": [
    "data1['product_article'].isna().sum()"
   ]
  },
  {
   "cell_type": "markdown",
   "metadata": {},
   "source": [
    "Действительно, строки с отсутсвующими данными в столбце артикула удалены. Приступаем к работе с типом данных."
   ]
  },
  {
   "cell_type": "markdown",
   "metadata": {},
   "source": [
    "### Восстанавливаем тип данных столбца артикулов"
   ]
  },
  {
   "cell_type": "code",
   "execution_count": 19,
   "metadata": {},
   "outputs": [
    {
     "data": {
      "text/plain": [
       "client_retail_id                int64\n",
       "invoice_id                      int64\n",
       "product_article                object\n",
       "invoice_product_all_amount      int64\n",
       "invoice_product_price         float64\n",
       "shop_id                         int64\n",
       "dtype: object"
      ]
     },
     "execution_count": 19,
     "metadata": {},
     "output_type": "execute_result"
    }
   ],
   "source": [
    "data1.dtypes"
   ]
  },
  {
   "cell_type": "code",
   "execution_count": 20,
   "metadata": {},
   "outputs": [],
   "source": [
    "data1['product_article'] = data1['product_article'].astype(\"int64\")"
   ]
  },
  {
   "cell_type": "code",
   "execution_count": 21,
   "metadata": {},
   "outputs": [
    {
     "data": {
      "text/plain": [
       "client_retail_id                int64\n",
       "invoice_id                      int64\n",
       "product_article                 int64\n",
       "invoice_product_all_amount      int64\n",
       "invoice_product_price         float64\n",
       "shop_id                         int64\n",
       "dtype: object"
      ]
     },
     "execution_count": 21,
     "metadata": {},
     "output_type": "execute_result"
    }
   ],
   "source": [
    "data1.dtypes"
   ]
  },
  {
   "cell_type": "markdown",
   "metadata": {},
   "source": [
    "Этой манипуляцией мы проверили, что больше нет ограничений в возможности манипуляции данными. При этом у нас нет предпосылок оставлять столбцы product_article и shop_id, а также client_retail_id, int64, invoice_id как целочисленные, ведь они являются качественными показателями. Поэтому сменим обратно на строковый формат."
   ]
  },
  {
   "cell_type": "code",
   "execution_count": 22,
   "metadata": {},
   "outputs": [],
   "source": [
    "data1[['client_retail_id', 'invoice_id', 'product_article','shop_id']] = data1[['client_retail_id', 'invoice_id', 'product_article','shop_id']].astype(\"object\")"
   ]
  },
  {
   "cell_type": "code",
   "execution_count": 23,
   "metadata": {},
   "outputs": [
    {
     "data": {
      "text/plain": [
       "client_retail_id               object\n",
       "invoice_id                     object\n",
       "product_article                object\n",
       "invoice_product_all_amount      int64\n",
       "invoice_product_price         float64\n",
       "shop_id                        object\n",
       "dtype: object"
      ]
     },
     "execution_count": 23,
     "metadata": {},
     "output_type": "execute_result"
    }
   ],
   "source": [
    "data1.dtypes"
   ]
  },
  {
   "cell_type": "markdown",
   "metadata": {},
   "source": [
    "### Обработаем отсутствующие данные столбца invoice_product_price"
   ]
  },
  {
   "cell_type": "code",
   "execution_count": 24,
   "metadata": {},
   "outputs": [
    {
     "data": {
      "text/plain": [
       "client_retail_id              0\n",
       "invoice_id                    0\n",
       "product_article               0\n",
       "invoice_product_all_amount    0\n",
       "invoice_product_price         8\n",
       "shop_id                       0\n",
       "dtype: int64"
      ]
     },
     "execution_count": 24,
     "metadata": {},
     "output_type": "execute_result"
    }
   ],
   "source": [
    "data1.isna().sum()"
   ]
  },
  {
   "cell_type": "markdown",
   "metadata": {},
   "source": [
    "Таковых имеется 8 штук. Создадим дополнительный датафрейм и будем работать в нём."
   ]
  },
  {
   "cell_type": "code",
   "execution_count": 25,
   "metadata": {},
   "outputs": [
    {
     "data": {
      "text/html": [
       "<div>\n",
       "<style scoped>\n",
       "    .dataframe tbody tr th:only-of-type {\n",
       "        vertical-align: middle;\n",
       "    }\n",
       "\n",
       "    .dataframe tbody tr th {\n",
       "        vertical-align: top;\n",
       "    }\n",
       "\n",
       "    .dataframe thead th {\n",
       "        text-align: right;\n",
       "    }\n",
       "</style>\n",
       "<table border=\"1\" class=\"dataframe\">\n",
       "  <thead>\n",
       "    <tr style=\"text-align: right;\">\n",
       "      <th></th>\n",
       "      <th>client_retail_id</th>\n",
       "      <th>invoice_id</th>\n",
       "      <th>product_article</th>\n",
       "      <th>invoice_product_all_amount</th>\n",
       "      <th>invoice_product_price</th>\n",
       "      <th>shop_id</th>\n",
       "    </tr>\n",
       "  </thead>\n",
       "  <tbody>\n",
       "    <tr>\n",
       "      <th>169</th>\n",
       "      <td>870725</td>\n",
       "      <td>30964967</td>\n",
       "      <td>20255</td>\n",
       "      <td>2</td>\n",
       "      <td>NaN</td>\n",
       "      <td>32</td>\n",
       "    </tr>\n",
       "    <tr>\n",
       "      <th>237</th>\n",
       "      <td>1534281</td>\n",
       "      <td>30968346</td>\n",
       "      <td>14642</td>\n",
       "      <td>1</td>\n",
       "      <td>NaN</td>\n",
       "      <td>25</td>\n",
       "    </tr>\n",
       "    <tr>\n",
       "      <th>291</th>\n",
       "      <td>476172</td>\n",
       "      <td>30964625</td>\n",
       "      <td>35901</td>\n",
       "      <td>5</td>\n",
       "      <td>NaN</td>\n",
       "      <td>8</td>\n",
       "    </tr>\n",
       "    <tr>\n",
       "      <th>316</th>\n",
       "      <td>723731</td>\n",
       "      <td>30968007</td>\n",
       "      <td>24328</td>\n",
       "      <td>1</td>\n",
       "      <td>NaN</td>\n",
       "      <td>245</td>\n",
       "    </tr>\n",
       "    <tr>\n",
       "      <th>434</th>\n",
       "      <td>1588657</td>\n",
       "      <td>30967911</td>\n",
       "      <td>26495</td>\n",
       "      <td>1</td>\n",
       "      <td>NaN</td>\n",
       "      <td>29</td>\n",
       "    </tr>\n",
       "    <tr>\n",
       "      <th>678</th>\n",
       "      <td>1657009</td>\n",
       "      <td>30964288</td>\n",
       "      <td>21217</td>\n",
       "      <td>1</td>\n",
       "      <td>NaN</td>\n",
       "      <td>28</td>\n",
       "    </tr>\n",
       "    <tr>\n",
       "      <th>738</th>\n",
       "      <td>1670144</td>\n",
       "      <td>30967640</td>\n",
       "      <td>33985</td>\n",
       "      <td>1</td>\n",
       "      <td>NaN</td>\n",
       "      <td>87</td>\n",
       "    </tr>\n",
       "    <tr>\n",
       "      <th>910</th>\n",
       "      <td>1572428</td>\n",
       "      <td>30967724</td>\n",
       "      <td>24359</td>\n",
       "      <td>1</td>\n",
       "      <td>NaN</td>\n",
       "      <td>184</td>\n",
       "    </tr>\n",
       "  </tbody>\n",
       "</table>\n",
       "</div>"
      ],
      "text/plain": [
       "    client_retail_id invoice_id product_article  invoice_product_all_amount  \\\n",
       "169           870725   30964967           20255                           2   \n",
       "237          1534281   30968346           14642                           1   \n",
       "291           476172   30964625           35901                           5   \n",
       "316           723731   30968007           24328                           1   \n",
       "434          1588657   30967911           26495                           1   \n",
       "678          1657009   30964288           21217                           1   \n",
       "738          1670144   30967640           33985                           1   \n",
       "910          1572428   30967724           24359                           1   \n",
       "\n",
       "     invoice_product_price shop_id  \n",
       "169                    NaN      32  \n",
       "237                    NaN      25  \n",
       "291                    NaN       8  \n",
       "316                    NaN     245  \n",
       "434                    NaN      29  \n",
       "678                    NaN      28  \n",
       "738                    NaN      87  \n",
       "910                    NaN     184  "
      ]
     },
     "execution_count": 25,
     "metadata": {},
     "output_type": "execute_result"
    }
   ],
   "source": [
    "df1 = data1[(data1['invoice_product_price']).isnull().values]\n",
    "df1"
   ]
  },
  {
   "cell_type": "markdown",
   "metadata": {},
   "source": [
    "Сохраним индексы для дальнейшего внедрения новых данных"
   ]
  },
  {
   "cell_type": "code",
   "execution_count": 26,
   "metadata": {},
   "outputs": [
    {
     "data": {
      "text/plain": [
       "[169, 237, 291, 316, 434, 678, 738, 910]"
      ]
     },
     "execution_count": 26,
     "metadata": {},
     "output_type": "execute_result"
    }
   ],
   "source": [
    "ind1 = [i for i in df1.index]\n",
    "ind1"
   ]
  },
  {
   "cell_type": "markdown",
   "metadata": {},
   "source": [
    "Сохраним артикулы товаров, чтобы узнать среднюю цену по артикулу"
   ]
  },
  {
   "cell_type": "code",
   "execution_count": 27,
   "metadata": {},
   "outputs": [
    {
     "data": {
      "text/plain": [
       "[20255, 14642, 35901, 24328, 26495, 21217, 33985, 24359]"
      ]
     },
     "execution_count": 27,
     "metadata": {},
     "output_type": "execute_result"
    }
   ],
   "source": [
    "art_df = df1.loc[:,'product_article'].to_frame()\n",
    "art_df\n",
    "d = [i for i in art_df['product_article']]\n",
    "d"
   ]
  },
  {
   "cell_type": "markdown",
   "metadata": {},
   "source": [
    "Создадим новый датафрейм для того чтобы узнать среднюю цену по артикулу"
   ]
  },
  {
   "cell_type": "code",
   "execution_count": 28,
   "metadata": {},
   "outputs": [],
   "source": [
    "art_df1 = pd.DataFrame()\n",
    "for i in d:\n",
    "    art_df1 = art_df1.append(data1[data1['product_article'] == i])"
   ]
  },
  {
   "cell_type": "code",
   "execution_count": 29,
   "metadata": {},
   "outputs": [],
   "source": [
    "art_df1 = art_df1.groupby('product_article').mean()"
   ]
  },
  {
   "cell_type": "code",
   "execution_count": 30,
   "metadata": {},
   "outputs": [
    {
     "data": {
      "text/html": [
       "<div>\n",
       "<style scoped>\n",
       "    .dataframe tbody tr th:only-of-type {\n",
       "        vertical-align: middle;\n",
       "    }\n",
       "\n",
       "    .dataframe tbody tr th {\n",
       "        vertical-align: top;\n",
       "    }\n",
       "\n",
       "    .dataframe thead th {\n",
       "        text-align: right;\n",
       "    }\n",
       "</style>\n",
       "<table border=\"1\" class=\"dataframe\">\n",
       "  <thead>\n",
       "    <tr style=\"text-align: right;\">\n",
       "      <th></th>\n",
       "      <th>invoice_product_all_amount</th>\n",
       "      <th>invoice_product_price</th>\n",
       "    </tr>\n",
       "    <tr>\n",
       "      <th>product_article</th>\n",
       "      <th></th>\n",
       "      <th></th>\n",
       "    </tr>\n",
       "  </thead>\n",
       "  <tbody>\n",
       "    <tr>\n",
       "      <th>20255</th>\n",
       "      <td>1.500000</td>\n",
       "      <td>117.0</td>\n",
       "    </tr>\n",
       "    <tr>\n",
       "      <th>21217</th>\n",
       "      <td>1.000000</td>\n",
       "      <td>837.5</td>\n",
       "    </tr>\n",
       "    <tr>\n",
       "      <th>24359</th>\n",
       "      <td>1.666667</td>\n",
       "      <td>77.5</td>\n",
       "    </tr>\n",
       "    <tr>\n",
       "      <th>26495</th>\n",
       "      <td>1.000000</td>\n",
       "      <td>77.0</td>\n",
       "    </tr>\n",
       "  </tbody>\n",
       "</table>\n",
       "</div>"
      ],
      "text/plain": [
       "                 invoice_product_all_amount  invoice_product_price\n",
       "product_article                                                   \n",
       "20255                              1.500000                  117.0\n",
       "21217                              1.000000                  837.5\n",
       "24359                              1.666667                   77.5\n",
       "26495                              1.000000                   77.0"
      ]
     },
     "execution_count": 30,
     "metadata": {},
     "output_type": "execute_result"
    }
   ],
   "source": [
    "notnull = art_df1[art_df1['invoice_product_price'].notnull()]\n",
    "notnull"
   ]
  },
  {
   "cell_type": "markdown",
   "metadata": {},
   "source": [
    "Как мы видим, не все артикулы раньше покупались, поэтому вместо значений цены таких артикулов вставим среднюю цену всех товаров."
   ]
  },
  {
   "cell_type": "code",
   "execution_count": 31,
   "metadata": {},
   "outputs": [
    {
     "data": {
      "text/html": [
       "<div>\n",
       "<style scoped>\n",
       "    .dataframe tbody tr th:only-of-type {\n",
       "        vertical-align: middle;\n",
       "    }\n",
       "\n",
       "    .dataframe tbody tr th {\n",
       "        vertical-align: top;\n",
       "    }\n",
       "\n",
       "    .dataframe thead th {\n",
       "        text-align: right;\n",
       "    }\n",
       "</style>\n",
       "<table border=\"1\" class=\"dataframe\">\n",
       "  <thead>\n",
       "    <tr style=\"text-align: right;\">\n",
       "      <th></th>\n",
       "      <th>invoice_product_all_amount</th>\n",
       "      <th>invoice_product_price</th>\n",
       "    </tr>\n",
       "    <tr>\n",
       "      <th>product_article</th>\n",
       "      <th></th>\n",
       "      <th></th>\n",
       "    </tr>\n",
       "  </thead>\n",
       "  <tbody>\n",
       "    <tr>\n",
       "      <th>14642</th>\n",
       "      <td>1.0</td>\n",
       "      <td>NaN</td>\n",
       "    </tr>\n",
       "    <tr>\n",
       "      <th>24328</th>\n",
       "      <td>1.0</td>\n",
       "      <td>NaN</td>\n",
       "    </tr>\n",
       "    <tr>\n",
       "      <th>33985</th>\n",
       "      <td>1.0</td>\n",
       "      <td>NaN</td>\n",
       "    </tr>\n",
       "    <tr>\n",
       "      <th>35901</th>\n",
       "      <td>5.0</td>\n",
       "      <td>NaN</td>\n",
       "    </tr>\n",
       "  </tbody>\n",
       "</table>\n",
       "</div>"
      ],
      "text/plain": [
       "                 invoice_product_all_amount  invoice_product_price\n",
       "product_article                                                   \n",
       "14642                                   1.0                    NaN\n",
       "24328                                   1.0                    NaN\n",
       "33985                                   1.0                    NaN\n",
       "35901                                   5.0                    NaN"
      ]
     },
     "execution_count": 31,
     "metadata": {},
     "output_type": "execute_result"
    }
   ],
   "source": [
    "null = art_df1[art_df1['invoice_product_price'].isnull()]\n",
    "null"
   ]
  },
  {
   "cell_type": "code",
   "execution_count": 32,
   "metadata": {},
   "outputs": [],
   "source": [
    "notnull_list = [i for i in notnull.index]\n",
    "null_list = [i for i in null.index]"
   ]
  },
  {
   "cell_type": "code",
   "execution_count": 33,
   "metadata": {},
   "outputs": [
    {
     "data": {
      "text/html": [
       "<div>\n",
       "<style scoped>\n",
       "    .dataframe tbody tr th:only-of-type {\n",
       "        vertical-align: middle;\n",
       "    }\n",
       "\n",
       "    .dataframe tbody tr th {\n",
       "        vertical-align: top;\n",
       "    }\n",
       "\n",
       "    .dataframe thead th {\n",
       "        text-align: right;\n",
       "    }\n",
       "</style>\n",
       "<table border=\"1\" class=\"dataframe\">\n",
       "  <thead>\n",
       "    <tr style=\"text-align: right;\">\n",
       "      <th></th>\n",
       "      <th>invoice_product_all_amount</th>\n",
       "      <th>invoice_product_price</th>\n",
       "    </tr>\n",
       "    <tr>\n",
       "      <th>product_article</th>\n",
       "      <th></th>\n",
       "      <th></th>\n",
       "    </tr>\n",
       "  </thead>\n",
       "  <tbody>\n",
       "    <tr>\n",
       "      <th>20255</th>\n",
       "      <td>1.500000</td>\n",
       "      <td>117.0</td>\n",
       "    </tr>\n",
       "    <tr>\n",
       "      <th>21217</th>\n",
       "      <td>1.000000</td>\n",
       "      <td>837.5</td>\n",
       "    </tr>\n",
       "    <tr>\n",
       "      <th>24359</th>\n",
       "      <td>1.666667</td>\n",
       "      <td>77.5</td>\n",
       "    </tr>\n",
       "    <tr>\n",
       "      <th>26495</th>\n",
       "      <td>1.000000</td>\n",
       "      <td>77.0</td>\n",
       "    </tr>\n",
       "  </tbody>\n",
       "</table>\n",
       "</div>"
      ],
      "text/plain": [
       "                 invoice_product_all_amount  invoice_product_price\n",
       "product_article                                                   \n",
       "20255                              1.500000                  117.0\n",
       "21217                              1.000000                  837.5\n",
       "24359                              1.666667                   77.5\n",
       "26495                              1.000000                   77.0"
      ]
     },
     "execution_count": 33,
     "metadata": {},
     "output_type": "execute_result"
    }
   ],
   "source": [
    "notnull"
   ]
  },
  {
   "cell_type": "code",
   "execution_count": 34,
   "metadata": {},
   "outputs": [],
   "source": [
    "pd.options.mode.chained_assignment = None"
   ]
  },
  {
   "cell_type": "code",
   "execution_count": 35,
   "metadata": {},
   "outputs": [],
   "source": [
    "df1.loc[169,'invoice_product_price'] = notnull.loc[20255, 'invoice_product_price']\n",
    "df1.loc[678,'invoice_product_price'] = notnull.loc[21217,'invoice_product_price']\n",
    "df1.loc[910,'invoice_product_price'] = notnull.loc[24359,'invoice_product_price']\n",
    "df1.loc[434,'invoice_product_price'] = notnull.loc[26495,'invoice_product_price']"
   ]
  },
  {
   "cell_type": "code",
   "execution_count": 36,
   "metadata": {},
   "outputs": [
    {
     "data": {
      "text/html": [
       "<div>\n",
       "<style scoped>\n",
       "    .dataframe tbody tr th:only-of-type {\n",
       "        vertical-align: middle;\n",
       "    }\n",
       "\n",
       "    .dataframe tbody tr th {\n",
       "        vertical-align: top;\n",
       "    }\n",
       "\n",
       "    .dataframe thead th {\n",
       "        text-align: right;\n",
       "    }\n",
       "</style>\n",
       "<table border=\"1\" class=\"dataframe\">\n",
       "  <thead>\n",
       "    <tr style=\"text-align: right;\">\n",
       "      <th></th>\n",
       "      <th>client_retail_id</th>\n",
       "      <th>invoice_id</th>\n",
       "      <th>product_article</th>\n",
       "      <th>invoice_product_all_amount</th>\n",
       "      <th>invoice_product_price</th>\n",
       "      <th>shop_id</th>\n",
       "    </tr>\n",
       "  </thead>\n",
       "  <tbody>\n",
       "    <tr>\n",
       "      <th>169</th>\n",
       "      <td>870725</td>\n",
       "      <td>30964967</td>\n",
       "      <td>20255</td>\n",
       "      <td>2</td>\n",
       "      <td>117.0</td>\n",
       "      <td>32</td>\n",
       "    </tr>\n",
       "    <tr>\n",
       "      <th>237</th>\n",
       "      <td>1534281</td>\n",
       "      <td>30968346</td>\n",
       "      <td>14642</td>\n",
       "      <td>1</td>\n",
       "      <td>NaN</td>\n",
       "      <td>25</td>\n",
       "    </tr>\n",
       "    <tr>\n",
       "      <th>291</th>\n",
       "      <td>476172</td>\n",
       "      <td>30964625</td>\n",
       "      <td>35901</td>\n",
       "      <td>5</td>\n",
       "      <td>NaN</td>\n",
       "      <td>8</td>\n",
       "    </tr>\n",
       "    <tr>\n",
       "      <th>316</th>\n",
       "      <td>723731</td>\n",
       "      <td>30968007</td>\n",
       "      <td>24328</td>\n",
       "      <td>1</td>\n",
       "      <td>NaN</td>\n",
       "      <td>245</td>\n",
       "    </tr>\n",
       "    <tr>\n",
       "      <th>434</th>\n",
       "      <td>1588657</td>\n",
       "      <td>30967911</td>\n",
       "      <td>26495</td>\n",
       "      <td>1</td>\n",
       "      <td>77.0</td>\n",
       "      <td>29</td>\n",
       "    </tr>\n",
       "    <tr>\n",
       "      <th>678</th>\n",
       "      <td>1657009</td>\n",
       "      <td>30964288</td>\n",
       "      <td>21217</td>\n",
       "      <td>1</td>\n",
       "      <td>837.5</td>\n",
       "      <td>28</td>\n",
       "    </tr>\n",
       "    <tr>\n",
       "      <th>738</th>\n",
       "      <td>1670144</td>\n",
       "      <td>30967640</td>\n",
       "      <td>33985</td>\n",
       "      <td>1</td>\n",
       "      <td>NaN</td>\n",
       "      <td>87</td>\n",
       "    </tr>\n",
       "    <tr>\n",
       "      <th>910</th>\n",
       "      <td>1572428</td>\n",
       "      <td>30967724</td>\n",
       "      <td>24359</td>\n",
       "      <td>1</td>\n",
       "      <td>77.5</td>\n",
       "      <td>184</td>\n",
       "    </tr>\n",
       "  </tbody>\n",
       "</table>\n",
       "</div>"
      ],
      "text/plain": [
       "    client_retail_id invoice_id product_article  invoice_product_all_amount  \\\n",
       "169           870725   30964967           20255                           2   \n",
       "237          1534281   30968346           14642                           1   \n",
       "291           476172   30964625           35901                           5   \n",
       "316           723731   30968007           24328                           1   \n",
       "434          1588657   30967911           26495                           1   \n",
       "678          1657009   30964288           21217                           1   \n",
       "738          1670144   30967640           33985                           1   \n",
       "910          1572428   30967724           24359                           1   \n",
       "\n",
       "     invoice_product_price shop_id  \n",
       "169                  117.0      32  \n",
       "237                    NaN      25  \n",
       "291                    NaN       8  \n",
       "316                    NaN     245  \n",
       "434                   77.0      29  \n",
       "678                  837.5      28  \n",
       "738                    NaN      87  \n",
       "910                   77.5     184  "
      ]
     },
     "execution_count": 36,
     "metadata": {},
     "output_type": "execute_result"
    }
   ],
   "source": [
    "df1"
   ]
  },
  {
   "cell_type": "markdown",
   "metadata": {},
   "source": [
    "Оставшиеся пустые данные заполним средним значением цены. Определим среднюю цену продуктов в чеке."
   ]
  },
  {
   "cell_type": "code",
   "execution_count": 37,
   "metadata": {},
   "outputs": [
    {
     "name": "stdout",
     "output_type": "stream",
     "text": [
      "средняя цена: 271.24\n"
     ]
    }
   ],
   "source": [
    "avg_price = round(data1['invoice_product_price'].astype(\"float\").mean(axis=0),2)\n",
    "print(\"средняя цена:\", avg_price)"
   ]
  },
  {
   "cell_type": "markdown",
   "metadata": {},
   "source": [
    "Внедрим в новый датафрейм"
   ]
  },
  {
   "cell_type": "code",
   "execution_count": 38,
   "metadata": {},
   "outputs": [
    {
     "data": {
      "text/html": [
       "<div>\n",
       "<style scoped>\n",
       "    .dataframe tbody tr th:only-of-type {\n",
       "        vertical-align: middle;\n",
       "    }\n",
       "\n",
       "    .dataframe tbody tr th {\n",
       "        vertical-align: top;\n",
       "    }\n",
       "\n",
       "    .dataframe thead th {\n",
       "        text-align: right;\n",
       "    }\n",
       "</style>\n",
       "<table border=\"1\" class=\"dataframe\">\n",
       "  <thead>\n",
       "    <tr style=\"text-align: right;\">\n",
       "      <th></th>\n",
       "      <th>client_retail_id</th>\n",
       "      <th>invoice_id</th>\n",
       "      <th>product_article</th>\n",
       "      <th>invoice_product_all_amount</th>\n",
       "      <th>invoice_product_price</th>\n",
       "      <th>shop_id</th>\n",
       "    </tr>\n",
       "  </thead>\n",
       "  <tbody>\n",
       "    <tr>\n",
       "      <th>169</th>\n",
       "      <td>870725</td>\n",
       "      <td>30964967</td>\n",
       "      <td>20255</td>\n",
       "      <td>2</td>\n",
       "      <td>117.00</td>\n",
       "      <td>32</td>\n",
       "    </tr>\n",
       "    <tr>\n",
       "      <th>237</th>\n",
       "      <td>1534281</td>\n",
       "      <td>30968346</td>\n",
       "      <td>14642</td>\n",
       "      <td>1</td>\n",
       "      <td>271.24</td>\n",
       "      <td>25</td>\n",
       "    </tr>\n",
       "    <tr>\n",
       "      <th>291</th>\n",
       "      <td>476172</td>\n",
       "      <td>30964625</td>\n",
       "      <td>35901</td>\n",
       "      <td>5</td>\n",
       "      <td>271.24</td>\n",
       "      <td>8</td>\n",
       "    </tr>\n",
       "    <tr>\n",
       "      <th>316</th>\n",
       "      <td>723731</td>\n",
       "      <td>30968007</td>\n",
       "      <td>24328</td>\n",
       "      <td>1</td>\n",
       "      <td>271.24</td>\n",
       "      <td>245</td>\n",
       "    </tr>\n",
       "    <tr>\n",
       "      <th>434</th>\n",
       "      <td>1588657</td>\n",
       "      <td>30967911</td>\n",
       "      <td>26495</td>\n",
       "      <td>1</td>\n",
       "      <td>77.00</td>\n",
       "      <td>29</td>\n",
       "    </tr>\n",
       "    <tr>\n",
       "      <th>678</th>\n",
       "      <td>1657009</td>\n",
       "      <td>30964288</td>\n",
       "      <td>21217</td>\n",
       "      <td>1</td>\n",
       "      <td>837.50</td>\n",
       "      <td>28</td>\n",
       "    </tr>\n",
       "    <tr>\n",
       "      <th>738</th>\n",
       "      <td>1670144</td>\n",
       "      <td>30967640</td>\n",
       "      <td>33985</td>\n",
       "      <td>1</td>\n",
       "      <td>271.24</td>\n",
       "      <td>87</td>\n",
       "    </tr>\n",
       "    <tr>\n",
       "      <th>910</th>\n",
       "      <td>1572428</td>\n",
       "      <td>30967724</td>\n",
       "      <td>24359</td>\n",
       "      <td>1</td>\n",
       "      <td>77.50</td>\n",
       "      <td>184</td>\n",
       "    </tr>\n",
       "  </tbody>\n",
       "</table>\n",
       "</div>"
      ],
      "text/plain": [
       "    client_retail_id invoice_id product_article  invoice_product_all_amount  \\\n",
       "169           870725   30964967           20255                           2   \n",
       "237          1534281   30968346           14642                           1   \n",
       "291           476172   30964625           35901                           5   \n",
       "316           723731   30968007           24328                           1   \n",
       "434          1588657   30967911           26495                           1   \n",
       "678          1657009   30964288           21217                           1   \n",
       "738          1670144   30967640           33985                           1   \n",
       "910          1572428   30967724           24359                           1   \n",
       "\n",
       "     invoice_product_price shop_id  \n",
       "169                 117.00      32  \n",
       "237                 271.24      25  \n",
       "291                 271.24       8  \n",
       "316                 271.24     245  \n",
       "434                  77.00      29  \n",
       "678                 837.50      28  \n",
       "738                 271.24      87  \n",
       "910                  77.50     184  "
      ]
     },
     "execution_count": 38,
     "metadata": {},
     "output_type": "execute_result"
    }
   ],
   "source": [
    "df1[\"invoice_product_price\"].replace(np.nan, avg_price, inplace=True)\n",
    "df1"
   ]
  },
  {
   "cell_type": "code",
   "execution_count": 39,
   "metadata": {},
   "outputs": [],
   "source": [
    "data1.loc[ind1] = df1.iloc[:]"
   ]
  },
  {
   "cell_type": "code",
   "execution_count": 40,
   "metadata": {},
   "outputs": [
    {
     "data": {
      "text/html": [
       "<div>\n",
       "<style scoped>\n",
       "    .dataframe tbody tr th:only-of-type {\n",
       "        vertical-align: middle;\n",
       "    }\n",
       "\n",
       "    .dataframe tbody tr th {\n",
       "        vertical-align: top;\n",
       "    }\n",
       "\n",
       "    .dataframe thead th {\n",
       "        text-align: right;\n",
       "    }\n",
       "</style>\n",
       "<table border=\"1\" class=\"dataframe\">\n",
       "  <thead>\n",
       "    <tr style=\"text-align: right;\">\n",
       "      <th></th>\n",
       "      <th>client_retail_id</th>\n",
       "      <th>invoice_id</th>\n",
       "      <th>product_article</th>\n",
       "      <th>invoice_product_all_amount</th>\n",
       "      <th>invoice_product_price</th>\n",
       "      <th>shop_id</th>\n",
       "    </tr>\n",
       "  </thead>\n",
       "  <tbody>\n",
       "    <tr>\n",
       "      <th>169</th>\n",
       "      <td>870725</td>\n",
       "      <td>30964967</td>\n",
       "      <td>20255</td>\n",
       "      <td>2</td>\n",
       "      <td>117.00</td>\n",
       "      <td>32</td>\n",
       "    </tr>\n",
       "    <tr>\n",
       "      <th>237</th>\n",
       "      <td>1534281</td>\n",
       "      <td>30968346</td>\n",
       "      <td>14642</td>\n",
       "      <td>1</td>\n",
       "      <td>271.24</td>\n",
       "      <td>25</td>\n",
       "    </tr>\n",
       "    <tr>\n",
       "      <th>291</th>\n",
       "      <td>476172</td>\n",
       "      <td>30964625</td>\n",
       "      <td>35901</td>\n",
       "      <td>5</td>\n",
       "      <td>271.24</td>\n",
       "      <td>8</td>\n",
       "    </tr>\n",
       "    <tr>\n",
       "      <th>316</th>\n",
       "      <td>723731</td>\n",
       "      <td>30968007</td>\n",
       "      <td>24328</td>\n",
       "      <td>1</td>\n",
       "      <td>271.24</td>\n",
       "      <td>245</td>\n",
       "    </tr>\n",
       "    <tr>\n",
       "      <th>434</th>\n",
       "      <td>1588657</td>\n",
       "      <td>30967911</td>\n",
       "      <td>26495</td>\n",
       "      <td>1</td>\n",
       "      <td>77.00</td>\n",
       "      <td>29</td>\n",
       "    </tr>\n",
       "    <tr>\n",
       "      <th>678</th>\n",
       "      <td>1657009</td>\n",
       "      <td>30964288</td>\n",
       "      <td>21217</td>\n",
       "      <td>1</td>\n",
       "      <td>837.50</td>\n",
       "      <td>28</td>\n",
       "    </tr>\n",
       "    <tr>\n",
       "      <th>738</th>\n",
       "      <td>1670144</td>\n",
       "      <td>30967640</td>\n",
       "      <td>33985</td>\n",
       "      <td>1</td>\n",
       "      <td>271.24</td>\n",
       "      <td>87</td>\n",
       "    </tr>\n",
       "    <tr>\n",
       "      <th>910</th>\n",
       "      <td>1572428</td>\n",
       "      <td>30967724</td>\n",
       "      <td>24359</td>\n",
       "      <td>1</td>\n",
       "      <td>77.50</td>\n",
       "      <td>184</td>\n",
       "    </tr>\n",
       "  </tbody>\n",
       "</table>\n",
       "</div>"
      ],
      "text/plain": [
       "    client_retail_id invoice_id product_article  invoice_product_all_amount  \\\n",
       "169           870725   30964967           20255                           2   \n",
       "237          1534281   30968346           14642                           1   \n",
       "291           476172   30964625           35901                           5   \n",
       "316           723731   30968007           24328                           1   \n",
       "434          1588657   30967911           26495                           1   \n",
       "678          1657009   30964288           21217                           1   \n",
       "738          1670144   30967640           33985                           1   \n",
       "910          1572428   30967724           24359                           1   \n",
       "\n",
       "     invoice_product_price shop_id  \n",
       "169                 117.00      32  \n",
       "237                 271.24      25  \n",
       "291                 271.24       8  \n",
       "316                 271.24     245  \n",
       "434                  77.00      29  \n",
       "678                 837.50      28  \n",
       "738                 271.24      87  \n",
       "910                  77.50     184  "
      ]
     },
     "execution_count": 40,
     "metadata": {},
     "output_type": "execute_result"
    }
   ],
   "source": [
    "data1.loc[ind1]"
   ]
  },
  {
   "cell_type": "code",
   "execution_count": 41,
   "metadata": {},
   "outputs": [
    {
     "name": "stdout",
     "output_type": "stream",
     "text": [
      "<class 'pandas.core.frame.DataFrame'>\n",
      "Int64Index: 991 entries, 0 to 999\n",
      "Data columns (total 6 columns):\n",
      " #   Column                      Non-Null Count  Dtype  \n",
      "---  ------                      --------------  -----  \n",
      " 0   client_retail_id            991 non-null    object \n",
      " 1   invoice_id                  991 non-null    object \n",
      " 2   product_article             991 non-null    object \n",
      " 3   invoice_product_all_amount  991 non-null    int64  \n",
      " 4   invoice_product_price       991 non-null    float64\n",
      " 5   shop_id                     991 non-null    object \n",
      "dtypes: float64(1), int64(1), object(4)\n",
      "memory usage: 94.2+ KB\n"
     ]
    }
   ],
   "source": [
    "data1.info()"
   ]
  },
  {
   "cell_type": "markdown",
   "metadata": {},
   "source": [
    "Нам необходимо сбросить индексы, ведь мы удалили часть строк из датасета"
   ]
  },
  {
   "cell_type": "code",
   "execution_count": 42,
   "metadata": {},
   "outputs": [
    {
     "data": {
      "text/html": [
       "<div>\n",
       "<style scoped>\n",
       "    .dataframe tbody tr th:only-of-type {\n",
       "        vertical-align: middle;\n",
       "    }\n",
       "\n",
       "    .dataframe tbody tr th {\n",
       "        vertical-align: top;\n",
       "    }\n",
       "\n",
       "    .dataframe thead th {\n",
       "        text-align: right;\n",
       "    }\n",
       "</style>\n",
       "<table border=\"1\" class=\"dataframe\">\n",
       "  <thead>\n",
       "    <tr style=\"text-align: right;\">\n",
       "      <th></th>\n",
       "      <th>index</th>\n",
       "      <th>client_retail_id</th>\n",
       "      <th>invoice_id</th>\n",
       "      <th>product_article</th>\n",
       "      <th>invoice_product_all_amount</th>\n",
       "      <th>invoice_product_price</th>\n",
       "      <th>shop_id</th>\n",
       "    </tr>\n",
       "  </thead>\n",
       "  <tbody>\n",
       "    <tr>\n",
       "      <th>0</th>\n",
       "      <td>0</td>\n",
       "      <td>994485</td>\n",
       "      <td>30968665</td>\n",
       "      <td>22955</td>\n",
       "      <td>1</td>\n",
       "      <td>38.0</td>\n",
       "      <td>52</td>\n",
       "    </tr>\n",
       "    <tr>\n",
       "      <th>1</th>\n",
       "      <td>1</td>\n",
       "      <td>994485</td>\n",
       "      <td>30968665</td>\n",
       "      <td>24860</td>\n",
       "      <td>1</td>\n",
       "      <td>36.0</td>\n",
       "      <td>52</td>\n",
       "    </tr>\n",
       "    <tr>\n",
       "      <th>2</th>\n",
       "      <td>2</td>\n",
       "      <td>1323249</td>\n",
       "      <td>30968664</td>\n",
       "      <td>20981</td>\n",
       "      <td>1</td>\n",
       "      <td>449.0</td>\n",
       "      <td>155</td>\n",
       "    </tr>\n",
       "    <tr>\n",
       "      <th>3</th>\n",
       "      <td>3</td>\n",
       "      <td>412480</td>\n",
       "      <td>30968663</td>\n",
       "      <td>10001</td>\n",
       "      <td>1</td>\n",
       "      <td>779.0</td>\n",
       "      <td>117</td>\n",
       "    </tr>\n",
       "    <tr>\n",
       "      <th>4</th>\n",
       "      <td>4</td>\n",
       "      <td>412480</td>\n",
       "      <td>30968663</td>\n",
       "      <td>10002</td>\n",
       "      <td>1</td>\n",
       "      <td>685.0</td>\n",
       "      <td>117</td>\n",
       "    </tr>\n",
       "    <tr>\n",
       "      <th>...</th>\n",
       "      <td>...</td>\n",
       "      <td>...</td>\n",
       "      <td>...</td>\n",
       "      <td>...</td>\n",
       "      <td>...</td>\n",
       "      <td>...</td>\n",
       "      <td>...</td>\n",
       "    </tr>\n",
       "    <tr>\n",
       "      <th>986</th>\n",
       "      <td>995</td>\n",
       "      <td>1283366</td>\n",
       "      <td>30967327</td>\n",
       "      <td>11334</td>\n",
       "      <td>1</td>\n",
       "      <td>289.0</td>\n",
       "      <td>52</td>\n",
       "    </tr>\n",
       "    <tr>\n",
       "      <th>987</th>\n",
       "      <td>996</td>\n",
       "      <td>1576999</td>\n",
       "      <td>30963886</td>\n",
       "      <td>20224</td>\n",
       "      <td>60</td>\n",
       "      <td>43.0</td>\n",
       "      <td>149</td>\n",
       "    </tr>\n",
       "    <tr>\n",
       "      <th>988</th>\n",
       "      <td>997</td>\n",
       "      <td>1576999</td>\n",
       "      <td>30963886</td>\n",
       "      <td>600814</td>\n",
       "      <td>2</td>\n",
       "      <td>3.0</td>\n",
       "      <td>149</td>\n",
       "    </tr>\n",
       "    <tr>\n",
       "      <th>989</th>\n",
       "      <td>998</td>\n",
       "      <td>1658756</td>\n",
       "      <td>30967325</td>\n",
       "      <td>25057</td>\n",
       "      <td>1</td>\n",
       "      <td>398.0</td>\n",
       "      <td>14</td>\n",
       "    </tr>\n",
       "    <tr>\n",
       "      <th>990</th>\n",
       "      <td>999</td>\n",
       "      <td>1576999</td>\n",
       "      <td>30963885</td>\n",
       "      <td>20224</td>\n",
       "      <td>60</td>\n",
       "      <td>46.0</td>\n",
       "      <td>149</td>\n",
       "    </tr>\n",
       "  </tbody>\n",
       "</table>\n",
       "<p>991 rows × 7 columns</p>\n",
       "</div>"
      ],
      "text/plain": [
       "     index client_retail_id invoice_id product_article  \\\n",
       "0        0           994485   30968665           22955   \n",
       "1        1           994485   30968665           24860   \n",
       "2        2          1323249   30968664           20981   \n",
       "3        3           412480   30968663           10001   \n",
       "4        4           412480   30968663           10002   \n",
       "..     ...              ...        ...             ...   \n",
       "986    995          1283366   30967327           11334   \n",
       "987    996          1576999   30963886           20224   \n",
       "988    997          1576999   30963886          600814   \n",
       "989    998          1658756   30967325           25057   \n",
       "990    999          1576999   30963885           20224   \n",
       "\n",
       "     invoice_product_all_amount  invoice_product_price shop_id  \n",
       "0                             1                   38.0      52  \n",
       "1                             1                   36.0      52  \n",
       "2                             1                  449.0     155  \n",
       "3                             1                  779.0     117  \n",
       "4                             1                  685.0     117  \n",
       "..                          ...                    ...     ...  \n",
       "986                           1                  289.0      52  \n",
       "987                          60                   43.0     149  \n",
       "988                           2                    3.0     149  \n",
       "989                           1                  398.0      14  \n",
       "990                          60                   46.0     149  \n",
       "\n",
       "[991 rows x 7 columns]"
      ]
     },
     "execution_count": 42,
     "metadata": {},
     "output_type": "execute_result"
    }
   ],
   "source": [
    "data1.reset_index()"
   ]
  },
  {
   "cell_type": "markdown",
   "metadata": {},
   "source": [
    "Как мы видим, в наших данных больше нет отсутствующих данных и типы всех столбцов соответствуют норме. Перейдем непосредственно к анализу. Предварительно сохранив  полученный датафрейм обратно в формат xlsx."
   ]
  },
  {
   "cell_type": "code",
   "execution_count": 43,
   "metadata": {},
   "outputs": [],
   "source": [
    "data1.to_excel('очищенные данные.xlsx')"
   ]
  },
  {
   "cell_type": "markdown",
   "metadata": {},
   "source": [
    "## Количественный анализ и визуализация"
   ]
  },
  {
   "cell_type": "markdown",
   "metadata": {},
   "source": [
    "Создадим копию датафрейма для работы над визуалиацией."
   ]
  },
  {
   "cell_type": "code",
   "execution_count": 44,
   "metadata": {},
   "outputs": [],
   "source": [
    "graf_df = data1"
   ]
  },
  {
   "cell_type": "code",
   "execution_count": 45,
   "metadata": {},
   "outputs": [
    {
     "data": {
      "text/html": [
       "<div>\n",
       "<style scoped>\n",
       "    .dataframe tbody tr th:only-of-type {\n",
       "        vertical-align: middle;\n",
       "    }\n",
       "\n",
       "    .dataframe tbody tr th {\n",
       "        vertical-align: top;\n",
       "    }\n",
       "\n",
       "    .dataframe thead th {\n",
       "        text-align: right;\n",
       "    }\n",
       "</style>\n",
       "<table border=\"1\" class=\"dataframe\">\n",
       "  <thead>\n",
       "    <tr style=\"text-align: right;\">\n",
       "      <th></th>\n",
       "      <th>client_retail_id</th>\n",
       "      <th>invoice_id</th>\n",
       "      <th>product_article</th>\n",
       "      <th>invoice_product_all_amount</th>\n",
       "      <th>invoice_product_price</th>\n",
       "      <th>shop_id</th>\n",
       "    </tr>\n",
       "  </thead>\n",
       "  <tbody>\n",
       "    <tr>\n",
       "      <th>count</th>\n",
       "      <td>991.0</td>\n",
       "      <td>991.0</td>\n",
       "      <td>991.0</td>\n",
       "      <td>991.000000</td>\n",
       "      <td>991.000000</td>\n",
       "      <td>991.0</td>\n",
       "    </tr>\n",
       "    <tr>\n",
       "      <th>unique</th>\n",
       "      <td>425.0</td>\n",
       "      <td>433.0</td>\n",
       "      <td>606.0</td>\n",
       "      <td>NaN</td>\n",
       "      <td>NaN</td>\n",
       "      <td>94.0</td>\n",
       "    </tr>\n",
       "    <tr>\n",
       "      <th>top</th>\n",
       "      <td>451899.0</td>\n",
       "      <td>30964410.0</td>\n",
       "      <td>600814.0</td>\n",
       "      <td>NaN</td>\n",
       "      <td>NaN</td>\n",
       "      <td>28.0</td>\n",
       "    </tr>\n",
       "    <tr>\n",
       "      <th>freq</th>\n",
       "      <td>16.0</td>\n",
       "      <td>16.0</td>\n",
       "      <td>73.0</td>\n",
       "      <td>NaN</td>\n",
       "      <td>NaN</td>\n",
       "      <td>40.0</td>\n",
       "    </tr>\n",
       "    <tr>\n",
       "      <th>mean</th>\n",
       "      <td>NaN</td>\n",
       "      <td>NaN</td>\n",
       "      <td>NaN</td>\n",
       "      <td>1.798184</td>\n",
       "      <td>271.265348</td>\n",
       "      <td>NaN</td>\n",
       "    </tr>\n",
       "    <tr>\n",
       "      <th>std</th>\n",
       "      <td>NaN</td>\n",
       "      <td>NaN</td>\n",
       "      <td>NaN</td>\n",
       "      <td>3.218576</td>\n",
       "      <td>433.301889</td>\n",
       "      <td>NaN</td>\n",
       "    </tr>\n",
       "    <tr>\n",
       "      <th>min</th>\n",
       "      <td>NaN</td>\n",
       "      <td>NaN</td>\n",
       "      <td>NaN</td>\n",
       "      <td>1.000000</td>\n",
       "      <td>3.000000</td>\n",
       "      <td>NaN</td>\n",
       "    </tr>\n",
       "    <tr>\n",
       "      <th>25%</th>\n",
       "      <td>NaN</td>\n",
       "      <td>NaN</td>\n",
       "      <td>NaN</td>\n",
       "      <td>1.000000</td>\n",
       "      <td>63.500000</td>\n",
       "      <td>NaN</td>\n",
       "    </tr>\n",
       "    <tr>\n",
       "      <th>50%</th>\n",
       "      <td>NaN</td>\n",
       "      <td>NaN</td>\n",
       "      <td>NaN</td>\n",
       "      <td>1.000000</td>\n",
       "      <td>94.000000</td>\n",
       "      <td>NaN</td>\n",
       "    </tr>\n",
       "    <tr>\n",
       "      <th>75%</th>\n",
       "      <td>NaN</td>\n",
       "      <td>NaN</td>\n",
       "      <td>NaN</td>\n",
       "      <td>2.000000</td>\n",
       "      <td>284.000000</td>\n",
       "      <td>NaN</td>\n",
       "    </tr>\n",
       "    <tr>\n",
       "      <th>max</th>\n",
       "      <td>NaN</td>\n",
       "      <td>NaN</td>\n",
       "      <td>NaN</td>\n",
       "      <td>60.000000</td>\n",
       "      <td>4268.000000</td>\n",
       "      <td>NaN</td>\n",
       "    </tr>\n",
       "  </tbody>\n",
       "</table>\n",
       "</div>"
      ],
      "text/plain": [
       "        client_retail_id  invoice_id  product_article  \\\n",
       "count              991.0       991.0            991.0   \n",
       "unique             425.0       433.0            606.0   \n",
       "top             451899.0  30964410.0         600814.0   \n",
       "freq                16.0        16.0             73.0   \n",
       "mean                 NaN         NaN              NaN   \n",
       "std                  NaN         NaN              NaN   \n",
       "min                  NaN         NaN              NaN   \n",
       "25%                  NaN         NaN              NaN   \n",
       "50%                  NaN         NaN              NaN   \n",
       "75%                  NaN         NaN              NaN   \n",
       "max                  NaN         NaN              NaN   \n",
       "\n",
       "        invoice_product_all_amount  invoice_product_price  shop_id  \n",
       "count                   991.000000             991.000000    991.0  \n",
       "unique                         NaN                    NaN     94.0  \n",
       "top                            NaN                    NaN     28.0  \n",
       "freq                           NaN                    NaN     40.0  \n",
       "mean                      1.798184             271.265348      NaN  \n",
       "std                       3.218576             433.301889      NaN  \n",
       "min                       1.000000               3.000000      NaN  \n",
       "25%                       1.000000              63.500000      NaN  \n",
       "50%                       1.000000              94.000000      NaN  \n",
       "75%                       2.000000             284.000000      NaN  \n",
       "max                      60.000000            4268.000000      NaN  "
      ]
     },
     "execution_count": 45,
     "metadata": {},
     "output_type": "execute_result"
    }
   ],
   "source": [
    "graf_df.describe(include='all')"
   ]
  },
  {
   "cell_type": "markdown",
   "metadata": {},
   "source": [
    "Стоит обратить внимание на количество уникальных клиентов и общее количество Id клиетов. Разница почти в два раза, это может говорить о высокой конверсии во вторую и последующие покупки."
   ]
  },
  {
   "cell_type": "markdown",
   "metadata": {},
   "source": [
    "Добавим в наш датасет столбец с объемом продаж конкретного товара за сделку."
   ]
  },
  {
   "cell_type": "code",
   "execution_count": 46,
   "metadata": {},
   "outputs": [],
   "source": [
    "graf_df['volume'] = graf_df['invoice_product_price'] * graf_df['invoice_product_all_amount']\n",
    "graf_df['volume'] = graf_df['volume'].astype('int')"
   ]
  },
  {
   "cell_type": "code",
   "execution_count": 47,
   "metadata": {},
   "outputs": [
    {
     "data": {
      "text/html": [
       "<div>\n",
       "<style scoped>\n",
       "    .dataframe tbody tr th:only-of-type {\n",
       "        vertical-align: middle;\n",
       "    }\n",
       "\n",
       "    .dataframe tbody tr th {\n",
       "        vertical-align: top;\n",
       "    }\n",
       "\n",
       "    .dataframe thead th {\n",
       "        text-align: right;\n",
       "    }\n",
       "</style>\n",
       "<table border=\"1\" class=\"dataframe\">\n",
       "  <thead>\n",
       "    <tr style=\"text-align: right;\">\n",
       "      <th></th>\n",
       "      <th>client_retail_id</th>\n",
       "      <th>invoice_id</th>\n",
       "      <th>product_article</th>\n",
       "      <th>invoice_product_all_amount</th>\n",
       "      <th>invoice_product_price</th>\n",
       "      <th>shop_id</th>\n",
       "      <th>volume</th>\n",
       "    </tr>\n",
       "  </thead>\n",
       "  <tbody>\n",
       "    <tr>\n",
       "      <th>130</th>\n",
       "      <td>1129652</td>\n",
       "      <td>30964785</td>\n",
       "      <td>11134</td>\n",
       "      <td>1</td>\n",
       "      <td>4268.0</td>\n",
       "      <td>7</td>\n",
       "      <td>4268</td>\n",
       "    </tr>\n",
       "    <tr>\n",
       "      <th>138</th>\n",
       "      <td>693373</td>\n",
       "      <td>30964782</td>\n",
       "      <td>34828</td>\n",
       "      <td>1</td>\n",
       "      <td>3858.0</td>\n",
       "      <td>14</td>\n",
       "      <td>3858</td>\n",
       "    </tr>\n",
       "    <tr>\n",
       "      <th>134</th>\n",
       "      <td>1170853</td>\n",
       "      <td>30968194</td>\n",
       "      <td>20048</td>\n",
       "      <td>1</td>\n",
       "      <td>3197.0</td>\n",
       "      <td>50</td>\n",
       "      <td>3197</td>\n",
       "    </tr>\n",
       "    <tr>\n",
       "      <th>394</th>\n",
       "      <td>1605321</td>\n",
       "      <td>30964554</td>\n",
       "      <td>34864</td>\n",
       "      <td>1</td>\n",
       "      <td>3141.0</td>\n",
       "      <td>116</td>\n",
       "      <td>3141</td>\n",
       "    </tr>\n",
       "    <tr>\n",
       "      <th>999</th>\n",
       "      <td>1576999</td>\n",
       "      <td>30963885</td>\n",
       "      <td>20224</td>\n",
       "      <td>60</td>\n",
       "      <td>46.0</td>\n",
       "      <td>149</td>\n",
       "      <td>2760</td>\n",
       "    </tr>\n",
       "    <tr>\n",
       "      <th>142</th>\n",
       "      <td>994420</td>\n",
       "      <td>30968192</td>\n",
       "      <td>24401</td>\n",
       "      <td>1</td>\n",
       "      <td>2661.0</td>\n",
       "      <td>245</td>\n",
       "      <td>2661</td>\n",
       "    </tr>\n",
       "    <tr>\n",
       "      <th>611</th>\n",
       "      <td>1700739</td>\n",
       "      <td>30964530</td>\n",
       "      <td>20465</td>\n",
       "      <td>1</td>\n",
       "      <td>2661.0</td>\n",
       "      <td>220</td>\n",
       "      <td>2661</td>\n",
       "    </tr>\n",
       "    <tr>\n",
       "      <th>143</th>\n",
       "      <td>994420</td>\n",
       "      <td>30968192</td>\n",
       "      <td>24400</td>\n",
       "      <td>1</td>\n",
       "      <td>2661.0</td>\n",
       "      <td>245</td>\n",
       "      <td>2661</td>\n",
       "    </tr>\n",
       "    <tr>\n",
       "      <th>996</th>\n",
       "      <td>1576999</td>\n",
       "      <td>30963886</td>\n",
       "      <td>20224</td>\n",
       "      <td>60</td>\n",
       "      <td>43.0</td>\n",
       "      <td>149</td>\n",
       "      <td>2580</td>\n",
       "    </tr>\n",
       "    <tr>\n",
       "      <th>461</th>\n",
       "      <td>776576</td>\n",
       "      <td>30964487</td>\n",
       "      <td>12958</td>\n",
       "      <td>1</td>\n",
       "      <td>2303.0</td>\n",
       "      <td>50</td>\n",
       "      <td>2303</td>\n",
       "    </tr>\n",
       "  </tbody>\n",
       "</table>\n",
       "</div>"
      ],
      "text/plain": [
       "    client_retail_id invoice_id product_article  invoice_product_all_amount  \\\n",
       "130          1129652   30964785           11134                           1   \n",
       "138           693373   30964782           34828                           1   \n",
       "134          1170853   30968194           20048                           1   \n",
       "394          1605321   30964554           34864                           1   \n",
       "999          1576999   30963885           20224                          60   \n",
       "142           994420   30968192           24401                           1   \n",
       "611          1700739   30964530           20465                           1   \n",
       "143           994420   30968192           24400                           1   \n",
       "996          1576999   30963886           20224                          60   \n",
       "461           776576   30964487           12958                           1   \n",
       "\n",
       "     invoice_product_price shop_id  volume  \n",
       "130                 4268.0       7    4268  \n",
       "138                 3858.0      14    3858  \n",
       "134                 3197.0      50    3197  \n",
       "394                 3141.0     116    3141  \n",
       "999                   46.0     149    2760  \n",
       "142                 2661.0     245    2661  \n",
       "611                 2661.0     220    2661  \n",
       "143                 2661.0     245    2661  \n",
       "996                   43.0     149    2580  \n",
       "461                 2303.0      50    2303  "
      ]
     },
     "execution_count": 47,
     "metadata": {},
     "output_type": "execute_result"
    }
   ],
   "source": [
    "graf_df.sort_values(by = ['volume'], ascending=False).head(10)"
   ]
  },
  {
   "cell_type": "markdown",
   "metadata": {},
   "source": [
    "На основе столбца volume мы сможем рассмотреть сгруппированные по товарам и магазинам данные."
   ]
  },
  {
   "cell_type": "markdown",
   "metadata": {},
   "source": [
    "С точки зрения аналитики в данном датасете нас в наибольшей степени будет интересовать качественные столбцы product_article и shop_id. А также количественные invoice_product_all_amount, invoice_product_price. Рассматривая их, мы можем ответить на вопросы:\n",
    "\n",
    "1. Какой товар самый продаваемый в целом по сети? \n",
    "2. У какого магазина самые большие продажи?\n",
    "3. Партнерство с каким клиентом самое выгодное?\n",
    "\n",
    "Начнем с рассмотрения товаров."
   ]
  },
  {
   "cell_type": "code",
   "execution_count": 48,
   "metadata": {},
   "outputs": [
    {
     "data": {
      "text/plain": [
       "count     991.000000\n",
       "mean      271.265348\n",
       "std       433.301889\n",
       "min         3.000000\n",
       "25%        63.500000\n",
       "50%        94.000000\n",
       "75%       284.000000\n",
       "max      4268.000000\n",
       "Name: invoice_product_price, dtype: float64"
      ]
     },
     "execution_count": 48,
     "metadata": {},
     "output_type": "execute_result"
    }
   ],
   "source": [
    "graf_df.invoice_product_price.describe()    "
   ]
  },
  {
   "cell_type": "code",
   "execution_count": 49,
   "metadata": {},
   "outputs": [
    {
     "data": {
      "text/html": [
       "<div>\n",
       "<style scoped>\n",
       "    .dataframe tbody tr th:only-of-type {\n",
       "        vertical-align: middle;\n",
       "    }\n",
       "\n",
       "    .dataframe tbody tr th {\n",
       "        vertical-align: top;\n",
       "    }\n",
       "\n",
       "    .dataframe thead th {\n",
       "        text-align: right;\n",
       "    }\n",
       "</style>\n",
       "<table border=\"1\" class=\"dataframe\">\n",
       "  <thead>\n",
       "    <tr style=\"text-align: right;\">\n",
       "      <th></th>\n",
       "      <th>client_retail_id</th>\n",
       "      <th>invoice_id</th>\n",
       "      <th>product_article</th>\n",
       "      <th>invoice_product_all_amount</th>\n",
       "      <th>invoice_product_price</th>\n",
       "      <th>shop_id</th>\n",
       "      <th>volume</th>\n",
       "    </tr>\n",
       "  </thead>\n",
       "  <tbody>\n",
       "    <tr>\n",
       "      <th>130</th>\n",
       "      <td>1129652</td>\n",
       "      <td>30964785</td>\n",
       "      <td>11134</td>\n",
       "      <td>1</td>\n",
       "      <td>4268.0</td>\n",
       "      <td>7</td>\n",
       "      <td>4268</td>\n",
       "    </tr>\n",
       "  </tbody>\n",
       "</table>\n",
       "</div>"
      ],
      "text/plain": [
       "    client_retail_id invoice_id product_article  invoice_product_all_amount  \\\n",
       "130          1129652   30964785           11134                           1   \n",
       "\n",
       "     invoice_product_price shop_id  volume  \n",
       "130                 4268.0       7    4268  "
      ]
     },
     "execution_count": 49,
     "metadata": {},
     "output_type": "execute_result"
    }
   ],
   "source": [
    "graf_df[graf_df['volume'] == graf_df['invoice_product_price'].max()]"
   ]
  },
  {
   "cell_type": "markdown",
   "metadata": {},
   "source": [
    "Товар с максимальной ценой в 4268 у.е. в базе - товар №11134. Еще один показатель - средний чек компании, мы уже посчитали ранее. Он равняется \n",
    "271.27 у.е."
   ]
  },
  {
   "cell_type": "markdown",
   "metadata": {},
   "source": [
    "Рассмотрим самые продаваемые продукты."
   ]
  },
  {
   "cell_type": "code",
   "execution_count": 50,
   "metadata": {},
   "outputs": [
    {
     "data": {
      "text/html": [
       "<div>\n",
       "<style scoped>\n",
       "    .dataframe tbody tr th:only-of-type {\n",
       "        vertical-align: middle;\n",
       "    }\n",
       "\n",
       "    .dataframe tbody tr th {\n",
       "        vertical-align: top;\n",
       "    }\n",
       "\n",
       "    .dataframe thead th {\n",
       "        text-align: right;\n",
       "    }\n",
       "</style>\n",
       "<table border=\"1\" class=\"dataframe\">\n",
       "  <thead>\n",
       "    <tr style=\"text-align: right;\">\n",
       "      <th></th>\n",
       "      <th>product_article</th>\n",
       "      <th>invoice_product_all_amount</th>\n",
       "      <th>invoice_product_price</th>\n",
       "      <th>volume</th>\n",
       "    </tr>\n",
       "  </thead>\n",
       "  <tbody>\n",
       "    <tr>\n",
       "      <th>count</th>\n",
       "      <td>606.0</td>\n",
       "      <td>606.000000</td>\n",
       "      <td>606.000000</td>\n",
       "      <td>606.000000</td>\n",
       "    </tr>\n",
       "    <tr>\n",
       "      <th>unique</th>\n",
       "      <td>606.0</td>\n",
       "      <td>NaN</td>\n",
       "      <td>NaN</td>\n",
       "      <td>NaN</td>\n",
       "    </tr>\n",
       "    <tr>\n",
       "      <th>top</th>\n",
       "      <td>24575.0</td>\n",
       "      <td>NaN</td>\n",
       "      <td>NaN</td>\n",
       "      <td>NaN</td>\n",
       "    </tr>\n",
       "    <tr>\n",
       "      <th>freq</th>\n",
       "      <td>1.0</td>\n",
       "      <td>NaN</td>\n",
       "      <td>NaN</td>\n",
       "      <td>NaN</td>\n",
       "    </tr>\n",
       "    <tr>\n",
       "      <th>mean</th>\n",
       "      <td>NaN</td>\n",
       "      <td>2.940594</td>\n",
       "      <td>443.603894</td>\n",
       "      <td>529.366337</td>\n",
       "    </tr>\n",
       "    <tr>\n",
       "      <th>std</th>\n",
       "      <td>NaN</td>\n",
       "      <td>6.833300</td>\n",
       "      <td>610.035736</td>\n",
       "      <td>654.929691</td>\n",
       "    </tr>\n",
       "    <tr>\n",
       "      <th>min</th>\n",
       "      <td>NaN</td>\n",
       "      <td>1.000000</td>\n",
       "      <td>20.000000</td>\n",
       "      <td>20.000000</td>\n",
       "    </tr>\n",
       "    <tr>\n",
       "      <th>25%</th>\n",
       "      <td>NaN</td>\n",
       "      <td>1.000000</td>\n",
       "      <td>95.750000</td>\n",
       "      <td>145.000000</td>\n",
       "    </tr>\n",
       "    <tr>\n",
       "      <th>50%</th>\n",
       "      <td>NaN</td>\n",
       "      <td>1.000000</td>\n",
       "      <td>228.500000</td>\n",
       "      <td>288.500000</td>\n",
       "    </tr>\n",
       "    <tr>\n",
       "      <th>75%</th>\n",
       "      <td>NaN</td>\n",
       "      <td>2.000000</td>\n",
       "      <td>481.750000</td>\n",
       "      <td>678.750000</td>\n",
       "    </tr>\n",
       "    <tr>\n",
       "      <th>max</th>\n",
       "      <td>NaN</td>\n",
       "      <td>120.000000</td>\n",
       "      <td>4777.000000</td>\n",
       "      <td>5340.000000</td>\n",
       "    </tr>\n",
       "  </tbody>\n",
       "</table>\n",
       "</div>"
      ],
      "text/plain": [
       "        product_article  invoice_product_all_amount  invoice_product_price  \\\n",
       "count             606.0                  606.000000             606.000000   \n",
       "unique            606.0                         NaN                    NaN   \n",
       "top             24575.0                         NaN                    NaN   \n",
       "freq                1.0                         NaN                    NaN   \n",
       "mean                NaN                    2.940594             443.603894   \n",
       "std                 NaN                    6.833300             610.035736   \n",
       "min                 NaN                    1.000000              20.000000   \n",
       "25%                 NaN                    1.000000              95.750000   \n",
       "50%                 NaN                    1.000000             228.500000   \n",
       "75%                 NaN                    2.000000             481.750000   \n",
       "max                 NaN                  120.000000            4777.000000   \n",
       "\n",
       "             volume  \n",
       "count    606.000000  \n",
       "unique          NaN  \n",
       "top             NaN  \n",
       "freq            NaN  \n",
       "mean     529.366337  \n",
       "std      654.929691  \n",
       "min       20.000000  \n",
       "25%      145.000000  \n",
       "50%      288.500000  \n",
       "75%      678.750000  \n",
       "max     5340.000000  "
      ]
     },
     "execution_count": 50,
     "metadata": {},
     "output_type": "execute_result"
    }
   ],
   "source": [
    "prod = graf_df.groupby('product_article',as_index=False).sum()\n",
    "prod['product_article'] = prod['product_article'].astype(\"object\")\n",
    "prod.describe(include='all')"
   ]
  },
  {
   "cell_type": "markdown",
   "metadata": {},
   "source": [
    "Из 606 имеющихся артикулов товаров, 75% всей выборки не превышают индивидуальную выручку в 678,75 у.е., а средняя индивидуальная выручка составляет 529,36 у.е."
   ]
  },
  {
   "cell_type": "code",
   "execution_count": 51,
   "metadata": {},
   "outputs": [
    {
     "data": {
      "image/png": "[encoded data removed]",
      "text/plain": [
       "<Figure size 432x288 with 1 Axes>"
      ]
     },
     "metadata": {},
     "output_type": "display_data"
    }
   ],
   "source": [
    "sns.set_style('white')\n",
    "sns.distplot(prod.volume, color='midnightblue')\n",
    "plt.xlim(0)\n",
    "sns.despine()"
   ]
  },
  {
   "cell_type": "code",
   "execution_count": 52,
   "metadata": {},
   "outputs": [
    {
     "data": {
      "text/html": [
       "<div>\n",
       "<style scoped>\n",
       "    .dataframe tbody tr th:only-of-type {\n",
       "        vertical-align: middle;\n",
       "    }\n",
       "\n",
       "    .dataframe tbody tr th {\n",
       "        vertical-align: top;\n",
       "    }\n",
       "\n",
       "    .dataframe thead th {\n",
       "        text-align: right;\n",
       "    }\n",
       "</style>\n",
       "<table border=\"1\" class=\"dataframe\">\n",
       "  <thead>\n",
       "    <tr style=\"text-align: right;\">\n",
       "      <th></th>\n",
       "      <th>product_article</th>\n",
       "      <th>invoice_product_all_amount</th>\n",
       "      <th>volume</th>\n",
       "    </tr>\n",
       "  </thead>\n",
       "  <tbody>\n",
       "    <tr>\n",
       "      <th>124</th>\n",
       "      <td>20224</td>\n",
       "      <td>120</td>\n",
       "      <td>5340</td>\n",
       "    </tr>\n",
       "    <tr>\n",
       "      <th>198</th>\n",
       "      <td>21107</td>\n",
       "      <td>4</td>\n",
       "      <td>4777</td>\n",
       "    </tr>\n",
       "    <tr>\n",
       "      <th>15</th>\n",
       "      <td>11134</td>\n",
       "      <td>1</td>\n",
       "      <td>4268</td>\n",
       "    </tr>\n",
       "    <tr>\n",
       "      <th>511</th>\n",
       "      <td>34828</td>\n",
       "      <td>1</td>\n",
       "      <td>3858</td>\n",
       "    </tr>\n",
       "    <tr>\n",
       "      <th>161</th>\n",
       "      <td>20585</td>\n",
       "      <td>3</td>\n",
       "      <td>3408</td>\n",
       "    </tr>\n",
       "    <tr>\n",
       "      <th>114</th>\n",
       "      <td>20048</td>\n",
       "      <td>1</td>\n",
       "      <td>3197</td>\n",
       "    </tr>\n",
       "    <tr>\n",
       "      <th>515</th>\n",
       "      <td>34864</td>\n",
       "      <td>1</td>\n",
       "      <td>3141</td>\n",
       "    </tr>\n",
       "    <tr>\n",
       "      <th>222</th>\n",
       "      <td>21306</td>\n",
       "      <td>3</td>\n",
       "      <td>3111</td>\n",
       "    </tr>\n",
       "    <tr>\n",
       "      <th>208</th>\n",
       "      <td>21157</td>\n",
       "      <td>2</td>\n",
       "      <td>2926</td>\n",
       "    </tr>\n",
       "    <tr>\n",
       "      <th>25</th>\n",
       "      <td>11805</td>\n",
       "      <td>13</td>\n",
       "      <td>2886</td>\n",
       "    </tr>\n",
       "  </tbody>\n",
       "</table>\n",
       "</div>"
      ],
      "text/plain": [
       "     product_article  invoice_product_all_amount  volume\n",
       "124            20224                         120    5340\n",
       "198            21107                           4    4777\n",
       "15             11134                           1    4268\n",
       "511            34828                           1    3858\n",
       "161            20585                           3    3408\n",
       "114            20048                           1    3197\n",
       "515            34864                           1    3141\n",
       "222            21306                           3    3111\n",
       "208            21157                           2    2926\n",
       "25             11805                          13    2886"
      ]
     },
     "execution_count": 52,
     "metadata": {},
     "output_type": "execute_result"
    }
   ],
   "source": [
    "top_prod = graf_df.groupby('product_article',as_index=False).sum()\n",
    "top_prod = top_prod.sort_values(by=['volume'], ascending=False).head(10)\n",
    "top_prod.iloc[:,[0,1,3]]"
   ]
  },
  {
   "cell_type": "code",
   "execution_count": 53,
   "metadata": {},
   "outputs": [
    {
     "data": {
      "image/png": "[encoded data removed]",
      "text/plain": [
       "<Figure size 1008x432 with 1 Axes>"
      ]
     },
     "metadata": {},
     "output_type": "display_data"
    }
   ],
   "source": [
    "sns.set_style('white')\n",
    "labels = ['П1', 'П2', 'П3', 'П4', 'П5', 'П6', 'П7', 'П8', 'П9','П10']\n",
    "top_prod_val = [i for i in top_prod.loc[:,'volume']]\n",
    "plt.figure(figsize = (14,6))\n",
    "plt.barh(labels,\n",
    "         width=top_prod_val,\n",
    "         color='midnightblue')\n",
    "plt.title('TOP-10 продуктов', fontsize = 15, fontweight = 'bold', color = 'black', loc = 'left')\n",
    "plt.xlabel('Объем продаж, у.е', fontsize = 13, fontweight = 'bold', color = 'black')\n",
    "plt.yticks(fontsize = 13,fontweight = 'bold', color = 'black')\n",
    "plt.xticks(np.arange(0, 5600, step=250), rotation=45)\n",
    "sns.despine()\n",
    "plt.show()"
   ]
  },
  {
   "cell_type": "markdown",
   "metadata": {},
   "source": [
    "Где 'П1', 'П2',...,'П10' соответствуют продукту по убыванию выручки. (К сожалению, названий я не знаю)"
   ]
  },
  {
   "cell_type": "code",
   "execution_count": 54,
   "metadata": {},
   "outputs": [
    {
     "name": "stderr",
     "output_type": "stream",
     "text": [
      "C:\\Users\\arl9k\\anaconda3\\lib\\site-packages\\ipykernel_launcher.py:16: MatplotlibDeprecationWarning: Non-1D inputs to pie() are currently squeeze()d, but this behavior is deprecated since 3.1 and will be removed in 3.3; pass a 1D array instead.\n",
      "  app.launch_new_instance()\n"
     ]
    },
    {
     "data": {
      "image/png": "[encoded data removed]",
      "text/plain": [
       "<Figure size 720x576 with 1 Axes>"
      ]
     },
     "metadata": {},
     "output_type": "display_data"
    }
   ],
   "source": [
    "sns.set_style('white')\n",
    "sns.set_palette('colorblind')\n",
    "\n",
    "pie_prod_df = pd.DataFrame({\n",
    "    'Top10': top_prod.volume.sum(),\n",
    "    'Остальные': (graf_df.volume.sum()-top_prod.volume.sum())\n",
    "    }, columns = ('Top10', 'Остальные'),\n",
    "    index=[0])\n",
    "\n",
    "plt.figure(figsize=(10,8))\n",
    "plt.pie(pie_prod_df,\n",
    "        labels = ['top10', 'Остальные'],\n",
    "        autopct = '%.1f%%',\n",
    "        textprops = {'size': 'x-large',\n",
    "                    'fontweight': 'bold',\n",
    "                    'color': 'w'})\n",
    "plt.title('Доля Топ-10 продуктов в структуре выручки',\n",
    "          fontsize=15,\n",
    "          fontweight = 'bold',\n",
    "          loc = 'left',\n",
    "          pad=-20)\n",
    "\n",
    "plt.legend(['Топ-10', 'Остальные продукты'],\n",
    "           fontsize=13,\n",
    "           loc='lower left')\n",
    "sns.despine()\n",
    "plt.show()"
   ]
  },
  {
   "cell_type": "markdown",
   "metadata": {},
   "source": [
    "Как мы видим доля этих десяти товаров в общей выручке колоссальна. Доля этих товаров составляет 11,5% от общей выручки сети."
   ]
  },
  {
   "cell_type": "markdown",
   "metadata": {},
   "source": [
    "Проведем аналогичные манипуляции по магазинам."
   ]
  },
  {
   "cell_type": "code",
   "execution_count": 55,
   "metadata": {},
   "outputs": [
    {
     "data": {
      "text/html": [
       "<div>\n",
       "<style scoped>\n",
       "    .dataframe tbody tr th:only-of-type {\n",
       "        vertical-align: middle;\n",
       "    }\n",
       "\n",
       "    .dataframe tbody tr th {\n",
       "        vertical-align: top;\n",
       "    }\n",
       "\n",
       "    .dataframe thead th {\n",
       "        text-align: right;\n",
       "    }\n",
       "</style>\n",
       "<table border=\"1\" class=\"dataframe\">\n",
       "  <thead>\n",
       "    <tr style=\"text-align: right;\">\n",
       "      <th></th>\n",
       "      <th>shop_id</th>\n",
       "      <th>invoice_product_all_amount</th>\n",
       "      <th>invoice_product_price</th>\n",
       "      <th>volume</th>\n",
       "    </tr>\n",
       "  </thead>\n",
       "  <tbody>\n",
       "    <tr>\n",
       "      <th>count</th>\n",
       "      <td>94.0</td>\n",
       "      <td>94.000000</td>\n",
       "      <td>94.000000</td>\n",
       "      <td>94.000000</td>\n",
       "    </tr>\n",
       "    <tr>\n",
       "      <th>unique</th>\n",
       "      <td>94.0</td>\n",
       "      <td>NaN</td>\n",
       "      <td>NaN</td>\n",
       "      <td>NaN</td>\n",
       "    </tr>\n",
       "    <tr>\n",
       "      <th>top</th>\n",
       "      <td>127.0</td>\n",
       "      <td>NaN</td>\n",
       "      <td>NaN</td>\n",
       "      <td>NaN</td>\n",
       "    </tr>\n",
       "    <tr>\n",
       "      <th>freq</th>\n",
       "      <td>1.0</td>\n",
       "      <td>NaN</td>\n",
       "      <td>NaN</td>\n",
       "      <td>NaN</td>\n",
       "    </tr>\n",
       "    <tr>\n",
       "      <th>mean</th>\n",
       "      <td>NaN</td>\n",
       "      <td>18.957447</td>\n",
       "      <td>2859.829362</td>\n",
       "      <td>3412.723404</td>\n",
       "    </tr>\n",
       "    <tr>\n",
       "      <th>std</th>\n",
       "      <td>NaN</td>\n",
       "      <td>19.483058</td>\n",
       "      <td>2752.862285</td>\n",
       "      <td>3027.468677</td>\n",
       "    </tr>\n",
       "    <tr>\n",
       "      <th>min</th>\n",
       "      <td>NaN</td>\n",
       "      <td>1.000000</td>\n",
       "      <td>146.000000</td>\n",
       "      <td>154.000000</td>\n",
       "    </tr>\n",
       "    <tr>\n",
       "      <th>25%</th>\n",
       "      <td>NaN</td>\n",
       "      <td>6.000000</td>\n",
       "      <td>1024.250000</td>\n",
       "      <td>1397.000000</td>\n",
       "    </tr>\n",
       "    <tr>\n",
       "      <th>50%</th>\n",
       "      <td>NaN</td>\n",
       "      <td>12.500000</td>\n",
       "      <td>1884.000000</td>\n",
       "      <td>2473.000000</td>\n",
       "    </tr>\n",
       "    <tr>\n",
       "      <th>75%</th>\n",
       "      <td>NaN</td>\n",
       "      <td>24.000000</td>\n",
       "      <td>4051.250000</td>\n",
       "      <td>4793.750000</td>\n",
       "    </tr>\n",
       "    <tr>\n",
       "      <th>max</th>\n",
       "      <td>NaN</td>\n",
       "      <td>131.000000</td>\n",
       "      <td>14745.240000</td>\n",
       "      <td>14999.000000</td>\n",
       "    </tr>\n",
       "  </tbody>\n",
       "</table>\n",
       "</div>"
      ],
      "text/plain": [
       "        shop_id  invoice_product_all_amount  invoice_product_price  \\\n",
       "count      94.0                   94.000000              94.000000   \n",
       "unique     94.0                         NaN                    NaN   \n",
       "top       127.0                         NaN                    NaN   \n",
       "freq        1.0                         NaN                    NaN   \n",
       "mean        NaN                   18.957447            2859.829362   \n",
       "std         NaN                   19.483058            2752.862285   \n",
       "min         NaN                    1.000000             146.000000   \n",
       "25%         NaN                    6.000000            1024.250000   \n",
       "50%         NaN                   12.500000            1884.000000   \n",
       "75%         NaN                   24.000000            4051.250000   \n",
       "max         NaN                  131.000000           14745.240000   \n",
       "\n",
       "              volume  \n",
       "count      94.000000  \n",
       "unique           NaN  \n",
       "top              NaN  \n",
       "freq             NaN  \n",
       "mean     3412.723404  \n",
       "std      3027.468677  \n",
       "min       154.000000  \n",
       "25%      1397.000000  \n",
       "50%      2473.000000  \n",
       "75%      4793.750000  \n",
       "max     14999.000000  "
      ]
     },
     "execution_count": 55,
     "metadata": {},
     "output_type": "execute_result"
    }
   ],
   "source": [
    "shop = graf_df.groupby('shop_id',as_index=False).sum()\n",
    "shop['shop_id'] = shop['shop_id'].astype(\"object\")\n",
    "shop.describe(include='all')"
   ]
  },
  {
   "cell_type": "markdown",
   "metadata": {},
   "source": [
    "Средняя выручка 94 магазинов составляет 3412,72 у.е. При этом, 75% из выборки имеет индивидуальную выручку меньше 4793,75 у.е."
   ]
  },
  {
   "cell_type": "code",
   "execution_count": 56,
   "metadata": {},
   "outputs": [
    {
     "data": {
      "image/png": "[encoded data removed]",
      "text/plain": [
       "<Figure size 432x288 with 1 Axes>"
      ]
     },
     "metadata": {},
     "output_type": "display_data"
    }
   ],
   "source": [
    "sns.set_style('white')\n",
    "sns.distplot(shop.volume, color='midnightblue')\n",
    "plt.xlim(0)\n",
    "sns.despine()"
   ]
  },
  {
   "cell_type": "markdown",
   "metadata": {},
   "source": [
    "Рассмотрим результаты лучших магазинов сети."
   ]
  },
  {
   "cell_type": "code",
   "execution_count": 57,
   "metadata": {},
   "outputs": [
    {
     "data": {
      "text/html": [
       "<div>\n",
       "<style scoped>\n",
       "    .dataframe tbody tr th:only-of-type {\n",
       "        vertical-align: middle;\n",
       "    }\n",
       "\n",
       "    .dataframe tbody tr th {\n",
       "        vertical-align: top;\n",
       "    }\n",
       "\n",
       "    .dataframe thead th {\n",
       "        text-align: right;\n",
       "    }\n",
       "</style>\n",
       "<table border=\"1\" class=\"dataframe\">\n",
       "  <thead>\n",
       "    <tr style=\"text-align: right;\">\n",
       "      <th></th>\n",
       "      <th>shop_id</th>\n",
       "      <th>invoice_product_all_amount</th>\n",
       "      <th>volume</th>\n",
       "    </tr>\n",
       "  </thead>\n",
       "  <tbody>\n",
       "    <tr>\n",
       "      <th>90</th>\n",
       "      <td>245</td>\n",
       "      <td>35</td>\n",
       "      <td>14999</td>\n",
       "    </tr>\n",
       "    <tr>\n",
       "      <th>27</th>\n",
       "      <td>50</td>\n",
       "      <td>38</td>\n",
       "      <td>12707</td>\n",
       "    </tr>\n",
       "    <tr>\n",
       "      <th>16</th>\n",
       "      <td>28</td>\n",
       "      <td>83</td>\n",
       "      <td>11229</td>\n",
       "    </tr>\n",
       "    <tr>\n",
       "      <th>41</th>\n",
       "      <td>80</td>\n",
       "      <td>41</td>\n",
       "      <td>10972</td>\n",
       "    </tr>\n",
       "    <tr>\n",
       "      <th>91</th>\n",
       "      <td>250</td>\n",
       "      <td>50</td>\n",
       "      <td>10690</td>\n",
       "    </tr>\n",
       "    <tr>\n",
       "      <th>51</th>\n",
       "      <td>107</td>\n",
       "      <td>64</td>\n",
       "      <td>9088</td>\n",
       "    </tr>\n",
       "    <tr>\n",
       "      <th>58</th>\n",
       "      <td>127</td>\n",
       "      <td>14</td>\n",
       "      <td>8001</td>\n",
       "    </tr>\n",
       "    <tr>\n",
       "      <th>70</th>\n",
       "      <td>155</td>\n",
       "      <td>27</td>\n",
       "      <td>7954</td>\n",
       "    </tr>\n",
       "    <tr>\n",
       "      <th>52</th>\n",
       "      <td>108</td>\n",
       "      <td>20</td>\n",
       "      <td>7950</td>\n",
       "    </tr>\n",
       "    <tr>\n",
       "      <th>54</th>\n",
       "      <td>116</td>\n",
       "      <td>44</td>\n",
       "      <td>7927</td>\n",
       "    </tr>\n",
       "  </tbody>\n",
       "</table>\n",
       "</div>"
      ],
      "text/plain": [
       "    shop_id  invoice_product_all_amount  volume\n",
       "90      245                          35   14999\n",
       "27       50                          38   12707\n",
       "16       28                          83   11229\n",
       "41       80                          41   10972\n",
       "91      250                          50   10690\n",
       "51      107                          64    9088\n",
       "58      127                          14    8001\n",
       "70      155                          27    7954\n",
       "52      108                          20    7950\n",
       "54      116                          44    7927"
      ]
     },
     "execution_count": 57,
     "metadata": {},
     "output_type": "execute_result"
    }
   ],
   "source": [
    "top_shop = graf_df.groupby('shop_id',as_index=False).sum()\n",
    "top_shop = top_shop.sort_values(by=['volume'], ascending=False).head(10)\n",
    "top_shop.iloc[:,[0,1,3]]"
   ]
  },
  {
   "cell_type": "markdown",
   "metadata": {},
   "source": [
    "Самый успешный магазин компании - магазин под номером 245. Его выручка превышает среднюю выручку по сети почти в 4,5 раза."
   ]
  },
  {
   "cell_type": "code",
   "execution_count": 58,
   "metadata": {},
   "outputs": [
    {
     "data": {
      "image/png": "[encoded data removed]",
      "text/plain": [
       "<Figure size 1008x432 with 1 Axes>"
      ]
     },
     "metadata": {},
     "output_type": "display_data"
    }
   ],
   "source": [
    "sns.set_style('white')\n",
    "labels = ['245', '50', '28', '80', '250', '107', '127', '155', '108','116']\n",
    "top_shop_val = [i for i in top_shop.loc[:,'volume']]\n",
    "plt.figure(figsize = (14,6))\n",
    "plt.barh(labels,\n",
    "         width=top_shop_val,\n",
    "         color='midnightblue')\n",
    "plt.title('TOP-10 магазинов', fontsize = 15, fontweight = 'bold', color = 'black', loc = 'left')\n",
    "plt.xlabel('Объем продаж, у.е', fontsize = 13, fontweight = 'bold', color = 'black')\n",
    "plt.yticks(fontsize = 13,fontweight = 'bold', color = 'black')\n",
    "plt.xticks(np.arange(0, 16500, step=500), rotation=45)\n",
    "sns.despine()\n",
    "plt.show()"
   ]
  },
  {
   "cell_type": "code",
   "execution_count": 59,
   "metadata": {},
   "outputs": [
    {
     "name": "stderr",
     "output_type": "stream",
     "text": [
      "C:\\Users\\arl9k\\anaconda3\\lib\\site-packages\\ipykernel_launcher.py:16: MatplotlibDeprecationWarning: Non-1D inputs to pie() are currently squeeze()d, but this behavior is deprecated since 3.1 and will be removed in 3.3; pass a 1D array instead.\n",
      "  app.launch_new_instance()\n"
     ]
    },
    {
     "data": {
      "image/png": "[encoded data removed]",
      "text/plain": [
       "<Figure size 720x576 with 1 Axes>"
      ]
     },
     "metadata": {},
     "output_type": "display_data"
    }
   ],
   "source": [
    "sns.set_style('white')\n",
    "sns.set_palette('colorblind')\n",
    "\n",
    "pie_shop_df = pd.DataFrame({\n",
    "    'Top10': top_shop.volume.sum(),\n",
    "    'Остальные': (graf_df.volume.sum()-top_shop.volume.sum())\n",
    "    }, columns = ('Top10', 'Остальные'),\n",
    "    index=[0])\n",
    "\n",
    "plt.figure(figsize=(10,8))\n",
    "plt.pie(pie_shop_df,\n",
    "        labels = ['top10', 'Остальные'],\n",
    "        autopct = '%.1f%%',\n",
    "        textprops = {'size': 'x-large',\n",
    "                    'fontweight': 'bold',\n",
    "                    'color': 'w'})\n",
    "plt.title('Доля Топ-10 магазинов в структуре выручки',\n",
    "          fontsize=15,\n",
    "          fontweight = 'bold',\n",
    "          loc = 'left',\n",
    "          pad=-20)\n",
    "\n",
    "plt.legend(['Топ-10', 'Остальные магазины'],\n",
    "           fontsize=13,\n",
    "           loc='lower left')\n",
    "sns.despine()\n",
    "plt.show()"
   ]
  },
  {
   "cell_type": "markdown",
   "metadata": {},
   "source": [
    "Топ-10 магазинов приносят почти треть выручки сети."
   ]
  },
  {
   "cell_type": "markdown",
   "metadata": {},
   "source": [
    "Аналогичную статистику можно применить и к клиентам."
   ]
  },
  {
   "cell_type": "code",
   "execution_count": 60,
   "metadata": {},
   "outputs": [
    {
     "data": {
      "text/html": [
       "<div>\n",
       "<style scoped>\n",
       "    .dataframe tbody tr th:only-of-type {\n",
       "        vertical-align: middle;\n",
       "    }\n",
       "\n",
       "    .dataframe tbody tr th {\n",
       "        vertical-align: top;\n",
       "    }\n",
       "\n",
       "    .dataframe thead th {\n",
       "        text-align: right;\n",
       "    }\n",
       "</style>\n",
       "<table border=\"1\" class=\"dataframe\">\n",
       "  <thead>\n",
       "    <tr style=\"text-align: right;\">\n",
       "      <th></th>\n",
       "      <th>client_retail_id</th>\n",
       "      <th>invoice_product_all_amount</th>\n",
       "      <th>invoice_product_price</th>\n",
       "      <th>volume</th>\n",
       "    </tr>\n",
       "  </thead>\n",
       "  <tbody>\n",
       "    <tr>\n",
       "      <th>count</th>\n",
       "      <td>425.0</td>\n",
       "      <td>425.000000</td>\n",
       "      <td>425.000000</td>\n",
       "      <td>425.000000</td>\n",
       "    </tr>\n",
       "    <tr>\n",
       "      <th>unique</th>\n",
       "      <td>425.0</td>\n",
       "      <td>NaN</td>\n",
       "      <td>NaN</td>\n",
       "      <td>NaN</td>\n",
       "    </tr>\n",
       "    <tr>\n",
       "      <th>top</th>\n",
       "      <td>1731654.0</td>\n",
       "      <td>NaN</td>\n",
       "      <td>NaN</td>\n",
       "      <td>NaN</td>\n",
       "    </tr>\n",
       "    <tr>\n",
       "      <th>freq</th>\n",
       "      <td>1.0</td>\n",
       "      <td>NaN</td>\n",
       "      <td>NaN</td>\n",
       "      <td>NaN</td>\n",
       "    </tr>\n",
       "    <tr>\n",
       "      <th>mean</th>\n",
       "      <td>NaN</td>\n",
       "      <td>4.192941</td>\n",
       "      <td>632.526965</td>\n",
       "      <td>754.814118</td>\n",
       "    </tr>\n",
       "    <tr>\n",
       "      <th>std</th>\n",
       "      <td>NaN</td>\n",
       "      <td>7.506943</td>\n",
       "      <td>693.865098</td>\n",
       "      <td>746.943009</td>\n",
       "    </tr>\n",
       "    <tr>\n",
       "      <th>min</th>\n",
       "      <td>NaN</td>\n",
       "      <td>1.000000</td>\n",
       "      <td>3.000000</td>\n",
       "      <td>3.000000</td>\n",
       "    </tr>\n",
       "    <tr>\n",
       "      <th>25%</th>\n",
       "      <td>NaN</td>\n",
       "      <td>1.000000</td>\n",
       "      <td>200.000000</td>\n",
       "      <td>278.000000</td>\n",
       "    </tr>\n",
       "    <tr>\n",
       "      <th>50%</th>\n",
       "      <td>NaN</td>\n",
       "      <td>2.000000</td>\n",
       "      <td>358.000000</td>\n",
       "      <td>518.000000</td>\n",
       "    </tr>\n",
       "    <tr>\n",
       "      <th>75%</th>\n",
       "      <td>NaN</td>\n",
       "      <td>5.000000</td>\n",
       "      <td>888.000000</td>\n",
       "      <td>1052.000000</td>\n",
       "    </tr>\n",
       "    <tr>\n",
       "      <th>max</th>\n",
       "      <td>NaN</td>\n",
       "      <td>122.000000</td>\n",
       "      <td>5322.000000</td>\n",
       "      <td>5346.000000</td>\n",
       "    </tr>\n",
       "  </tbody>\n",
       "</table>\n",
       "</div>"
      ],
      "text/plain": [
       "        client_retail_id  invoice_product_all_amount  invoice_product_price  \\\n",
       "count              425.0                  425.000000             425.000000   \n",
       "unique             425.0                         NaN                    NaN   \n",
       "top            1731654.0                         NaN                    NaN   \n",
       "freq                 1.0                         NaN                    NaN   \n",
       "mean                 NaN                    4.192941             632.526965   \n",
       "std                  NaN                    7.506943             693.865098   \n",
       "min                  NaN                    1.000000               3.000000   \n",
       "25%                  NaN                    1.000000             200.000000   \n",
       "50%                  NaN                    2.000000             358.000000   \n",
       "75%                  NaN                    5.000000             888.000000   \n",
       "max                  NaN                  122.000000            5322.000000   \n",
       "\n",
       "             volume  \n",
       "count    425.000000  \n",
       "unique          NaN  \n",
       "top             NaN  \n",
       "freq            NaN  \n",
       "mean     754.814118  \n",
       "std      746.943009  \n",
       "min        3.000000  \n",
       "25%      278.000000  \n",
       "50%      518.000000  \n",
       "75%     1052.000000  \n",
       "max     5346.000000  "
      ]
     },
     "execution_count": 60,
     "metadata": {},
     "output_type": "execute_result"
    }
   ],
   "source": [
    "client =  graf_df.groupby('client_retail_id',as_index=False).sum()\n",
    "client['client_retail_id'] = client['client_retail_id'].astype(\"object\")\n",
    "client.describe(include='all')"
   ]
  },
  {
   "cell_type": "markdown",
   "metadata": {},
   "source": [
    "В среднем, каждый из 425 клиентов приносит по 754,81 у.е. "
   ]
  },
  {
   "cell_type": "code",
   "execution_count": 61,
   "metadata": {},
   "outputs": [
    {
     "data": {
      "image/png": "[encoded data removed]",
      "text/plain": [
       "<Figure size 432x288 with 1 Axes>"
      ]
     },
     "metadata": {},
     "output_type": "display_data"
    }
   ],
   "source": [
    "sns.set_style('white')\n",
    "sns.distplot(client.volume, color='midnightblue')\n",
    "plt.xlim(0)\n",
    "sns.despine()"
   ]
  },
  {
   "cell_type": "markdown",
   "metadata": {},
   "source": [
    "Рассмотрим самых прибыльных клиентов"
   ]
  },
  {
   "cell_type": "code",
   "execution_count": 62,
   "metadata": {},
   "outputs": [
    {
     "data": {
      "text/html": [
       "<div>\n",
       "<style scoped>\n",
       "    .dataframe tbody tr th:only-of-type {\n",
       "        vertical-align: middle;\n",
       "    }\n",
       "\n",
       "    .dataframe tbody tr th {\n",
       "        vertical-align: top;\n",
       "    }\n",
       "\n",
       "    .dataframe thead th {\n",
       "        text-align: right;\n",
       "    }\n",
       "</style>\n",
       "<table border=\"1\" class=\"dataframe\">\n",
       "  <thead>\n",
       "    <tr style=\"text-align: right;\">\n",
       "      <th></th>\n",
       "      <th>client_retail_id</th>\n",
       "      <th>invoice_product_all_amount</th>\n",
       "      <th>volume</th>\n",
       "    </tr>\n",
       "  </thead>\n",
       "  <tbody>\n",
       "    <tr>\n",
       "      <th>222</th>\n",
       "      <td>1576999</td>\n",
       "      <td>122</td>\n",
       "      <td>5346</td>\n",
       "    </tr>\n",
       "    <tr>\n",
       "      <th>126</th>\n",
       "      <td>994420</td>\n",
       "      <td>2</td>\n",
       "      <td>5322</td>\n",
       "    </tr>\n",
       "    <tr>\n",
       "      <th>276</th>\n",
       "      <td>1605321</td>\n",
       "      <td>16</td>\n",
       "      <td>4712</td>\n",
       "    </tr>\n",
       "    <tr>\n",
       "      <th>146</th>\n",
       "      <td>1129652</td>\n",
       "      <td>1</td>\n",
       "      <td>4268</td>\n",
       "    </tr>\n",
       "    <tr>\n",
       "      <th>73</th>\n",
       "      <td>693373</td>\n",
       "      <td>2</td>\n",
       "      <td>4056</td>\n",
       "    </tr>\n",
       "    <tr>\n",
       "      <th>416</th>\n",
       "      <td>1731807</td>\n",
       "      <td>6</td>\n",
       "      <td>3917</td>\n",
       "    </tr>\n",
       "    <tr>\n",
       "      <th>296</th>\n",
       "      <td>1623222</td>\n",
       "      <td>7</td>\n",
       "      <td>3642</td>\n",
       "    </tr>\n",
       "    <tr>\n",
       "      <th>149</th>\n",
       "      <td>1170853</td>\n",
       "      <td>2</td>\n",
       "      <td>3586</td>\n",
       "    </tr>\n",
       "    <tr>\n",
       "      <th>191</th>\n",
       "      <td>1468880</td>\n",
       "      <td>6</td>\n",
       "      <td>3022</td>\n",
       "    </tr>\n",
       "    <tr>\n",
       "      <th>379</th>\n",
       "      <td>1700739</td>\n",
       "      <td>2</td>\n",
       "      <td>3015</td>\n",
       "    </tr>\n",
       "  </tbody>\n",
       "</table>\n",
       "</div>"
      ],
      "text/plain": [
       "     client_retail_id  invoice_product_all_amount  volume\n",
       "222           1576999                         122    5346\n",
       "126            994420                           2    5322\n",
       "276           1605321                          16    4712\n",
       "146           1129652                           1    4268\n",
       "73             693373                           2    4056\n",
       "416           1731807                           6    3917\n",
       "296           1623222                           7    3642\n",
       "149           1170853                           2    3586\n",
       "191           1468880                           6    3022\n",
       "379           1700739                           2    3015"
      ]
     },
     "execution_count": 62,
     "metadata": {},
     "output_type": "execute_result"
    }
   ],
   "source": [
    "top_client = graf_df.groupby('client_retail_id',as_index=False).sum()\n",
    "top_client = top_client.sort_values(by=['volume'], ascending=False).head(10)\n",
    "top_client.iloc[:,[0,1,3]]"
   ]
  },
  {
   "cell_type": "code",
   "execution_count": 63,
   "metadata": {},
   "outputs": [
    {
     "data": {
      "image/png": "[encoded data removed]",
      "text/plain": [
       "<Figure size 1008x432 with 1 Axes>"
      ]
     },
     "metadata": {},
     "output_type": "display_data"
    }
   ],
   "source": [
    "sns.set_style('white')\n",
    "labels =  ['К1', 'К2', 'К3', 'К4', 'К5', 'К6', 'К7', 'К8', 'К9','К10']\n",
    "top_client_val = [i for i in top_client.loc[:,'volume']]\n",
    "plt.figure(figsize = (14,6))\n",
    "plt.barh(labels,\n",
    "         width=top_client_val,\n",
    "         color='midnightblue')\n",
    "plt.title('TOP-10 клиентов', fontsize = 15, fontweight = 'bold', color = 'black', loc = 'left')\n",
    "plt.xlabel('Объем продаж, у.е', fontsize = 13, fontweight = 'bold', color = 'black')\n",
    "plt.yticks(fontsize = 13,fontweight = 'bold', color = 'black')\n",
    "plt.xticks(np.arange(0, 5600, step=250), rotation=45)\n",
    "sns.despine()\n",
    "plt.show()"
   ]
  },
  {
   "cell_type": "code",
   "execution_count": 64,
   "metadata": {},
   "outputs": [
    {
     "name": "stderr",
     "output_type": "stream",
     "text": [
      "C:\\Users\\arl9k\\anaconda3\\lib\\site-packages\\ipykernel_launcher.py:16: MatplotlibDeprecationWarning: Non-1D inputs to pie() are currently squeeze()d, but this behavior is deprecated since 3.1 and will be removed in 3.3; pass a 1D array instead.\n",
      "  app.launch_new_instance()\n"
     ]
    },
    {
     "data": {
      "image/png": "[encoded data removed]",
      "text/plain": [
       "<Figure size 720x576 with 1 Axes>"
      ]
     },
     "metadata": {},
     "output_type": "display_data"
    }
   ],
   "source": [
    "sns.set_style('white')\n",
    "sns.set_palette('colorblind')\n",
    "\n",
    "pie_client_df = pd.DataFrame({\n",
    "    'Top10': top_client.volume.sum(),\n",
    "    'Остальные': (graf_df.volume.sum()-top_client.volume.sum())\n",
    "    }, columns = ('Top10', 'Остальные'),\n",
    "    index=[0])\n",
    "\n",
    "plt.figure(figsize=(10,8))\n",
    "plt.pie(pie_client_df,\n",
    "        labels = ['top10', 'Остальные'],\n",
    "        autopct = '%.1f%%',\n",
    "        textprops = {'size': 'x-large',\n",
    "                    'fontweight': 'bold',\n",
    "                    'color': 'w'})\n",
    "plt.title('Доля Топ-10 клиентов в структуре выручки',\n",
    "          fontsize=15,\n",
    "          fontweight = 'bold',\n",
    "          loc = 'left',\n",
    "          pad=-20)\n",
    "\n",
    "plt.legend(['Топ-10', 'Остальные клиенты'],\n",
    "           fontsize=13,\n",
    "           loc='lower left')\n",
    "sns.despine()\n",
    "plt.show()"
   ]
  },
  {
   "cell_type": "markdown",
   "metadata": {},
   "source": [
    "Выручка от этих клиентов составляют 12,7% от всех клиентов."
   ]
  },
  {
   "cell_type": "markdown",
   "metadata": {},
   "source": [
    " "
   ]
  },
  {
   "cell_type": "markdown",
   "metadata": {},
   "source": [
    "# Второй датасет"
   ]
  },
  {
   "cell_type": "markdown",
   "metadata": {},
   "source": [
    "Рассмотрим второй датасет"
   ]
  },
  {
   "cell_type": "code",
   "execution_count": 65,
   "metadata": {},
   "outputs": [
    {
     "data": {
      "text/html": [
       "<div>\n",
       "<style scoped>\n",
       "    .dataframe tbody tr th:only-of-type {\n",
       "        vertical-align: middle;\n",
       "    }\n",
       "\n",
       "    .dataframe tbody tr th {\n",
       "        vertical-align: top;\n",
       "    }\n",
       "\n",
       "    .dataframe thead th {\n",
       "        text-align: right;\n",
       "    }\n",
       "</style>\n",
       "<table border=\"1\" class=\"dataframe\">\n",
       "  <thead>\n",
       "    <tr style=\"text-align: right;\">\n",
       "      <th></th>\n",
       "      <th>client_retail_id</th>\n",
       "      <th>invoice_id</th>\n",
       "      <th>invoice_sum</th>\n",
       "    </tr>\n",
       "  </thead>\n",
       "  <tbody>\n",
       "    <tr>\n",
       "      <th>0</th>\n",
       "      <td>1008981</td>\n",
       "      <td>30964883</td>\n",
       "      <td>930</td>\n",
       "    </tr>\n",
       "    <tr>\n",
       "      <th>1</th>\n",
       "      <td>1013920</td>\n",
       "      <td>30964408</td>\n",
       "      <td>128</td>\n",
       "    </tr>\n",
       "    <tr>\n",
       "      <th>2</th>\n",
       "      <td>1014213</td>\n",
       "      <td>30967849</td>\n",
       "      <td>307</td>\n",
       "    </tr>\n",
       "    <tr>\n",
       "      <th>3</th>\n",
       "      <td>1043718</td>\n",
       "      <td>30967635</td>\n",
       "      <td>278</td>\n",
       "    </tr>\n",
       "    <tr>\n",
       "      <th>4</th>\n",
       "      <td>1046476</td>\n",
       "      <td>30968289</td>\n",
       "      <td>1022</td>\n",
       "    </tr>\n",
       "  </tbody>\n",
       "</table>\n",
       "</div>"
      ],
      "text/plain": [
       "   client_retail_id  invoice_id  invoice_sum\n",
       "0           1008981    30964883          930\n",
       "1           1013920    30964408          128\n",
       "2           1014213    30967849          307\n",
       "3           1043718    30967635          278\n",
       "4           1046476    30968289         1022"
      ]
     },
     "execution_count": 65,
     "metadata": {},
     "output_type": "execute_result"
    }
   ],
   "source": [
    "data2 = pd.read_excel('C:/Users/arl9k/my_python_projects/test/тестовое_мл_аналитик.xlsx',sheet_name=1)\n",
    "data2.head()"
   ]
  },
  {
   "cell_type": "code",
   "execution_count": 66,
   "metadata": {},
   "outputs": [
    {
     "data": {
      "text/plain": [
       "(428, 3)"
      ]
     },
     "execution_count": 66,
     "metadata": {},
     "output_type": "execute_result"
    }
   ],
   "source": [
    "data2.shape"
   ]
  },
  {
   "cell_type": "markdown",
   "metadata": {},
   "source": [
    "Он состоит из 428 строк и 3 столбцов"
   ]
  },
  {
   "cell_type": "code",
   "execution_count": 67,
   "metadata": {},
   "outputs": [
    {
     "data": {
      "text/html": [
       "<div>\n",
       "<style scoped>\n",
       "    .dataframe tbody tr th:only-of-type {\n",
       "        vertical-align: middle;\n",
       "    }\n",
       "\n",
       "    .dataframe tbody tr th {\n",
       "        vertical-align: top;\n",
       "    }\n",
       "\n",
       "    .dataframe thead th {\n",
       "        text-align: right;\n",
       "    }\n",
       "</style>\n",
       "<table border=\"1\" class=\"dataframe\">\n",
       "  <thead>\n",
       "    <tr style=\"text-align: right;\">\n",
       "      <th></th>\n",
       "      <th>client_retail_id</th>\n",
       "      <th>invoice_id</th>\n",
       "      <th>invoice_sum</th>\n",
       "    </tr>\n",
       "  </thead>\n",
       "  <tbody>\n",
       "    <tr>\n",
       "      <th>count</th>\n",
       "      <td>4.280000e+02</td>\n",
       "      <td>4.280000e+02</td>\n",
       "      <td>428.000000</td>\n",
       "    </tr>\n",
       "    <tr>\n",
       "      <th>mean</th>\n",
       "      <td>1.266502e+06</td>\n",
       "      <td>3.096635e+07</td>\n",
       "      <td>753.142523</td>\n",
       "    </tr>\n",
       "    <tr>\n",
       "      <th>std</th>\n",
       "      <td>4.750300e+05</td>\n",
       "      <td>1.755226e+03</td>\n",
       "      <td>731.594848</td>\n",
       "    </tr>\n",
       "    <tr>\n",
       "      <th>min</th>\n",
       "      <td>9.252000e+04</td>\n",
       "      <td>3.096388e+07</td>\n",
       "      <td>40.000000</td>\n",
       "    </tr>\n",
       "    <tr>\n",
       "      <th>25%</th>\n",
       "      <td>9.013408e+05</td>\n",
       "      <td>3.096453e+07</td>\n",
       "      <td>283.750000</td>\n",
       "    </tr>\n",
       "    <tr>\n",
       "      <th>50%</th>\n",
       "      <td>1.559082e+06</td>\n",
       "      <td>3.096735e+07</td>\n",
       "      <td>499.500000</td>\n",
       "    </tr>\n",
       "    <tr>\n",
       "      <th>75%</th>\n",
       "      <td>1.638056e+06</td>\n",
       "      <td>3.096798e+07</td>\n",
       "      <td>1050.500000</td>\n",
       "    </tr>\n",
       "    <tr>\n",
       "      <th>max</th>\n",
       "      <td>1.731856e+06</td>\n",
       "      <td>3.096866e+07</td>\n",
       "      <td>5322.000000</td>\n",
       "    </tr>\n",
       "  </tbody>\n",
       "</table>\n",
       "</div>"
      ],
      "text/plain": [
       "       client_retail_id    invoice_id  invoice_sum\n",
       "count      4.280000e+02  4.280000e+02   428.000000\n",
       "mean       1.266502e+06  3.096635e+07   753.142523\n",
       "std        4.750300e+05  1.755226e+03   731.594848\n",
       "min        9.252000e+04  3.096388e+07    40.000000\n",
       "25%        9.013408e+05  3.096453e+07   283.750000\n",
       "50%        1.559082e+06  3.096735e+07   499.500000\n",
       "75%        1.638056e+06  3.096798e+07  1050.500000\n",
       "max        1.731856e+06  3.096866e+07  5322.000000"
      ]
     },
     "execution_count": 67,
     "metadata": {},
     "output_type": "execute_result"
    }
   ],
   "source": [
    "data2.describe(include='all')"
   ]
  },
  {
   "cell_type": "code",
   "execution_count": 68,
   "metadata": {},
   "outputs": [
    {
     "name": "stdout",
     "output_type": "stream",
     "text": [
      "<class 'pandas.core.frame.DataFrame'>\n",
      "RangeIndex: 428 entries, 0 to 427\n",
      "Data columns (total 3 columns):\n",
      " #   Column            Non-Null Count  Dtype\n",
      "---  ------            --------------  -----\n",
      " 0   client_retail_id  428 non-null    int64\n",
      " 1   invoice_id        428 non-null    int64\n",
      " 2   invoice_sum       428 non-null    int64\n",
      "dtypes: int64(3)\n",
      "memory usage: 10.2 KB\n"
     ]
    }
   ],
   "source": [
    "data2.info()"
   ]
  },
  {
   "cell_type": "markdown",
   "metadata": {},
   "source": [
    "На первый взгляд, данные находятся в очищенном состоянии, отсутствующих и поврежденных данных нет. Рассмотрим каждый столбец отдельно."
   ]
  },
  {
   "cell_type": "code",
   "execution_count": 69,
   "metadata": {},
   "outputs": [
    {
     "data": {
      "text/plain": [
       "array([1008981, 1013920, 1014213, 1043718, 1046476, 1064445, 1067001,\n",
       "       1068920, 1073193, 1078550, 1086628, 1098631, 1098738, 1106433,\n",
       "       1112029, 1113156,  111750, 1123212, 1129652, 1161866, 1169843,\n",
       "       1170853, 1178410, 1182454, 1195734, 1199645, 1237750, 1246707,\n",
       "       1248851, 1249530, 1251219, 1264285, 1274622, 1279615, 1283366,\n",
       "       1288765, 1289451, 1292293, 1293143, 1296531, 1307571, 1313809,\n",
       "       1316902, 1323192, 1323249, 1323868, 1325230, 1329586, 1334245,\n",
       "       1379281, 1382890, 1395736, 1401265, 1420553, 1428552, 1430288,\n",
       "       1430323, 1439491, 1443011, 1455543, 1455735, 1458955, 1460852,\n",
       "       1468880, 1473625, 1484257, 1484780, 1488020,  149110, 1504345,\n",
       "       1506841, 1510943, 1511197, 1516628, 1523126, 1534281, 1539465,\n",
       "       1544311, 1546540, 1555047, 1555323, 1558816, 1559348, 1564442,\n",
       "       1565039, 1565393, 1569039, 1571826, 1572428, 1573330, 1573505,\n",
       "       1573524, 1574032, 1575635, 1576773, 1576999, 1577072, 1577835,\n",
       "       1579443, 1579879, 1580236, 1581085, 1581507, 1582062, 1582139,\n",
       "       1583425, 1583888, 1584303, 1584408, 1585094, 1586496, 1588305,\n",
       "       1588421, 1588657, 1588688, 1589009, 1589459, 1589867, 1590002,\n",
       "       1591793, 1591894, 1592054, 1594068, 1594089, 1594100, 1594226,\n",
       "       1595119, 1596384, 1596590, 1596683, 1597769, 1598210, 1598823,\n",
       "       1598935, 1598970, 1599376, 1600100, 1600371, 1600846, 1601128,\n",
       "       1601245, 1601280, 1602545, 1603653, 1603675, 1604338, 1604494,\n",
       "       1605025, 1605187, 1605321, 1605441, 1607001, 1607629, 1607669,\n",
       "       1607750, 1611291, 1611376, 1611424, 1613174, 1613722, 1614297,\n",
       "       1616978, 1616989, 1618033, 1619417, 1620892, 1621064, 1621258,\n",
       "       1621757, 1623222, 1623791, 1625153, 1626194, 1626417, 1627412,\n",
       "       1627598, 1627977, 1628070, 1628433, 1632507, 1632615, 1632791,\n",
       "       1634138, 1635195, 1635512, 1636576, 1637424, 1638046, 1638085,\n",
       "       1638582, 1640180, 1641129, 1641427, 1641462, 1641562, 1641911,\n",
       "       1642254, 1642559, 1644403, 1645360, 1647635, 1647947, 1650311,\n",
       "       1652628, 1653916, 1654338, 1654610, 1657009, 1657415, 1658756,\n",
       "       1658789, 1659614, 1660172, 1660517, 1661076, 1661664, 1666345,\n",
       "        166647, 1666947, 1667273, 1667586, 1667704, 1668882, 1668911,\n",
       "       1669973, 1670040, 1670144, 1672115, 1673912, 1674250, 1674358,\n",
       "       1676783, 1681164, 1682417, 1683740, 1685242, 1685460, 1685474,\n",
       "       1685696, 1686332, 1687711, 1692696, 1692992, 1693017, 1693343,\n",
       "       1694227, 1695509, 1696095, 1697022, 1697228, 1698725, 1700739,\n",
       "       1700774, 1703610, 1704757, 1705412, 1706921, 1707316, 1713074,\n",
       "       1715587, 1715621, 1716798, 1717838, 1721633, 1721875, 1722189,\n",
       "       1728130, 1730403, 1731245, 1731450, 1731600, 1731602, 1731628,\n",
       "       1731635, 1731636, 1731640, 1731641, 1731642, 1731643, 1731644,\n",
       "       1731647, 1731648, 1731652, 1731653, 1731654, 1731803, 1731805,\n",
       "       1731807, 1731810, 1731822, 1731842, 1731843, 1731852, 1731854,\n",
       "       1731855, 1731856,  196511,  211372,  214156,  267020,  270759,\n",
       "        275017,  276033,  280302,  284438,  285077,  288703,  305022,\n",
       "        306232,  312050,  315569,  315859,  316502,  318715,  322319,\n",
       "        343521,  346275,  353112,  357062,  362066,  370857,  384100,\n",
       "        388904,  397670,  399446,  400384,  400494,  412480,  425670,\n",
       "        427190,  429493,  445828,  451899,  476172,  535818,  539738,\n",
       "        542471,  544119,  545430,  549413,  552255,  554222,  554967,\n",
       "        555350,  558810,  563271,  584791,  587418,  591020,  603877,\n",
       "        610931,  616318,  618034,  618837,  619423,  628655,  630523,\n",
       "        639968,  645118,  647403,  653708,  661866,  662817,  670596,\n",
       "        693373,  709370,  709944,  716926,  717266,  723731,  727502,\n",
       "        737470,  767907,  770009,  770814,  770872,  776576,  782931,\n",
       "        783481,  790530,  810962,  821559,  822986,  825795,  845421,\n",
       "        845439,  851689,  854677,  856486,  868766,  870725,  875809,\n",
       "        891372,  892847,  898568,  898706,  902219,  913782,  916331,\n",
       "        919162,  923372,   92520,  928269,  938358,  940666,  942614,\n",
       "        945135,  965909,  967178,  972840,  973739,  975628,  977132,\n",
       "        980334,  983567,  985123,  989038,  991954,  994420,  994485,\n",
       "        995726], dtype=int64)"
      ]
     },
     "execution_count": 69,
     "metadata": {},
     "output_type": "execute_result"
    }
   ],
   "source": [
    "data2['client_retail_id'].unique()"
   ]
  },
  {
   "cell_type": "markdown",
   "metadata": {},
   "source": [
    "Складывается впечатление, что, возможно, некоторые ID повреждены (166647, 149110) и у них пропущен один знак в конце. Но я не буду уделять этому внимания, так как не известен контекст."
   ]
  },
  {
   "cell_type": "code",
   "execution_count": 70,
   "metadata": {},
   "outputs": [
    {
     "data": {
      "text/plain": [
       "array([30964883, 30964408, 30967849, 30967635, 30968289, 30964516,\n",
       "       30967699, 30967753, 30968296, 30968243, 30967917, 30964527,\n",
       "       30964553, 30964305, 30967932, 30964793, 30967862, 30964298,\n",
       "       30967873, 30964785, 30968288, 30968061, 30968194, 30964498,\n",
       "       30964204, 30964612, 30967923, 30967330, 30964266, 30968010,\n",
       "       30964446, 30968284, 30968005, 30968017, 30964423, 30967327,\n",
       "       30968388, 30963894, 30967985, 30967919, 30967995, 30964306,\n",
       "       30967791, 30964634, 30968196, 30968664, 30967653, 30967358,\n",
       "       30964900, 30967925, 30968426, 30968298, 30964324, 30968389,\n",
       "       30968656, 30967609, 30968187, 30964654, 30964497, 30967779,\n",
       "       30967686, 30968197, 30967922, 30967975, 30964270, 30967722,\n",
       "       30964186, 30968383, 30967907, 30967691, 30964902, 30967928,\n",
       "       30964301, 30964803, 30968246, 30964657, 30964189, 30968346,\n",
       "       30964495, 30968231, 30964385, 30968377, 30968438, 30967629,\n",
       "       30964628, 30964407, 30964437, 30967613, 30968183, 30964561,\n",
       "       30967724, 30968341, 30964548, 30964443, 30968006, 30967345,\n",
       "       30964791, 30963885, 30963886, 30964287, 30968193, 30968662,\n",
       "       30968185, 30964418, 30967713, 30964522, 30964536, 30968329,\n",
       "       30967759, 30964547, 30964290, 30964858, 30967684, 30964436,\n",
       "       30964564, 30964800, 30967911, 30967634, 30967353, 30964195,\n",
       "       30967875, 30967788, 30964341, 30968290, 30968430, 30968186,\n",
       "       30964551, 30964647, 30964496, 30967998, 30964196, 30967337,\n",
       "       30964537, 30968234, 30964520, 30964268, 30967332, 30964492,\n",
       "       30967752, 30964314, 30964851, 30964601, 30967339, 30967934,\n",
       "       30967859, 30964258, 30968233, 30964206, 30968004, 30964300,\n",
       "       30967754, 30964860, 30964554, 30967853, 30963901, 30968056,\n",
       "       30967707, 30967950, 30967647, 30964565, 30968058, 30964959,\n",
       "       30968325, 30967787, 30967651, 30967991, 30964417, 30968014,\n",
       "       30968225, 30967331, 30964523, 30964198, 30967771, 30964534,\n",
       "       30968432, 30967697, 30964602, 30968349, 30964267, 30964493,\n",
       "       30967689, 30964271, 30968180, 30964426, 30964386, 30964511,\n",
       "       30967947, 30964876, 30964629, 30964863, 30964777, 30964282,\n",
       "       30967846, 30964904, 30964445, 30964262, 30964430, 30964563,\n",
       "       30968375, 30964841, 30967865, 30967348, 30964427, 30964877,\n",
       "       30968003, 30964903, 30967941, 30968393, 30967628, 30964211,\n",
       "       30964288, 30964286, 30967325, 30964532, 30967878, 30967346,\n",
       "       30968016, 30967858, 30968001, 30967614, 30964398, 30964405,\n",
       "       30967333, 30964307, 30968282, 30967776, 30967649, 30964558,\n",
       "       30968000, 30964337, 30967640, 30964293, 30967617, 30964920,\n",
       "       30968355, 30964857, 30968195, 30967683, 30968235, 30967708,\n",
       "       30964367, 30964898, 30964317, 30968657, 30964802, 30967856,\n",
       "       30967976, 30964887, 30964281, 30964648, 30968323, 30968281,\n",
       "       30964209, 30963889, 30964783, 30964530, 30967654, 30964526,\n",
       "       30968057, 30968379, 30964507, 30964261, 30964889, 30964442,\n",
       "       30964213, 30963916, 30968002, 30967610, 30967340, 30967630,\n",
       "       30964839, 30964366, 30967861, 30964847, 30963892, 30963902,\n",
       "       30964193, 30964413, 30964392, 30964433, 30964518, 30964517,\n",
       "       30964560, 30964521, 30964637, 30964626, 30964594, 30964872,\n",
       "       30964807, 30967619, 30967608, 30967616, 30967731, 30967882,\n",
       "       30968242, 30968236, 30968378, 30968423, 30968428, 30968419,\n",
       "       30967874, 30964653, 30968650, 30968244, 30964642, 30968376,\n",
       "       30967920, 30964531, 30967942, 30964916, 30967916, 30967727,\n",
       "       30964197, 30964311, 30968381, 30964557, 30967857, 30968230,\n",
       "       30964194, 30967843, 30968351, 30964529, 30967867, 30964894,\n",
       "       30968396, 30967687, 30963907, 30964778, 30964228, 30964897,\n",
       "       30968433, 30968663, 30967709, 30964767, 30968189, 30964804,\n",
       "       30964410, 30964625, 30967789, 30967621, 30964395, 30964533,\n",
       "       30967939, 30964641, 30968218, 30967986, 30968268, 30964869,\n",
       "       30967988, 30964913, 30968051, 30964369, 30964896, 30967982,\n",
       "       30964844, 30968273, 30964879, 30968415, 30967871, 30964394,\n",
       "       30964546, 30967936, 30967951, 30964315, 30968011, 30964606,\n",
       "       30968344, 30967636, 30964620, 30964782, 30964263, 30967648,\n",
       "       30967350, 30964835, 30968007, 30968648, 30968270, 30963888,\n",
       "       30964312, 30967786, 30967736, 30964487, 30964264, 30967910,\n",
       "       30968178, 30967355, 30964852, 30967773, 30964845, 30967644,\n",
       "       30967987, 30964538, 30968321, 30967356, 30964365, 30964967,\n",
       "       30967718, 30967631, 30964420, 30967949, 30967984, 30967710,\n",
       "       30967620, 30964304, 30964808, 30963906, 30968271, 30964429,\n",
       "       30968232, 30967627, 30967618, 30964339, 30964177, 30964342,\n",
       "       30964850, 30968237, 30964528, 30964838, 30964888, 30967357,\n",
       "       30967761, 30967997, 30968335, 30967784, 30968192, 30968661,\n",
       "       30968665, 30967760], dtype=int64)"
      ]
     },
     "execution_count": 70,
     "metadata": {},
     "output_type": "execute_result"
    }
   ],
   "source": [
    "data2['invoice_id'].unique()"
   ]
  },
  {
   "cell_type": "markdown",
   "metadata": {},
   "source": [
    "Этот столбец чист"
   ]
  },
  {
   "cell_type": "code",
   "execution_count": 71,
   "metadata": {},
   "outputs": [
    {
     "data": {
      "text/plain": [
       "array([ 930,  128,  307,  278, 1022,  609, 2040,  308,  136, 1367, 1666,\n",
       "        401,  142,  486, 1460,  495,  589,  447, 1143, 4268,  426,  578,\n",
       "       3586, 1102, 1393,  282, 1078,  816,  469,  320,  795,  997,   89,\n",
       "        156,  626,  289, 1838, 1141,  300,   69,  415,   51, 1196,  610,\n",
       "        155,  449,  372,  535,  545,  680,  850, 1418, 1908,   71,  581,\n",
       "        260, 1011,  504, 1314,  219,  400,  689, 2125,  115, 1995, 3022,\n",
       "        855, 1267,  342, 1537,  215,  663,  539, 1547, 1023, 1218,  769,\n",
       "        338,  548,  955, 1224,  537, 1292, 1114,  987,  169,  275,  567,\n",
       "        256,  622, 1308,  286,  194,  144,  453,  461, 2760, 2586,  364,\n",
       "        170,  246, 1024,  216,  748,  241,  706, 1057,  291,  354,  906,\n",
       "       1741,  465,  371,  267,  912,  351,  693, 1155, 1451,  518,  346,\n",
       "        498,  369,  231,  678,  384,  430,  460,  814,  306,  423,  593,\n",
       "        975,  370,  192, 1050,  257,  598,  292,  463,  776,  397,  872,\n",
       "       4712, 1207, 1629,  132,  299,  250,  532,  284,  392,  530,  860,\n",
       "        225,  120,  254,   97,  175,  174, 3642,  692,   90,  232, 1004,\n",
       "        213, 1778,  431, 1095, 1194, 1088,  520, 1851,  409, 1690,  109,\n",
       "        982,  345, 1365,  628,  301,  146,  148, 1445,  375,  852,  614,\n",
       "        398,  316,  313,  682, 1049,  619, 1486,  323,  350, 1447,  193,\n",
       "        119, 1197,  931,  236, 1052, 1713, 1992, 1027,  387,  699, 1448,\n",
       "       2170,  154,   94, 3008,  586,  856,  379, 1784,   40,  445, 1326,\n",
       "        283,  744, 1386,  627, 3015,  381,  799,  240,  315,  212, 1156,\n",
       "        694, 1219,  302,  762, 1099,  715,  563,  669,  102,  206, 1349,\n",
       "        824, 1634, 1110,  985,  672,  255,  341, 1757,  172, 3917, 1232,\n",
       "        217,  195,  507,  844, 1003,  304,  584,  243, 1006, 2227,  966,\n",
       "       2141,  630,  179,  385,  444,  732,  973,  976, 1174, 1588, 1067,\n",
       "        249,  200,  230,  196, 1188,  450, 1294, 1138, 1464,  357, 3337,\n",
       "        788,  679,  440,  150, 1082, 3329, 1086, 1533, 1301, 1980, 1478,\n",
       "        328, 1081,  190,  781, 1304,  285, 1601,  786,  143,  263, 1140,\n",
       "        126,  312, 4056, 1100,  519,  162,  493,  645,  226, 1136,  386,\n",
       "       2303, 2179, 1060,  160, 1211,   77,  458,  122,   99,  188,   87,\n",
       "        468,  311,  166,  970,  501, 1936, 1553,  531,  761,  276, 1079,\n",
       "        684, 1070,  946, 1021,  772,  290, 5322,   74], dtype=int64)"
      ]
     },
     "execution_count": 71,
     "metadata": {},
     "output_type": "execute_result"
    }
   ],
   "source": [
    "data2['invoice_sum'].unique()"
   ]
  },
  {
   "cell_type": "markdown",
   "metadata": {},
   "source": [
    "Здесь тоже все в порядке"
   ]
  },
  {
   "cell_type": "markdown",
   "metadata": {},
   "source": [
    "Переведем столбцы ID в строковый тип, так как это качественные данные."
   ]
  },
  {
   "cell_type": "code",
   "execution_count": 72,
   "metadata": {},
   "outputs": [],
   "source": [
    "data2[['client_retail_id', 'invoice_id']] = data2[['client_retail_id', 'invoice_id']].astype(\"object\")"
   ]
  },
  {
   "cell_type": "code",
   "execution_count": 73,
   "metadata": {},
   "outputs": [
    {
     "name": "stdout",
     "output_type": "stream",
     "text": [
      "<class 'pandas.core.frame.DataFrame'>\n",
      "RangeIndex: 428 entries, 0 to 427\n",
      "Data columns (total 3 columns):\n",
      " #   Column            Non-Null Count  Dtype \n",
      "---  ------            --------------  ----- \n",
      " 0   client_retail_id  428 non-null    object\n",
      " 1   invoice_id        428 non-null    object\n",
      " 2   invoice_sum       428 non-null    int64 \n",
      "dtypes: int64(1), object(2)\n",
      "memory usage: 10.2+ KB\n"
     ]
    }
   ],
   "source": [
    "data2.info()"
   ]
  },
  {
   "cell_type": "markdown",
   "metadata": {},
   "source": [
    "## Количественный анализ и визуализация"
   ]
  },
  {
   "cell_type": "code",
   "execution_count": 74,
   "metadata": {},
   "outputs": [
    {
     "data": {
      "text/html": [
       "<div>\n",
       "<style scoped>\n",
       "    .dataframe tbody tr th:only-of-type {\n",
       "        vertical-align: middle;\n",
       "    }\n",
       "\n",
       "    .dataframe tbody tr th {\n",
       "        vertical-align: top;\n",
       "    }\n",
       "\n",
       "    .dataframe thead th {\n",
       "        text-align: right;\n",
       "    }\n",
       "</style>\n",
       "<table border=\"1\" class=\"dataframe\">\n",
       "  <thead>\n",
       "    <tr style=\"text-align: right;\">\n",
       "      <th></th>\n",
       "      <th>client_retail_id</th>\n",
       "      <th>invoice_id</th>\n",
       "      <th>invoice_sum</th>\n",
       "    </tr>\n",
       "  </thead>\n",
       "  <tbody>\n",
       "    <tr>\n",
       "      <th>count</th>\n",
       "      <td>428.0</td>\n",
       "      <td>428.0</td>\n",
       "      <td>428.000000</td>\n",
       "    </tr>\n",
       "    <tr>\n",
       "      <th>unique</th>\n",
       "      <td>421.0</td>\n",
       "      <td>428.0</td>\n",
       "      <td>NaN</td>\n",
       "    </tr>\n",
       "    <tr>\n",
       "      <th>top</th>\n",
       "      <td>994485.0</td>\n",
       "      <td>30967791.0</td>\n",
       "      <td>NaN</td>\n",
       "    </tr>\n",
       "    <tr>\n",
       "      <th>freq</th>\n",
       "      <td>2.0</td>\n",
       "      <td>1.0</td>\n",
       "      <td>NaN</td>\n",
       "    </tr>\n",
       "    <tr>\n",
       "      <th>mean</th>\n",
       "      <td>NaN</td>\n",
       "      <td>NaN</td>\n",
       "      <td>753.142523</td>\n",
       "    </tr>\n",
       "    <tr>\n",
       "      <th>std</th>\n",
       "      <td>NaN</td>\n",
       "      <td>NaN</td>\n",
       "      <td>731.594848</td>\n",
       "    </tr>\n",
       "    <tr>\n",
       "      <th>min</th>\n",
       "      <td>NaN</td>\n",
       "      <td>NaN</td>\n",
       "      <td>40.000000</td>\n",
       "    </tr>\n",
       "    <tr>\n",
       "      <th>25%</th>\n",
       "      <td>NaN</td>\n",
       "      <td>NaN</td>\n",
       "      <td>283.750000</td>\n",
       "    </tr>\n",
       "    <tr>\n",
       "      <th>50%</th>\n",
       "      <td>NaN</td>\n",
       "      <td>NaN</td>\n",
       "      <td>499.500000</td>\n",
       "    </tr>\n",
       "    <tr>\n",
       "      <th>75%</th>\n",
       "      <td>NaN</td>\n",
       "      <td>NaN</td>\n",
       "      <td>1050.500000</td>\n",
       "    </tr>\n",
       "    <tr>\n",
       "      <th>max</th>\n",
       "      <td>NaN</td>\n",
       "      <td>NaN</td>\n",
       "      <td>5322.000000</td>\n",
       "    </tr>\n",
       "  </tbody>\n",
       "</table>\n",
       "</div>"
      ],
      "text/plain": [
       "        client_retail_id  invoice_id  invoice_sum\n",
       "count              428.0       428.0   428.000000\n",
       "unique             421.0       428.0          NaN\n",
       "top             994485.0  30967791.0          NaN\n",
       "freq                 2.0         1.0          NaN\n",
       "mean                 NaN         NaN   753.142523\n",
       "std                  NaN         NaN   731.594848\n",
       "min                  NaN         NaN    40.000000\n",
       "25%                  NaN         NaN   283.750000\n",
       "50%                  NaN         NaN   499.500000\n",
       "75%                  NaN         NaN  1050.500000\n",
       "max                  NaN         NaN  5322.000000"
      ]
     },
     "execution_count": 74,
     "metadata": {},
     "output_type": "execute_result"
    }
   ],
   "source": [
    "data2.describe(include='all')"
   ]
  },
  {
   "cell_type": "markdown",
   "metadata": {},
   "source": [
    "Данный датасет направлен исключительно на клиентов, поэтому будем рассматривать их. Первое, что бросается в глаза, это то что уникальных клиентов 421, а всего записей в базе 428. Это значит, что ничтожная часть клиентов конверсируется во вторую покупку."
   ]
  },
  {
   "cell_type": "code",
   "execution_count": 75,
   "metadata": {},
   "outputs": [
    {
     "data": {
      "text/html": [
       "<div>\n",
       "<style scoped>\n",
       "    .dataframe tbody tr th:only-of-type {\n",
       "        vertical-align: middle;\n",
       "    }\n",
       "\n",
       "    .dataframe tbody tr th {\n",
       "        vertical-align: top;\n",
       "    }\n",
       "\n",
       "    .dataframe thead th {\n",
       "        text-align: right;\n",
       "    }\n",
       "</style>\n",
       "<table border=\"1\" class=\"dataframe\">\n",
       "  <thead>\n",
       "    <tr style=\"text-align: right;\">\n",
       "      <th></th>\n",
       "      <th>client_retail_id</th>\n",
       "      <th>invoice_sum</th>\n",
       "    </tr>\n",
       "  </thead>\n",
       "  <tbody>\n",
       "    <tr>\n",
       "      <th>count</th>\n",
       "      <td>421.0</td>\n",
       "      <td>421.000000</td>\n",
       "    </tr>\n",
       "    <tr>\n",
       "      <th>unique</th>\n",
       "      <td>421.0</td>\n",
       "      <td>NaN</td>\n",
       "    </tr>\n",
       "    <tr>\n",
       "      <th>top</th>\n",
       "      <td>1731654.0</td>\n",
       "      <td>NaN</td>\n",
       "    </tr>\n",
       "    <tr>\n",
       "      <th>freq</th>\n",
       "      <td>1.0</td>\n",
       "      <td>NaN</td>\n",
       "    </tr>\n",
       "    <tr>\n",
       "      <th>mean</th>\n",
       "      <td>NaN</td>\n",
       "      <td>765.665083</td>\n",
       "    </tr>\n",
       "    <tr>\n",
       "      <th>std</th>\n",
       "      <td>NaN</td>\n",
       "      <td>760.083375</td>\n",
       "    </tr>\n",
       "    <tr>\n",
       "      <th>min</th>\n",
       "      <td>NaN</td>\n",
       "      <td>40.000000</td>\n",
       "    </tr>\n",
       "    <tr>\n",
       "      <th>25%</th>\n",
       "      <td>NaN</td>\n",
       "      <td>284.000000</td>\n",
       "    </tr>\n",
       "    <tr>\n",
       "      <th>50%</th>\n",
       "      <td>NaN</td>\n",
       "      <td>518.000000</td>\n",
       "    </tr>\n",
       "    <tr>\n",
       "      <th>75%</th>\n",
       "      <td>NaN</td>\n",
       "      <td>1057.000000</td>\n",
       "    </tr>\n",
       "    <tr>\n",
       "      <th>max</th>\n",
       "      <td>NaN</td>\n",
       "      <td>5346.000000</td>\n",
       "    </tr>\n",
       "  </tbody>\n",
       "</table>\n",
       "</div>"
      ],
      "text/plain": [
       "        client_retail_id  invoice_sum\n",
       "count              421.0   421.000000\n",
       "unique             421.0          NaN\n",
       "top            1731654.0          NaN\n",
       "freq                 1.0          NaN\n",
       "mean                 NaN   765.665083\n",
       "std                  NaN   760.083375\n",
       "min                  NaN    40.000000\n",
       "25%                  NaN   284.000000\n",
       "50%                  NaN   518.000000\n",
       "75%                  NaN  1057.000000\n",
       "max                  NaN  5346.000000"
      ]
     },
     "execution_count": 75,
     "metadata": {},
     "output_type": "execute_result"
    }
   ],
   "source": [
    "client2 = data2.groupby('client_retail_id',as_index=False).sum()\n",
    "client2[['client_retail_id']] = client2[['client_retail_id']].astype(\"object\")\n",
    "client2.describe(include='all')"
   ]
  },
  {
   "cell_type": "markdown",
   "metadata": {},
   "source": [
    "Каждый из 421 клиента приносит в компанию в среднем 765,66 у.е."
   ]
  },
  {
   "cell_type": "code",
   "execution_count": 76,
   "metadata": {},
   "outputs": [
    {
     "data": {
      "image/png": "[encoded data removed]",
      "text/plain": [
       "<Figure size 432x288 with 1 Axes>"
      ]
     },
     "metadata": {},
     "output_type": "display_data"
    }
   ],
   "source": [
    "sns.set_style('white')\n",
    "sns.distplot(client2.invoice_sum, color='midnightblue')\n",
    "plt.xlim(0)\n",
    "sns.despine()"
   ]
  },
  {
   "cell_type": "markdown",
   "metadata": {},
   "source": [
    "Рассмотрим самых важных клиентов."
   ]
  },
  {
   "cell_type": "code",
   "execution_count": 77,
   "metadata": {},
   "outputs": [
    {
     "data": {
      "text/html": [
       "<div>\n",
       "<style scoped>\n",
       "    .dataframe tbody tr th:only-of-type {\n",
       "        vertical-align: middle;\n",
       "    }\n",
       "\n",
       "    .dataframe tbody tr th {\n",
       "        vertical-align: top;\n",
       "    }\n",
       "\n",
       "    .dataframe thead th {\n",
       "        text-align: right;\n",
       "    }\n",
       "</style>\n",
       "<table border=\"1\" class=\"dataframe\">\n",
       "  <thead>\n",
       "    <tr style=\"text-align: right;\">\n",
       "      <th></th>\n",
       "      <th>client_retail_id</th>\n",
       "      <th>invoice_sum</th>\n",
       "    </tr>\n",
       "  </thead>\n",
       "  <tbody>\n",
       "    <tr>\n",
       "      <th>221</th>\n",
       "      <td>1576999</td>\n",
       "      <td>5346</td>\n",
       "    </tr>\n",
       "    <tr>\n",
       "      <th>125</th>\n",
       "      <td>994420</td>\n",
       "      <td>5322</td>\n",
       "    </tr>\n",
       "    <tr>\n",
       "      <th>275</th>\n",
       "      <td>1605321</td>\n",
       "      <td>4712</td>\n",
       "    </tr>\n",
       "    <tr>\n",
       "      <th>145</th>\n",
       "      <td>1129652</td>\n",
       "      <td>4268</td>\n",
       "    </tr>\n",
       "    <tr>\n",
       "      <th>72</th>\n",
       "      <td>693373</td>\n",
       "      <td>4056</td>\n",
       "    </tr>\n",
       "    <tr>\n",
       "      <th>412</th>\n",
       "      <td>1731807</td>\n",
       "      <td>3917</td>\n",
       "    </tr>\n",
       "    <tr>\n",
       "      <th>295</th>\n",
       "      <td>1623222</td>\n",
       "      <td>3642</td>\n",
       "    </tr>\n",
       "    <tr>\n",
       "      <th>148</th>\n",
       "      <td>1170853</td>\n",
       "      <td>3586</td>\n",
       "    </tr>\n",
       "    <tr>\n",
       "      <th>40</th>\n",
       "      <td>451899</td>\n",
       "      <td>3337</td>\n",
       "    </tr>\n",
       "    <tr>\n",
       "      <th>51</th>\n",
       "      <td>555350</td>\n",
       "      <td>3329</td>\n",
       "    </tr>\n",
       "  </tbody>\n",
       "</table>\n",
       "</div>"
      ],
      "text/plain": [
       "     client_retail_id  invoice_sum\n",
       "221           1576999         5346\n",
       "125            994420         5322\n",
       "275           1605321         4712\n",
       "145           1129652         4268\n",
       "72             693373         4056\n",
       "412           1731807         3917\n",
       "295           1623222         3642\n",
       "148           1170853         3586\n",
       "40             451899         3337\n",
       "51             555350         3329"
      ]
     },
     "execution_count": 77,
     "metadata": {},
     "output_type": "execute_result"
    }
   ],
   "source": [
    "top_client2 = data2.groupby('client_retail_id',as_index=False).sum()\n",
    "top_client2 = top_client2.sort_values(by=['invoice_sum'], ascending=False).head(10)\n",
    "top_client2.iloc[:]"
   ]
  },
  {
   "cell_type": "markdown",
   "metadata": {},
   "source": [
    "У меня складывается впечатление, что второй датасет является производной от первого датасета. В первой части анализа была рассчитан столбец \"объем продаж\". Рассмотрим статистичесие отчеты двух датасетов."
   ]
  },
  {
   "cell_type": "code",
   "execution_count": 78,
   "metadata": {},
   "outputs": [
    {
     "data": {
      "text/html": [
       "<div>\n",
       "<style scoped>\n",
       "    .dataframe tbody tr th:only-of-type {\n",
       "        vertical-align: middle;\n",
       "    }\n",
       "\n",
       "    .dataframe tbody tr th {\n",
       "        vertical-align: top;\n",
       "    }\n",
       "\n",
       "    .dataframe thead th {\n",
       "        text-align: right;\n",
       "    }\n",
       "</style>\n",
       "<table border=\"1\" class=\"dataframe\">\n",
       "  <thead>\n",
       "    <tr style=\"text-align: right;\">\n",
       "      <th></th>\n",
       "      <th>client_retail_id</th>\n",
       "      <th>invoice_product_all_amount</th>\n",
       "      <th>volume</th>\n",
       "    </tr>\n",
       "  </thead>\n",
       "  <tbody>\n",
       "    <tr>\n",
       "      <th>222</th>\n",
       "      <td>1576999</td>\n",
       "      <td>122</td>\n",
       "      <td>5346</td>\n",
       "    </tr>\n",
       "    <tr>\n",
       "      <th>126</th>\n",
       "      <td>994420</td>\n",
       "      <td>2</td>\n",
       "      <td>5322</td>\n",
       "    </tr>\n",
       "    <tr>\n",
       "      <th>276</th>\n",
       "      <td>1605321</td>\n",
       "      <td>16</td>\n",
       "      <td>4712</td>\n",
       "    </tr>\n",
       "    <tr>\n",
       "      <th>146</th>\n",
       "      <td>1129652</td>\n",
       "      <td>1</td>\n",
       "      <td>4268</td>\n",
       "    </tr>\n",
       "    <tr>\n",
       "      <th>73</th>\n",
       "      <td>693373</td>\n",
       "      <td>2</td>\n",
       "      <td>4056</td>\n",
       "    </tr>\n",
       "    <tr>\n",
       "      <th>416</th>\n",
       "      <td>1731807</td>\n",
       "      <td>6</td>\n",
       "      <td>3917</td>\n",
       "    </tr>\n",
       "    <tr>\n",
       "      <th>296</th>\n",
       "      <td>1623222</td>\n",
       "      <td>7</td>\n",
       "      <td>3642</td>\n",
       "    </tr>\n",
       "    <tr>\n",
       "      <th>149</th>\n",
       "      <td>1170853</td>\n",
       "      <td>2</td>\n",
       "      <td>3586</td>\n",
       "    </tr>\n",
       "    <tr>\n",
       "      <th>191</th>\n",
       "      <td>1468880</td>\n",
       "      <td>6</td>\n",
       "      <td>3022</td>\n",
       "    </tr>\n",
       "    <tr>\n",
       "      <th>379</th>\n",
       "      <td>1700739</td>\n",
       "      <td>2</td>\n",
       "      <td>3015</td>\n",
       "    </tr>\n",
       "  </tbody>\n",
       "</table>\n",
       "</div>"
      ],
      "text/plain": [
       "     client_retail_id  invoice_product_all_amount  volume\n",
       "222           1576999                         122    5346\n",
       "126            994420                           2    5322\n",
       "276           1605321                          16    4712\n",
       "146           1129652                           1    4268\n",
       "73             693373                           2    4056\n",
       "416           1731807                           6    3917\n",
       "296           1623222                           7    3642\n",
       "149           1170853                           2    3586\n",
       "191           1468880                           6    3022\n",
       "379           1700739                           2    3015"
      ]
     },
     "execution_count": 78,
     "metadata": {},
     "output_type": "execute_result"
    }
   ],
   "source": [
    "top_client.iloc[:,[0,1,3]]"
   ]
  },
  {
   "cell_type": "markdown",
   "metadata": {},
   "source": [
    "Действительно. Рассчитанные данные в первой части анализа полностью совпадают с данными из второго датасета. Это подтверждает правильность расчетов в первой части. В кратце повторим выводы первой части. Единственное различие таблиц состоит в том, что в первой таблице было 425 уникальных клиентов, а во второй 421."
   ]
  },
  {
   "cell_type": "code",
   "execution_count": 79,
   "metadata": {},
   "outputs": [
    {
     "data": {
      "image/png": "[encoded data removed]",
      "text/plain": [
       "<Figure size 1008x432 with 1 Axes>"
      ]
     },
     "metadata": {},
     "output_type": "display_data"
    }
   ],
   "source": [
    "sns.set_style('white')\n",
    "labels =  ['К1', 'К2', 'К3', 'К4', 'К5', 'К6', 'К7', 'К8', 'К9','К10']\n",
    "top_client2_val = [i for i in top_client2.loc[:,'invoice_sum']]\n",
    "plt.figure(figsize = (14,6))\n",
    "plt.barh(labels,\n",
    "         width=top_client2_val,\n",
    "         color='midnightblue')\n",
    "plt.title('TOP-10 клиентов',\n",
    "          fontsize = 15,\n",
    "          fontweight = 'bold',\n",
    "          color = 'black',\n",
    "          loc = 'left')\n",
    "plt.xlabel('Объем продаж, у.е',\n",
    "           fontsize = 13,\n",
    "           fontweight = 'bold',\n",
    "           color = 'black')\n",
    "plt.yticks(fontsize = 13,\n",
    "           fontweight = 'bold',\n",
    "           color = 'black')\n",
    "plt.xticks(np.arange(0, 5600, step=250), rotation=45)\n",
    "sns.despine()\n",
    "plt.show()"
   ]
  },
  {
   "cell_type": "code",
   "execution_count": 80,
   "metadata": {},
   "outputs": [
    {
     "name": "stderr",
     "output_type": "stream",
     "text": [
      "C:\\Users\\arl9k\\anaconda3\\lib\\site-packages\\ipykernel_launcher.py:16: MatplotlibDeprecationWarning: Non-1D inputs to pie() are currently squeeze()d, but this behavior is deprecated since 3.1 and will be removed in 3.3; pass a 1D array instead.\n",
      "  app.launch_new_instance()\n"
     ]
    },
    {
     "data": {
      "image/png": "[encoded data removed]",
      "text/plain": [
       "<Figure size 720x576 with 1 Axes>"
      ]
     },
     "metadata": {},
     "output_type": "display_data"
    }
   ],
   "source": [
    "sns.set_style('white')\n",
    "sns.set_palette('colorblind')\n",
    "\n",
    "pie_client2_df = pd.DataFrame({\n",
    "    'Top10': top_client2.invoice_sum.sum(),\n",
    "    'Остальные': (data2.invoice_sum.sum()-top_client2.invoice_sum.sum())\n",
    "    }, columns = ('Top10', 'Остальные'),\n",
    "    index=[0])\n",
    "\n",
    "plt.figure(figsize=(10,8))\n",
    "plt.pie(pie_client2_df,\n",
    "        labels = ['top10', 'Остальные'],\n",
    "        autopct = '%.1f%%',\n",
    "        textprops = {'size': 'x-large',\n",
    "                    'fontweight': 'bold',\n",
    "                    'color': 'w'})\n",
    "plt.title('Доля Топ-10 клиентов в структуре выручки',\n",
    "          fontsize=15,\n",
    "          fontweight = 'bold',\n",
    "          loc = 'left',\n",
    "          pad=-20)\n",
    "\n",
    "plt.legend(['Топ-10', 'Остальные клиенты'],\n",
    "           fontsize=13,\n",
    "           loc='lower left')\n",
    "sns.despine()\n",
    "plt.show()"
   ]
  }
 ],
 "metadata": {
  "kernelspec": {
   "display_name": "Python 3",
   "language": "python",
   "name": "python3"
  },
  "language_info": {
   "codemirror_mode": {
    "name": "ipython",
    "version": 3
   },
   "file_extension": ".py",
   "mimetype": "text/x-python",
   "name": "python",
   "nbconvert_exporter": "python",
   "pygments_lexer": "ipython3",
   "version": "3.7.6"
  }
 },
 "nbformat": 4,
 "nbformat_minor": 4
}
