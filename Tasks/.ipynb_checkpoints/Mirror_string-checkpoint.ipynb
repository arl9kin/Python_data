{
 "cells": [
  {
   "cell_type": "markdown",
   "metadata": {},
   "source": [
    "## Проверка зеркальности строки"
   ]
  },
  {
   "cell_type": "code",
   "execution_count": 1,
   "metadata": {},
   "outputs": [],
   "source": [
    "def mirror_check (string: str) -> bool:\n",
    "    \"\"\"Программа проверяет зеркальная ли введенная строка\n",
    "    аргумент - любая строка\n",
    "    синтакс Питона не позволяет работать с \\ /\"\"\"\n",
    "\n",
    "# сразу создаем зеркальную копию строки\n",
    "    str_copy = string[::-1]\n",
    "    b = []\n",
    "    c = []\n",
    "    \n",
    "# Проверяем длину строки, если нечетная, то вердикт - небаланс\n",
    "    if (len(string)) % 2 != 0:\n",
    "        return False\n",
    "    \n",
    "# Если прошлое условие выполнено выделяем половины\n",
    "    length = int ((len(string))/2)\n",
    "    \n",
    "# Первую половину добавляем в первый список\n",
    "    for i in range (length):\n",
    "        b.append(string[i])\n",
    "        \n",
    "# Добавляем во второй список первую половину зеркальной строки = вторую половину обычной, для дальнейшего сравнения\n",
    "    for i in range (length):\n",
    "        c.append(str_copy[i])\n",
    "        \n",
    "# Формируем словарь \n",
    "    g = dict (zip (b,c))\n",
    "    \n",
    "# Проверяем наличие нужных скобок в значениях словаря\n",
    "    if g.get('[') == ']' or g.get('(') == ')' or g.get('{') == '}' or g.get('<') == '>' in g.values():\n",
    "        if g.get ('[') == ']' or g.get ('[') is None and g.get('(') == ')' or g.get('(') is None and g.get('{') == '}' or g.get('{') is None and g.get('<') == '>'or g.get('<') is None:\n",
    "            return True\n",
    "        else:\n",
    "            return False\n",
    "        \n",
    "# Обратные скобки тоже зеркальные\n",
    "    elif g.get(']') == '[' or g.get(')') == '(' or g.get('}') == '{' or g.get('>') == '<' in g.values():\n",
    "        if g.get (']') == '[' or g.get (']') is None and g.get(')') =='(' or g.get(')') is None and g.get('}') == '{' or g.get('}') is None and g.get('>') == '<'or g.get('>') is None:\n",
    "            return True\n",
    "        else:\n",
    "            return False \n",
    "    \n",
    "# Проверяем дополнительные знаки        \n",
    "    elif list (zip (g.keys())) == list (zip (g.values())):\n",
    "            return True\n",
    "        \n",
    "    else:\n",
    "        return False"
   ]
  },
  {
   "cell_type": "code",
   "execution_count": 2,
   "metadata": {},
   "outputs": [
    {
     "data": {
      "text/plain": [
       "True"
      ]
     },
     "execution_count": 2,
     "metadata": {},
     "output_type": "execute_result"
    }
   ],
   "source": [
    "mirror_check ('55')"
   ]
  },
  {
   "cell_type": "code",
   "execution_count": null,
   "metadata": {},
   "outputs": [],
   "source": []
  }
 ],
 "metadata": {
  "kernelspec": {
   "display_name": "Python 3",
   "language": "python",
   "name": "python3"
  },
  "language_info": {
   "codemirror_mode": {
    "name": "ipython",
    "version": 3
   },
   "file_extension": ".py",
   "mimetype": "text/x-python",
   "name": "python",
   "nbconvert_exporter": "python",
   "pygments_lexer": "ipython3",
   "version": "3.7.6"
  }
 },
 "nbformat": 4,
 "nbformat_minor": 4
}
