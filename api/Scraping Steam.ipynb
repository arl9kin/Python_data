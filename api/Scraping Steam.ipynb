{
 "cells": [
  {
   "cell_type": "markdown",
   "metadata": {},
   "source": [
    "# Extracting data from Steam "
   ]
  },
  {
   "cell_type": "markdown",
   "metadata": {},
   "source": [
    "## Initial Setup"
   ]
  },
  {
   "cell_type": "code",
   "execution_count": 1,
   "metadata": {},
   "outputs": [],
   "source": [
    "from bs4 import BeautifulSoup\n",
    "import requests\n",
    "import pandas as pd"
   ]
  },
  {
   "cell_type": "markdown",
   "metadata": {},
   "source": [
    "## Connect to Steam webpage"
   ]
  },
  {
   "cell_type": "code",
   "execution_count": 2,
   "metadata": {},
   "outputs": [
    {
     "data": {
      "text/plain": [
       "200"
      ]
     },
     "execution_count": 2,
     "metadata": {},
     "output_type": "execute_result"
    }
   ],
   "source": [
    "r = requests.get('https://store.steampowered.com/tags/ru/%D0%AD%D0%BA%D1%88%D0%B5%D0%BD/')\n",
    "r.status_code"
   ]
  },
  {
   "cell_type": "code",
   "execution_count": 3,
   "metadata": {},
   "outputs": [],
   "source": [
    "html = r.content\n"
   ]
  },
  {
   "cell_type": "code",
   "execution_count": 4,
   "metadata": {},
   "outputs": [],
   "source": [
    "soup = BeautifulSoup(html, \"lxml\")\n"
   ]
  },
  {
   "cell_type": "code",
   "execution_count": 8,
   "metadata": {},
   "outputs": [],
   "source": [
    "divs = soup.find_all('div', {'class':'tab_item_content'})[:15]\n"
   ]
  },
  {
   "cell_type": "code",
   "execution_count": 9,
   "metadata": {},
   "outputs": [
    {
     "data": {
      "text/plain": [
       "['Hades',\n",
       " 'BPM: BULLETS PER MINUTE',\n",
       " 'Medieval Dynasty',\n",
       " 'The Dungeon Of Naheulbeuk: The Amulet Of Chaos',\n",
       " 'Kingdoms of Amalur: Re-Reckoning',\n",
       " 'Atomicrops',\n",
       " 'Craftopia',\n",
       " \"Marvel's Avengers\",\n",
       " 'Vaporum: Lockdown',\n",
       " 'Control Ultimate Edition',\n",
       " 'Necromunda: Underhive Wars',\n",
       " 'Risk of Rain 2',\n",
       " 'Fantasy of Expedition',\n",
       " 'Strike Buster Prototype',\n",
       " 'HAAK']"
      ]
     },
     "execution_count": 9,
     "metadata": {},
     "output_type": "execute_result"
    }
   ],
   "source": [
    "name = [div.find(class_='tab_item_name').string for div in divs]\n",
    "name"
   ]
  },
  {
   "cell_type": "code",
   "execution_count": 10,
   "metadata": {},
   "outputs": [
    {
     "data": {
      "text/plain": [
       "['Action Roguelike, Action, Indie, RPG',\n",
       " 'Action, Indie, Adventure, Rhythm',\n",
       " 'RPG, Adventure, Simulation, Medieval',\n",
       " 'RPG, Adventure, Strategy, Turn-Based',\n",
       " 'Action, RPG, Action RPG, Fantasy',\n",
       " 'Action, Indie, Farming Sim, Action Roguelike',\n",
       " 'Action, Open World, RPG, Crafting',\n",
       " 'Action, Adventure, RPG, Superhero',\n",
       " 'RPG, Action, Indie, Adventure',\n",
       " 'Action, Adventure, Female Protagonist, Supernatural',\n",
       " 'Action, Strategy, Warhammer 40K, Turn-Based Strategy',\n",
       " 'Third-Person Shooter, Action Roguelike, Multiplayer, Action',\n",
       " 'RPG, Indie, Action, Strategy',\n",
       " 'Early Access, Adventure, Action, Shooter',\n",
       " 'Action, Platformer, Atmospheric, Post-apocalyptic']"
      ]
     },
     "execution_count": 10,
     "metadata": {},
     "output_type": "execute_result"
    }
   ],
   "source": [
    "genres = [div.find(class_ ='tab_item_top_tags').text for div in divs]\n",
    "genres"
   ]
  },
  {
   "cell_type": "code",
   "execution_count": 11,
   "metadata": {},
   "outputs": [
    {
     "data": {
      "text/plain": [
       "<div class=\"discount_block tab_item_discount\" data-price-final=\"37200\"><div class=\"discount_pct\">-20%</div><div class=\"discount_prices\"><div class=\"discount_original_price\">465 pуб.</div><div class=\"discount_final_price\">372 pуб.</div></div></div>"
      ]
     },
     "execution_count": 11,
     "metadata": {},
     "output_type": "execute_result"
    }
   ],
   "source": [
    "divs_price = soup.find_all('div', {'class':'discount_block tab_item_discount'})\n",
    "divs_price[0]"
   ]
  },
  {
   "cell_type": "code",
   "execution_count": 12,
   "metadata": {},
   "outputs": [
    {
     "data": {
      "text/plain": [
       "['465 pуб.',\n",
       " '435 pуб.',\n",
       " '849 pуб.',\n",
       " '1929 pуб.',\n",
       " '360 pуб.',\n",
       " '259 pуб.',\n",
       " '102 pуб.',\n",
       " '490 pуб.',\n",
       " '725 pуб.',\n",
       " '1999 pуб.',\n",
       " '1999 pуб.',\n",
       " '1929 pуб.',\n",
       " '1799 pуб.',\n",
       " '465 pуб.',\n",
       " '999 pуб.',\n",
       " '1499 pуб.']"
      ]
     },
     "execution_count": 12,
     "metadata": {},
     "output_type": "execute_result"
    }
   ],
   "source": [
    "old_price = [div.find(class_=\"discount_original_price\").string for div in divs_price]\n",
    "old_price"
   ]
  },
  {
   "cell_type": "code",
   "execution_count": 13,
   "metadata": {},
   "outputs": [
    {
     "data": {
      "text/plain": [
       "['372 pуб.',\n",
       " '391 pуб.',\n",
       " '679 pуб.',\n",
       " '1736,10 pуб.',\n",
       " '252 pуб.',\n",
       " '233 pуб.',\n",
       " '73 pуб.',\n",
       " '416 pуб.',\n",
       " '507 pуб.',\n",
       " '999 pуб.',\n",
       " '999 pуб.',\n",
       " '1736,10 pуб.',\n",
       " '1079 pуб.',\n",
       " '372 pуб.',\n",
       " '499 pуб.',\n",
       " '1199,20 pуб.']"
      ]
     },
     "execution_count": 13,
     "metadata": {},
     "output_type": "execute_result"
    }
   ],
   "source": [
    "new_price = [div.find(class_=\"discount_final_price\").string for div in divs_price]\n",
    "new_price"
   ]
  },
  {
   "cell_type": "code",
   "execution_count": 14,
   "metadata": {},
   "outputs": [
    {
     "data": {
      "text/plain": [
       "['-20%',\n",
       " '-10%',\n",
       " '-20%',\n",
       " '-10%',\n",
       " '-30%',\n",
       " '-10%',\n",
       " '-28%',\n",
       " '-15%',\n",
       " '-30%',\n",
       " '-50%',\n",
       " '-50%',\n",
       " '-10%',\n",
       " '-40%',\n",
       " '-20%',\n",
       " '-50%',\n",
       " '-20%']"
      ]
     },
     "execution_count": 14,
     "metadata": {},
     "output_type": "execute_result"
    }
   ],
   "source": [
    "disc = [div.find(class_=\"discount_pct\").string for div in divs_price]\n",
    "disc"
   ]
  },
  {
   "cell_type": "code",
   "execution_count": 16,
   "metadata": {},
   "outputs": [
    {
     "data": {
      "text/html": [
       "<div>\n",
       "<style scoped>\n",
       "    .dataframe tbody tr th:only-of-type {\n",
       "        vertical-align: middle;\n",
       "    }\n",
       "\n",
       "    .dataframe tbody tr th {\n",
       "        vertical-align: top;\n",
       "    }\n",
       "\n",
       "    .dataframe thead th {\n",
       "        text-align: right;\n",
       "    }\n",
       "</style>\n",
       "<table border=\"1\" class=\"dataframe\">\n",
       "  <thead>\n",
       "    <tr style=\"text-align: right;\">\n",
       "      <th></th>\n",
       "      <th>Genre</th>\n",
       "      <th>Old_price</th>\n",
       "      <th>New_price</th>\n",
       "      <th>Discount</th>\n",
       "    </tr>\n",
       "    <tr>\n",
       "      <th>Name</th>\n",
       "      <th></th>\n",
       "      <th></th>\n",
       "      <th></th>\n",
       "      <th></th>\n",
       "    </tr>\n",
       "  </thead>\n",
       "  <tbody>\n",
       "    <tr>\n",
       "      <th>Hades</th>\n",
       "      <td>Action Roguelike, Action, Indie, RPG</td>\n",
       "      <td>465 pуб.</td>\n",
       "      <td>372 pуб.</td>\n",
       "      <td>-20%</td>\n",
       "    </tr>\n",
       "    <tr>\n",
       "      <th>BPM: BULLETS PER MINUTE</th>\n",
       "      <td>Action, Indie, Adventure, Rhythm</td>\n",
       "      <td>435 pуб.</td>\n",
       "      <td>391 pуб.</td>\n",
       "      <td>-10%</td>\n",
       "    </tr>\n",
       "    <tr>\n",
       "      <th>Medieval Dynasty</th>\n",
       "      <td>RPG, Adventure, Simulation, Medieval</td>\n",
       "      <td>849 pуб.</td>\n",
       "      <td>679 pуб.</td>\n",
       "      <td>-20%</td>\n",
       "    </tr>\n",
       "    <tr>\n",
       "      <th>The Dungeon Of Naheulbeuk: The Amulet Of Chaos</th>\n",
       "      <td>RPG, Adventure, Strategy, Turn-Based</td>\n",
       "      <td>1929 pуб.</td>\n",
       "      <td>1736,10 pуб.</td>\n",
       "      <td>-10%</td>\n",
       "    </tr>\n",
       "    <tr>\n",
       "      <th>Kingdoms of Amalur: Re-Reckoning</th>\n",
       "      <td>Action, RPG, Action RPG, Fantasy</td>\n",
       "      <td>360 pуб.</td>\n",
       "      <td>252 pуб.</td>\n",
       "      <td>-30%</td>\n",
       "    </tr>\n",
       "    <tr>\n",
       "      <th>Atomicrops</th>\n",
       "      <td>Action, Indie, Farming Sim, Action Roguelike</td>\n",
       "      <td>259 pуб.</td>\n",
       "      <td>233 pуб.</td>\n",
       "      <td>-10%</td>\n",
       "    </tr>\n",
       "    <tr>\n",
       "      <th>Craftopia</th>\n",
       "      <td>Action, Open World, RPG, Crafting</td>\n",
       "      <td>102 pуб.</td>\n",
       "      <td>73 pуб.</td>\n",
       "      <td>-28%</td>\n",
       "    </tr>\n",
       "    <tr>\n",
       "      <th>Marvel's Avengers</th>\n",
       "      <td>Action, Adventure, RPG, Superhero</td>\n",
       "      <td>490 pуб.</td>\n",
       "      <td>416 pуб.</td>\n",
       "      <td>-15%</td>\n",
       "    </tr>\n",
       "    <tr>\n",
       "      <th>Vaporum: Lockdown</th>\n",
       "      <td>RPG, Action, Indie, Adventure</td>\n",
       "      <td>725 pуб.</td>\n",
       "      <td>507 pуб.</td>\n",
       "      <td>-30%</td>\n",
       "    </tr>\n",
       "    <tr>\n",
       "      <th>Control Ultimate Edition</th>\n",
       "      <td>Action, Adventure, Female Protagonist, Superna...</td>\n",
       "      <td>1999 pуб.</td>\n",
       "      <td>999 pуб.</td>\n",
       "      <td>-50%</td>\n",
       "    </tr>\n",
       "    <tr>\n",
       "      <th>Necromunda: Underhive Wars</th>\n",
       "      <td>Action, Strategy, Warhammer 40K, Turn-Based St...</td>\n",
       "      <td>1999 pуб.</td>\n",
       "      <td>999 pуб.</td>\n",
       "      <td>-50%</td>\n",
       "    </tr>\n",
       "    <tr>\n",
       "      <th>Risk of Rain 2</th>\n",
       "      <td>Third-Person Shooter, Action Roguelike, Multip...</td>\n",
       "      <td>1929 pуб.</td>\n",
       "      <td>1736,10 pуб.</td>\n",
       "      <td>-10%</td>\n",
       "    </tr>\n",
       "    <tr>\n",
       "      <th>Fantasy of Expedition</th>\n",
       "      <td>RPG, Indie, Action, Strategy</td>\n",
       "      <td>1799 pуб.</td>\n",
       "      <td>1079 pуб.</td>\n",
       "      <td>-40%</td>\n",
       "    </tr>\n",
       "    <tr>\n",
       "      <th>Strike Buster Prototype</th>\n",
       "      <td>Early Access, Adventure, Action, Shooter</td>\n",
       "      <td>465 pуб.</td>\n",
       "      <td>372 pуб.</td>\n",
       "      <td>-20%</td>\n",
       "    </tr>\n",
       "    <tr>\n",
       "      <th>HAAK</th>\n",
       "      <td>Action, Platformer, Atmospheric, Post-apocalyptic</td>\n",
       "      <td>999 pуб.</td>\n",
       "      <td>499 pуб.</td>\n",
       "      <td>-50%</td>\n",
       "    </tr>\n",
       "  </tbody>\n",
       "</table>\n",
       "</div>"
      ],
      "text/plain": [
       "                                                                                            Genre  \\\n",
       "Name                                                                                                \n",
       "Hades                                                        Action Roguelike, Action, Indie, RPG   \n",
       "BPM: BULLETS PER MINUTE                                          Action, Indie, Adventure, Rhythm   \n",
       "Medieval Dynasty                                             RPG, Adventure, Simulation, Medieval   \n",
       "The Dungeon Of Naheulbeuk: The Amulet Of Chaos               RPG, Adventure, Strategy, Turn-Based   \n",
       "Kingdoms of Amalur: Re-Reckoning                                 Action, RPG, Action RPG, Fantasy   \n",
       "Atomicrops                                           Action, Indie, Farming Sim, Action Roguelike   \n",
       "Craftopia                                                       Action, Open World, RPG, Crafting   \n",
       "Marvel's Avengers                                               Action, Adventure, RPG, Superhero   \n",
       "Vaporum: Lockdown                                                   RPG, Action, Indie, Adventure   \n",
       "Control Ultimate Edition                        Action, Adventure, Female Protagonist, Superna...   \n",
       "Necromunda: Underhive Wars                      Action, Strategy, Warhammer 40K, Turn-Based St...   \n",
       "Risk of Rain 2                                  Third-Person Shooter, Action Roguelike, Multip...   \n",
       "Fantasy of Expedition                                                RPG, Indie, Action, Strategy   \n",
       "Strike Buster Prototype                                  Early Access, Adventure, Action, Shooter   \n",
       "HAAK                                            Action, Platformer, Atmospheric, Post-apocalyptic   \n",
       "\n",
       "                                                Old_price     New_price  \\\n",
       "Name                                                                      \n",
       "Hades                                            465 pуб.      372 pуб.   \n",
       "BPM: BULLETS PER MINUTE                          435 pуб.      391 pуб.   \n",
       "Medieval Dynasty                                 849 pуб.      679 pуб.   \n",
       "The Dungeon Of Naheulbeuk: The Amulet Of Chaos  1929 pуб.  1736,10 pуб.   \n",
       "Kingdoms of Amalur: Re-Reckoning                 360 pуб.      252 pуб.   \n",
       "Atomicrops                                       259 pуб.      233 pуб.   \n",
       "Craftopia                                        102 pуб.       73 pуб.   \n",
       "Marvel's Avengers                                490 pуб.      416 pуб.   \n",
       "Vaporum: Lockdown                                725 pуб.      507 pуб.   \n",
       "Control Ultimate Edition                        1999 pуб.      999 pуб.   \n",
       "Necromunda: Underhive Wars                      1999 pуб.      999 pуб.   \n",
       "Risk of Rain 2                                  1929 pуб.  1736,10 pуб.   \n",
       "Fantasy of Expedition                           1799 pуб.     1079 pуб.   \n",
       "Strike Buster Prototype                          465 pуб.      372 pуб.   \n",
       "HAAK                                             999 pуб.      499 pуб.   \n",
       "\n",
       "                                               Discount  \n",
       "Name                                                     \n",
       "Hades                                              -20%  \n",
       "BPM: BULLETS PER MINUTE                            -10%  \n",
       "Medieval Dynasty                                   -20%  \n",
       "The Dungeon Of Naheulbeuk: The Amulet Of Chaos     -10%  \n",
       "Kingdoms of Amalur: Re-Reckoning                   -30%  \n",
       "Atomicrops                                         -10%  \n",
       "Craftopia                                          -28%  \n",
       "Marvel's Avengers                                  -15%  \n",
       "Vaporum: Lockdown                                  -30%  \n",
       "Control Ultimate Edition                           -50%  \n",
       "Necromunda: Underhive Wars                         -50%  \n",
       "Risk of Rain 2                                     -10%  \n",
       "Fantasy of Expedition                              -40%  \n",
       "Strike Buster Prototype                            -20%  \n",
       "HAAK                                               -50%  "
      ]
     },
     "execution_count": 16,
     "metadata": {},
     "output_type": "execute_result"
    }
   ],
   "source": [
    "Df = pd.DataFrame()\n",
    "\n",
    "Df['Name'] = pd.Series(name)\n",
    "Df['Genre'] = pd.Series(genres)\n",
    "Df['Old_price'] = pd.Series(old_price)\n",
    "Df['New_price'] = pd.Series(new_price)\n",
    "Df['Discount'] = pd.Series(disc)\n",
    "\n",
    "Df.set_index('Name', inplace=True)\n",
    "Df"
   ]
  },
  {
   "cell_type": "code",
   "execution_count": 18,
   "metadata": {},
   "outputs": [],
   "source": [
    "def bull_shit(n):\n",
    "    Df_main = pd.DataFrame(columns=['Name', 'Genre', 'Old_price', 'New_price', 'Discount'])\n",
    "    Df_shitty = pd.DataFrame(columns=['Name', 'Genre', 'Old_price', 'New_price', 'Discount'])\n",
    "    for i in range (0,n+1):\n",
    "        r = requests.get('https://store.steampowered.com/tags/en/Action#p=' + str(i) + '&tab=NewReleases')\n",
    "        print(f'page {i}')\n",
    "        html = r.content\n",
    "        soup = BeautifulSoup(html, \"lxml\")\n",
    "        divs = soup.find_all('div', {'class':'tab_item_content'})[:15]\n",
    "        name = [div.find(class_='tab_item_name').string for div in divs]\n",
    "        genres = [div.find(class_ ='tab_item_top_tags').text for div in divs]\n",
    "        divs_price = soup.find_all('div', {'class':'discount_block tab_item_discount'})\n",
    "        old_price = [div.find(class_=\"discount_original_price\").string for div in divs_price]\n",
    "        disc = [div.find(class_=\"discount_pct\").string for div in divs_price]\n",
    "        Df_shitty.Name = pd.Series(name)\n",
    "        Df_shitty.Genre = pd.Series(genres)\n",
    "        Df_shitty.Old_price = pd.Series(old_price)\n",
    "        Df_shitty.New_price = pd.Series(new_price)\n",
    "        Df_shitty.Discount = pd.Series(disc)\n",
    "        Df_main = Df_main.append(Df_shitty)\n",
    "        \n",
    "    Df_main.set_index('Name', inplace=True)\n",
    "    return Df_main"
   ]
  },
  {
   "cell_type": "code",
   "execution_count": 19,
   "metadata": {},
   "outputs": [
    {
     "name": "stdout",
     "output_type": "stream",
     "text": [
      "page 0\n"
     ]
    },
    {
     "data": {
      "text/html": [
       "<div>\n",
       "<style scoped>\n",
       "    .dataframe tbody tr th:only-of-type {\n",
       "        vertical-align: middle;\n",
       "    }\n",
       "\n",
       "    .dataframe tbody tr th {\n",
       "        vertical-align: top;\n",
       "    }\n",
       "\n",
       "    .dataframe thead th {\n",
       "        text-align: right;\n",
       "    }\n",
       "</style>\n",
       "<table border=\"1\" class=\"dataframe\">\n",
       "  <thead>\n",
       "    <tr style=\"text-align: right;\">\n",
       "      <th></th>\n",
       "      <th>Genre</th>\n",
       "      <th>Old_price</th>\n",
       "      <th>New_price</th>\n",
       "      <th>Discount</th>\n",
       "    </tr>\n",
       "    <tr>\n",
       "      <th>Name</th>\n",
       "      <th></th>\n",
       "      <th></th>\n",
       "      <th></th>\n",
       "      <th></th>\n",
       "    </tr>\n",
       "  </thead>\n",
       "  <tbody>\n",
       "    <tr>\n",
       "      <th>Hades</th>\n",
       "      <td>Action Roguelike, Action, Indie, RPG</td>\n",
       "      <td>465 pуб.</td>\n",
       "      <td>372 pуб.</td>\n",
       "      <td>-20%</td>\n",
       "    </tr>\n",
       "    <tr>\n",
       "      <th>BPM: BULLETS PER MINUTE</th>\n",
       "      <td>Action, Indie, Adventure, Rhythm</td>\n",
       "      <td>435 pуб.</td>\n",
       "      <td>391 pуб.</td>\n",
       "      <td>-10%</td>\n",
       "    </tr>\n",
       "    <tr>\n",
       "      <th>Medieval Dynasty</th>\n",
       "      <td>RPG, Adventure, Simulation, Medieval</td>\n",
       "      <td>849 pуб.</td>\n",
       "      <td>679 pуб.</td>\n",
       "      <td>-20%</td>\n",
       "    </tr>\n",
       "    <tr>\n",
       "      <th>The Dungeon Of Naheulbeuk: The Amulet Of Chaos</th>\n",
       "      <td>RPG, Adventure, Strategy, Turn-Based</td>\n",
       "      <td>1929 pуб.</td>\n",
       "      <td>1736,10 pуб.</td>\n",
       "      <td>-10%</td>\n",
       "    </tr>\n",
       "    <tr>\n",
       "      <th>Kingdoms of Amalur: Re-Reckoning</th>\n",
       "      <td>Action, RPG, Action RPG, Fantasy</td>\n",
       "      <td>360 pуб.</td>\n",
       "      <td>252 pуб.</td>\n",
       "      <td>-30%</td>\n",
       "    </tr>\n",
       "    <tr>\n",
       "      <th>Atomicrops</th>\n",
       "      <td>Action, Indie, Farming Sim, Action Roguelike</td>\n",
       "      <td>259 pуб.</td>\n",
       "      <td>233 pуб.</td>\n",
       "      <td>-10%</td>\n",
       "    </tr>\n",
       "    <tr>\n",
       "      <th>Craftopia</th>\n",
       "      <td>Action, Open World, RPG, Crafting</td>\n",
       "      <td>102 pуб.</td>\n",
       "      <td>73 pуб.</td>\n",
       "      <td>-28%</td>\n",
       "    </tr>\n",
       "    <tr>\n",
       "      <th>Marvel's Avengers</th>\n",
       "      <td>Action, Adventure, RPG, Superhero</td>\n",
       "      <td>490 pуб.</td>\n",
       "      <td>416 pуб.</td>\n",
       "      <td>-15%</td>\n",
       "    </tr>\n",
       "    <tr>\n",
       "      <th>Vaporum: Lockdown</th>\n",
       "      <td>RPG, Action, Indie, Adventure</td>\n",
       "      <td>725 pуб.</td>\n",
       "      <td>507 pуб.</td>\n",
       "      <td>-30%</td>\n",
       "    </tr>\n",
       "    <tr>\n",
       "      <th>Control Ultimate Edition</th>\n",
       "      <td>Action, Adventure, Female Protagonist, Superna...</td>\n",
       "      <td>1999 pуб.</td>\n",
       "      <td>999 pуб.</td>\n",
       "      <td>-50%</td>\n",
       "    </tr>\n",
       "    <tr>\n",
       "      <th>Necromunda: Underhive Wars</th>\n",
       "      <td>Action, Strategy, Warhammer 40K, Turn-Based St...</td>\n",
       "      <td>1999 pуб.</td>\n",
       "      <td>999 pуб.</td>\n",
       "      <td>-50%</td>\n",
       "    </tr>\n",
       "    <tr>\n",
       "      <th>Risk of Rain 2</th>\n",
       "      <td>Third-Person Shooter, Action Roguelike, Multip...</td>\n",
       "      <td>1929 pуб.</td>\n",
       "      <td>1736,10 pуб.</td>\n",
       "      <td>-10%</td>\n",
       "    </tr>\n",
       "    <tr>\n",
       "      <th>Fantasy of Expedition</th>\n",
       "      <td>RPG, Indie, Action, Strategy</td>\n",
       "      <td>1799 pуб.</td>\n",
       "      <td>1079 pуб.</td>\n",
       "      <td>-40%</td>\n",
       "    </tr>\n",
       "    <tr>\n",
       "      <th>Strike Buster Prototype</th>\n",
       "      <td>Early Access, Adventure, Action, Shooter</td>\n",
       "      <td>465 pуб.</td>\n",
       "      <td>372 pуб.</td>\n",
       "      <td>-20%</td>\n",
       "    </tr>\n",
       "    <tr>\n",
       "      <th>HAAK</th>\n",
       "      <td>Action, Platformer, Atmospheric, Post-apocalyptic</td>\n",
       "      <td>999 pуб.</td>\n",
       "      <td>499 pуб.</td>\n",
       "      <td>-50%</td>\n",
       "    </tr>\n",
       "  </tbody>\n",
       "</table>\n",
       "</div>"
      ],
      "text/plain": [
       "                                                                                            Genre  \\\n",
       "Name                                                                                                \n",
       "Hades                                                        Action Roguelike, Action, Indie, RPG   \n",
       "BPM: BULLETS PER MINUTE                                          Action, Indie, Adventure, Rhythm   \n",
       "Medieval Dynasty                                             RPG, Adventure, Simulation, Medieval   \n",
       "The Dungeon Of Naheulbeuk: The Amulet Of Chaos               RPG, Adventure, Strategy, Turn-Based   \n",
       "Kingdoms of Amalur: Re-Reckoning                                 Action, RPG, Action RPG, Fantasy   \n",
       "Atomicrops                                           Action, Indie, Farming Sim, Action Roguelike   \n",
       "Craftopia                                                       Action, Open World, RPG, Crafting   \n",
       "Marvel's Avengers                                               Action, Adventure, RPG, Superhero   \n",
       "Vaporum: Lockdown                                                   RPG, Action, Indie, Adventure   \n",
       "Control Ultimate Edition                        Action, Adventure, Female Protagonist, Superna...   \n",
       "Necromunda: Underhive Wars                      Action, Strategy, Warhammer 40K, Turn-Based St...   \n",
       "Risk of Rain 2                                  Third-Person Shooter, Action Roguelike, Multip...   \n",
       "Fantasy of Expedition                                                RPG, Indie, Action, Strategy   \n",
       "Strike Buster Prototype                                  Early Access, Adventure, Action, Shooter   \n",
       "HAAK                                            Action, Platformer, Atmospheric, Post-apocalyptic   \n",
       "\n",
       "                                                Old_price     New_price  \\\n",
       "Name                                                                      \n",
       "Hades                                            465 pуб.      372 pуб.   \n",
       "BPM: BULLETS PER MINUTE                          435 pуб.      391 pуб.   \n",
       "Medieval Dynasty                                 849 pуб.      679 pуб.   \n",
       "The Dungeon Of Naheulbeuk: The Amulet Of Chaos  1929 pуб.  1736,10 pуб.   \n",
       "Kingdoms of Amalur: Re-Reckoning                 360 pуб.      252 pуб.   \n",
       "Atomicrops                                       259 pуб.      233 pуб.   \n",
       "Craftopia                                        102 pуб.       73 pуб.   \n",
       "Marvel's Avengers                                490 pуб.      416 pуб.   \n",
       "Vaporum: Lockdown                                725 pуб.      507 pуб.   \n",
       "Control Ultimate Edition                        1999 pуб.      999 pуб.   \n",
       "Necromunda: Underhive Wars                      1999 pуб.      999 pуб.   \n",
       "Risk of Rain 2                                  1929 pуб.  1736,10 pуб.   \n",
       "Fantasy of Expedition                           1799 pуб.     1079 pуб.   \n",
       "Strike Buster Prototype                          465 pуб.      372 pуб.   \n",
       "HAAK                                             999 pуб.      499 pуб.   \n",
       "\n",
       "                                               Discount  \n",
       "Name                                                     \n",
       "Hades                                              -20%  \n",
       "BPM: BULLETS PER MINUTE                            -10%  \n",
       "Medieval Dynasty                                   -20%  \n",
       "The Dungeon Of Naheulbeuk: The Amulet Of Chaos     -10%  \n",
       "Kingdoms of Amalur: Re-Reckoning                   -30%  \n",
       "Atomicrops                                         -10%  \n",
       "Craftopia                                          -28%  \n",
       "Marvel's Avengers                                  -15%  \n",
       "Vaporum: Lockdown                                  -30%  \n",
       "Control Ultimate Edition                           -50%  \n",
       "Necromunda: Underhive Wars                         -50%  \n",
       "Risk of Rain 2                                     -10%  \n",
       "Fantasy of Expedition                              -40%  \n",
       "Strike Buster Prototype                            -20%  \n",
       "HAAK                                               -50%  "
      ]
     },
     "execution_count": 19,
     "metadata": {},
     "output_type": "execute_result"
    }
   ],
   "source": [
    "bull_shit(0)"
   ]
  }
 ],
 "metadata": {
  "kernelspec": {
   "display_name": "Python 3",
   "language": "python",
   "name": "python3"
  },
  "language_info": {
   "codemirror_mode": {
    "name": "ipython",
    "version": 3
   },
   "file_extension": ".py",
   "mimetype": "text/x-python",
   "name": "python",
   "nbconvert_exporter": "python",
   "pygments_lexer": "ipython3",
   "version": "3.7.6"
  }
 },
 "nbformat": 4,
 "nbformat_minor": 4
}
