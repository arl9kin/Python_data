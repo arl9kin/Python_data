{
 "cells": [
  {
   "cell_type": "markdown",
   "metadata": {},
   "source": [
    "### Импортируем необходимые библиотеки"
   ]
  },
  {
   "cell_type": "code",
   "execution_count": 1,
   "metadata": {},
   "outputs": [],
   "source": [
    "import numpy as np\n",
    "import pandas as pd\n",
    "import requests\n",
    "from bs4 import BeautifulSoup"
   ]
  },
  {
   "cell_type": "markdown",
   "metadata": {},
   "source": [
    "### Формируем базовый сайт"
   ]
  },
  {
   "cell_type": "code",
   "execution_count": 2,
   "metadata": {},
   "outputs": [],
   "source": [
    "base_site = 'https://ru.wikipedia.org/wiki/%D0%93%D0%BE%D1%80%D0%BE%D0%B4%D0%B0_%D0%95%D0%B2%D1%80%D0%BE%D0%BF%D1%8B_%D1%81_%D0%BD%D0%B0%D1%81%D0%B5%D0%BB%D0%B5%D0%BD%D0%B8%D0%B5%D0%BC_%D0%B1%D0%BE%D0%BB%D0%B5%D0%B5_500_%D1%82%D1%8B%D1%81%D1%8F%D1%87_%D1%87%D0%B5%D0%BB%D0%BE%D0%B2%D0%B5%D0%BA'"
   ]
  },
  {
   "cell_type": "markdown",
   "metadata": {},
   "source": [
    "### Гет-запрос"
   ]
  },
  {
   "cell_type": "code",
   "execution_count": 3,
   "metadata": {},
   "outputs": [
    {
     "data": {
      "text/plain": [
       "200"
      ]
     },
     "execution_count": 3,
     "metadata": {},
     "output_type": "execute_result"
    }
   ],
   "source": [
    "r = requests.get(base_site)\n",
    "r.status_code"
   ]
  },
  {
   "cell_type": "code",
   "execution_count": 4,
   "metadata": {},
   "outputs": [],
   "source": [
    "html = r.content"
   ]
  },
  {
   "cell_type": "markdown",
   "metadata": {},
   "source": [
    "### Файл супа"
   ]
  },
  {
   "cell_type": "code",
   "execution_count": 5,
   "metadata": {},
   "outputs": [],
   "source": [
    "soup = BeautifulSoup(html, 'lxml')"
   ]
  },
  {
   "cell_type": "markdown",
   "metadata": {},
   "source": [
    "### Первый вариант извлечение таблицы"
   ]
  },
  {
   "cell_type": "code",
   "execution_count": 8,
   "metadata": {},
   "outputs": [],
   "source": [
    "table = soup.find_all('table')[1]"
   ]
  },
  {
   "cell_type": "code",
   "execution_count": 9,
   "metadata": {},
   "outputs": [
    {
     "data": {
      "text/plain": [
       "[<th>№</th>,\n",
       " <th><a href=\"/wiki/%D0%93%D0%BE%D1%80%D0%BE%D0%B4\" title=\"Город\">Город</a></th>,\n",
       " <th><a href=\"/wiki/%D0%A1%D1%82%D1%80%D0%B0%D0%BD%D0%B0\" title=\"Страна\">Страна</a></th>,\n",
       " <th data-sort-type=\"number\">Население</th>,\n",
       " <th data-sort-type=\"number\">Год,<br/>источник</th>]"
      ]
     },
     "execution_count": 9,
     "metadata": {},
     "output_type": "execute_result"
    }
   ],
   "source": [
    "table.find_all('tr')[0].contents"
   ]
  },
  {
   "cell_type": "code",
   "execution_count": 13,
   "metadata": {},
   "outputs": [
    {
     "data": {
      "text/plain": [
       "['Город',\n",
       " 'Москва',\n",
       " 'Стамбул (европейская часть)',\n",
       " 'Лондон',\n",
       " 'Санкт-Петербург',\n",
       " 'Берлин',\n",
       " 'Мадрид',\n",
       " 'Киев',\n",
       " 'Рим',\n",
       " 'Париж',\n",
       " 'Минск',\n",
       " 'Бухарест',\n",
       " 'Вена',\n",
       " 'Гамбург',\n",
       " 'Варшава',\n",
       " 'Будапешт',\n",
       " 'Барселона',\n",
       " 'Мюнхен',\n",
       " 'Харьков',\n",
       " 'Милан',\n",
       " 'София',\n",
       " 'Прага',\n",
       " 'Казань',\n",
       " 'Нижний Новгород',\n",
       " 'Белград',\n",
       " 'Брюссель',\n",
       " 'Самара',\n",
       " 'Ростов-на-Дону',\n",
       " 'Бирмингем',\n",
       " 'Уфа',\n",
       " 'Кёльн',\n",
       " 'Воронеж',\n",
       " 'Пермь',\n",
       " 'Одесса',\n",
       " 'Волгоград',\n",
       " 'Днепр',\n",
       " 'Неаполь',\n",
       " 'Стокгольм',\n",
       " 'Краснодар[29]',\n",
       " 'Донецк',\n",
       " 'Тирана',\n",
       " 'Турин',\n",
       " 'Марсель',\n",
       " 'Амстердам',\n",
       " 'Саратов',\n",
       " 'Загреб',\n",
       " 'Валенсия',\n",
       " 'Лидс',\n",
       " 'Краков',\n",
       " 'Запорожье',\n",
       " 'Франкфурт-на-Майне',\n",
       " 'Львов',\n",
       " 'Тольятти',\n",
       " 'Лодзь',\n",
       " 'Севилья',\n",
       " 'Кишинёв',\n",
       " 'Осло',\n",
       " 'Палермо',\n",
       " 'Сарагоса',\n",
       " 'Афины',\n",
       " 'Ижевск',\n",
       " 'Хельсинки',\n",
       " 'Рига',\n",
       " 'Роттердам',\n",
       " 'Вроцлав',\n",
       " 'Штутгарт',\n",
       " 'Ульяновск',\n",
       " 'Кривой Рог',\n",
       " 'Глазго',\n",
       " 'Копенгаген',\n",
       " 'Дюссельдорф',\n",
       " 'Ярославль',\n",
       " 'Махачкала[29]',\n",
       " 'Дортмунд',\n",
       " 'Эссен',\n",
       " 'Генуя',\n",
       " 'Вильнюс',\n",
       " 'Шеффилд',\n",
       " 'Оренбург',\n",
       " 'Лейпциг',\n",
       " 'Малага',\n",
       " 'Бремен',\n",
       " 'Гётеборг',\n",
       " 'Дублин',\n",
       " 'Дрезден',\n",
       " 'Познань',\n",
       " 'Рязань',\n",
       " 'Набережные Челны',\n",
       " 'Ганновер',\n",
       " 'Астрахань',\n",
       " 'Антверпен',\n",
       " 'Пенза',\n",
       " 'Киров',\n",
       " 'Лион',\n",
       " 'Нюрнберг',\n",
       " 'Гомель',\n",
       " 'Скопье',\n",
       " 'Липецк',\n",
       " 'Балашиха',\n",
       " 'Лиссабон']"
      ]
     },
     "execution_count": 13,
     "metadata": {},
     "output_type": "execute_result"
    }
   ],
   "source": [
    "city = [row.contents[1].text.strip() for row in table.find_all('tr')]\n",
    "city"
   ]
  },
  {
   "cell_type": "markdown",
   "metadata": {},
   "source": [
    "Но так как извлекается не таблица, а список, то это не совсем удобно."
   ]
  },
  {
   "cell_type": "markdown",
   "metadata": {},
   "source": [
    "### Второй вариант"
   ]
  },
  {
   "cell_type": "code",
   "execution_count": 14,
   "metadata": {},
   "outputs": [],
   "source": [
    "tables = pd.read_html(base_site)"
   ]
  },
  {
   "cell_type": "code",
   "execution_count": 16,
   "metadata": {},
   "outputs": [
    {
     "data": {
      "text/plain": [
       "pandas.core.frame.DataFrame"
      ]
     },
     "execution_count": 16,
     "metadata": {},
     "output_type": "execute_result"
    }
   ],
   "source": [
    "type(tables[0])"
   ]
  },
  {
   "cell_type": "code",
   "execution_count": 17,
   "metadata": {},
   "outputs": [
    {
     "data": {
      "text/plain": [
       "2"
      ]
     },
     "execution_count": 17,
     "metadata": {},
     "output_type": "execute_result"
    }
   ],
   "source": [
    "len(tables)"
   ]
  },
  {
   "cell_type": "code",
   "execution_count": 23,
   "metadata": {},
   "outputs": [
    {
     "data": {
      "text/html": [
       "<div>\n",
       "<style scoped>\n",
       "    .dataframe tbody tr th:only-of-type {\n",
       "        vertical-align: middle;\n",
       "    }\n",
       "\n",
       "    .dataframe tbody tr th {\n",
       "        vertical-align: top;\n",
       "    }\n",
       "\n",
       "    .dataframe thead th {\n",
       "        text-align: right;\n",
       "    }\n",
       "</style>\n",
       "<table border=\"1\" class=\"dataframe\">\n",
       "  <thead>\n",
       "    <tr style=\"text-align: right;\">\n",
       "      <th></th>\n",
       "      <th>№</th>\n",
       "      <th>Город</th>\n",
       "      <th>Страна</th>\n",
       "      <th>Население</th>\n",
       "      <th>Год,источник</th>\n",
       "    </tr>\n",
       "  </thead>\n",
       "  <tbody>\n",
       "    <tr>\n",
       "      <th>0</th>\n",
       "      <td>1</td>\n",
       "      <td>Москва</td>\n",
       "      <td>Россия</td>\n",
       "      <td>12 678 079</td>\n",
       "      <td>2020[35]</td>\n",
       "    </tr>\n",
       "    <tr>\n",
       "      <th>1</th>\n",
       "      <td>2</td>\n",
       "      <td>Стамбул (европейская часть)</td>\n",
       "      <td>Турция</td>\n",
       "      <td>9 772 961</td>\n",
       "      <td>2018[1][44]</td>\n",
       "    </tr>\n",
       "    <tr>\n",
       "      <th>2</th>\n",
       "      <td>3</td>\n",
       "      <td>Лондон</td>\n",
       "      <td>Великобритания</td>\n",
       "      <td>8 787 892</td>\n",
       "      <td>2016[33]</td>\n",
       "    </tr>\n",
       "    <tr>\n",
       "      <th>3</th>\n",
       "      <td>4</td>\n",
       "      <td>Санкт-Петербург</td>\n",
       "      <td>Россия</td>\n",
       "      <td>5 398 064</td>\n",
       "      <td>2020[35]</td>\n",
       "    </tr>\n",
       "    <tr>\n",
       "      <th>4</th>\n",
       "      <td>5</td>\n",
       "      <td>Берлин</td>\n",
       "      <td>Германия</td>\n",
       "      <td>3 601 131</td>\n",
       "      <td>2017[9]</td>\n",
       "    </tr>\n",
       "    <tr>\n",
       "      <th>...</th>\n",
       "      <td>...</td>\n",
       "      <td>...</td>\n",
       "      <td>...</td>\n",
       "      <td>...</td>\n",
       "      <td>...</td>\n",
       "    </tr>\n",
       "    <tr>\n",
       "      <th>94</th>\n",
       "      <td>95</td>\n",
       "      <td>Гомель</td>\n",
       "      <td>Белоруссия</td>\n",
       "      <td>510 300</td>\n",
       "      <td>2020[21]</td>\n",
       "    </tr>\n",
       "    <tr>\n",
       "      <th>95</th>\n",
       "      <td>96</td>\n",
       "      <td>Скопье</td>\n",
       "      <td>Северная Македония</td>\n",
       "      <td>509 900</td>\n",
       "      <td>2019[42]</td>\n",
       "    </tr>\n",
       "    <tr>\n",
       "      <th>96</th>\n",
       "      <td>97</td>\n",
       "      <td>Липецк</td>\n",
       "      <td>Россия</td>\n",
       "      <td>508 573</td>\n",
       "      <td>2020[4]</td>\n",
       "    </tr>\n",
       "    <tr>\n",
       "      <th>97</th>\n",
       "      <td>98</td>\n",
       "      <td>Балашиха</td>\n",
       "      <td>Россия</td>\n",
       "      <td>507 366</td>\n",
       "      <td>2020[6]</td>\n",
       "    </tr>\n",
       "    <tr>\n",
       "      <th>98</th>\n",
       "      <td>99</td>\n",
       "      <td>Лиссабон</td>\n",
       "      <td>Португалия</td>\n",
       "      <td>506 654</td>\n",
       "      <td>2018[32]</td>\n",
       "    </tr>\n",
       "  </tbody>\n",
       "</table>\n",
       "<p>99 rows × 5 columns</p>\n",
       "</div>"
      ],
      "text/plain": [
       "     №                        Город              Страна   Население  \\\n",
       "0    1                       Москва              Россия  12 678 079   \n",
       "1    2  Стамбул (европейская часть)              Турция   9 772 961   \n",
       "2    3                       Лондон      Великобритания   8 787 892   \n",
       "3    4              Санкт-Петербург              Россия   5 398 064   \n",
       "4    5                       Берлин            Германия   3 601 131   \n",
       "..  ..                          ...                 ...         ...   \n",
       "94  95                       Гомель          Белоруссия     510 300   \n",
       "95  96                       Скопье  Северная Македония     509 900   \n",
       "96  97                       Липецк              Россия     508 573   \n",
       "97  98                     Балашиха              Россия     507 366   \n",
       "98  99                     Лиссабон          Португалия     506 654   \n",
       "\n",
       "   Год,источник  \n",
       "0      2020[35]  \n",
       "1   2018[1][44]  \n",
       "2      2016[33]  \n",
       "3      2020[35]  \n",
       "4       2017[9]  \n",
       "..          ...  \n",
       "94     2020[21]  \n",
       "95     2019[42]  \n",
       "96      2020[4]  \n",
       "97      2020[6]  \n",
       "98     2018[32]  \n",
       "\n",
       "[99 rows x 5 columns]"
      ]
     },
     "execution_count": 23,
     "metadata": {},
     "output_type": "execute_result"
    }
   ],
   "source": [
    "cities = tables[1]\n",
    "cities"
   ]
  },
  {
   "cell_type": "code",
   "execution_count": 28,
   "metadata": {},
   "outputs": [
    {
     "data": {
      "text/html": [
       "<div>\n",
       "<style scoped>\n",
       "    .dataframe tbody tr th:only-of-type {\n",
       "        vertical-align: middle;\n",
       "    }\n",
       "\n",
       "    .dataframe tbody tr th {\n",
       "        vertical-align: top;\n",
       "    }\n",
       "\n",
       "    .dataframe thead th {\n",
       "        text-align: right;\n",
       "    }\n",
       "</style>\n",
       "<table border=\"1\" class=\"dataframe\">\n",
       "  <thead>\n",
       "    <tr style=\"text-align: right;\">\n",
       "      <th></th>\n",
       "      <th>Город</th>\n",
       "      <th>Страна</th>\n",
       "      <th>Население</th>\n",
       "      <th>Год,источник</th>\n",
       "    </tr>\n",
       "    <tr>\n",
       "      <th>№</th>\n",
       "      <th></th>\n",
       "      <th></th>\n",
       "      <th></th>\n",
       "      <th></th>\n",
       "    </tr>\n",
       "  </thead>\n",
       "  <tbody>\n",
       "    <tr>\n",
       "      <th>1</th>\n",
       "      <td>Москва</td>\n",
       "      <td>Россия</td>\n",
       "      <td>12 678 079</td>\n",
       "      <td>2020[35]</td>\n",
       "    </tr>\n",
       "    <tr>\n",
       "      <th>2</th>\n",
       "      <td>Стамбул (европейская часть)</td>\n",
       "      <td>Турция</td>\n",
       "      <td>9 772 961</td>\n",
       "      <td>2018[1][44]</td>\n",
       "    </tr>\n",
       "    <tr>\n",
       "      <th>3</th>\n",
       "      <td>Лондон</td>\n",
       "      <td>Великобритания</td>\n",
       "      <td>8 787 892</td>\n",
       "      <td>2016[33]</td>\n",
       "    </tr>\n",
       "    <tr>\n",
       "      <th>4</th>\n",
       "      <td>Санкт-Петербург</td>\n",
       "      <td>Россия</td>\n",
       "      <td>5 398 064</td>\n",
       "      <td>2020[35]</td>\n",
       "    </tr>\n",
       "    <tr>\n",
       "      <th>5</th>\n",
       "      <td>Берлин</td>\n",
       "      <td>Германия</td>\n",
       "      <td>3 601 131</td>\n",
       "      <td>2017[9]</td>\n",
       "    </tr>\n",
       "    <tr>\n",
       "      <th>...</th>\n",
       "      <td>...</td>\n",
       "      <td>...</td>\n",
       "      <td>...</td>\n",
       "      <td>...</td>\n",
       "    </tr>\n",
       "    <tr>\n",
       "      <th>95</th>\n",
       "      <td>Гомель</td>\n",
       "      <td>Белоруссия</td>\n",
       "      <td>510 300</td>\n",
       "      <td>2020[21]</td>\n",
       "    </tr>\n",
       "    <tr>\n",
       "      <th>96</th>\n",
       "      <td>Скопье</td>\n",
       "      <td>Северная Македония</td>\n",
       "      <td>509 900</td>\n",
       "      <td>2019[42]</td>\n",
       "    </tr>\n",
       "    <tr>\n",
       "      <th>97</th>\n",
       "      <td>Липецк</td>\n",
       "      <td>Россия</td>\n",
       "      <td>508 573</td>\n",
       "      <td>2020[4]</td>\n",
       "    </tr>\n",
       "    <tr>\n",
       "      <th>98</th>\n",
       "      <td>Балашиха</td>\n",
       "      <td>Россия</td>\n",
       "      <td>507 366</td>\n",
       "      <td>2020[6]</td>\n",
       "    </tr>\n",
       "    <tr>\n",
       "      <th>99</th>\n",
       "      <td>Лиссабон</td>\n",
       "      <td>Португалия</td>\n",
       "      <td>506 654</td>\n",
       "      <td>2018[32]</td>\n",
       "    </tr>\n",
       "  </tbody>\n",
       "</table>\n",
       "<p>99 rows × 4 columns</p>\n",
       "</div>"
      ],
      "text/plain": [
       "                          Город              Страна   Население Год,источник\n",
       "№                                                                           \n",
       "1                        Москва              Россия  12 678 079     2020[35]\n",
       "2   Стамбул (европейская часть)              Турция   9 772 961  2018[1][44]\n",
       "3                        Лондон      Великобритания   8 787 892     2016[33]\n",
       "4               Санкт-Петербург              Россия   5 398 064     2020[35]\n",
       "5                        Берлин            Германия   3 601 131      2017[9]\n",
       "..                          ...                 ...         ...          ...\n",
       "95                       Гомель          Белоруссия     510 300     2020[21]\n",
       "96                       Скопье  Северная Македония     509 900     2019[42]\n",
       "97                       Липецк              Россия     508 573      2020[4]\n",
       "98                     Балашиха              Россия     507 366      2020[6]\n",
       "99                     Лиссабон          Португалия     506 654     2018[32]\n",
       "\n",
       "[99 rows x 4 columns]"
      ]
     },
     "execution_count": 28,
     "metadata": {},
     "output_type": "execute_result"
    }
   ],
   "source": [
    "cities.set_index('№', inplace=True)\n",
    "cities"
   ]
  },
  {
   "cell_type": "code",
   "execution_count": 25,
   "metadata": {},
   "outputs": [
    {
     "data": {
      "text/html": [
       "<div>\n",
       "<style scoped>\n",
       "    .dataframe tbody tr th:only-of-type {\n",
       "        vertical-align: middle;\n",
       "    }\n",
       "\n",
       "    .dataframe tbody tr th {\n",
       "        vertical-align: top;\n",
       "    }\n",
       "\n",
       "    .dataframe thead th {\n",
       "        text-align: right;\n",
       "    }\n",
       "</style>\n",
       "<table border=\"1\" class=\"dataframe\">\n",
       "  <thead>\n",
       "    <tr style=\"text-align: right;\">\n",
       "      <th></th>\n",
       "      <th>№</th>\n",
       "      <th>Город</th>\n",
       "      <th>Страна</th>\n",
       "      <th>Население</th>\n",
       "      <th>Год,источник</th>\n",
       "    </tr>\n",
       "  </thead>\n",
       "  <tbody>\n",
       "    <tr>\n",
       "      <th>count</th>\n",
       "      <td>99.000000</td>\n",
       "      <td>99</td>\n",
       "      <td>99</td>\n",
       "      <td>99</td>\n",
       "      <td>99</td>\n",
       "    </tr>\n",
       "    <tr>\n",
       "      <th>unique</th>\n",
       "      <td>NaN</td>\n",
       "      <td>99</td>\n",
       "      <td>31</td>\n",
       "      <td>99</td>\n",
       "      <td>47</td>\n",
       "    </tr>\n",
       "    <tr>\n",
       "      <th>top</th>\n",
       "      <td>NaN</td>\n",
       "      <td>Лодзь</td>\n",
       "      <td>Россия</td>\n",
       "      <td>580 097</td>\n",
       "      <td>2020[4]</td>\n",
       "    </tr>\n",
       "    <tr>\n",
       "      <th>freq</th>\n",
       "      <td>NaN</td>\n",
       "      <td>1</td>\n",
       "      <td>25</td>\n",
       "      <td>1</td>\n",
       "      <td>22</td>\n",
       "    </tr>\n",
       "    <tr>\n",
       "      <th>mean</th>\n",
       "      <td>50.000000</td>\n",
       "      <td>NaN</td>\n",
       "      <td>NaN</td>\n",
       "      <td>NaN</td>\n",
       "      <td>NaN</td>\n",
       "    </tr>\n",
       "    <tr>\n",
       "      <th>std</th>\n",
       "      <td>28.722813</td>\n",
       "      <td>NaN</td>\n",
       "      <td>NaN</td>\n",
       "      <td>NaN</td>\n",
       "      <td>NaN</td>\n",
       "    </tr>\n",
       "    <tr>\n",
       "      <th>min</th>\n",
       "      <td>1.000000</td>\n",
       "      <td>NaN</td>\n",
       "      <td>NaN</td>\n",
       "      <td>NaN</td>\n",
       "      <td>NaN</td>\n",
       "    </tr>\n",
       "    <tr>\n",
       "      <th>25%</th>\n",
       "      <td>25.500000</td>\n",
       "      <td>NaN</td>\n",
       "      <td>NaN</td>\n",
       "      <td>NaN</td>\n",
       "      <td>NaN</td>\n",
       "    </tr>\n",
       "    <tr>\n",
       "      <th>50%</th>\n",
       "      <td>50.000000</td>\n",
       "      <td>NaN</td>\n",
       "      <td>NaN</td>\n",
       "      <td>NaN</td>\n",
       "      <td>NaN</td>\n",
       "    </tr>\n",
       "    <tr>\n",
       "      <th>75%</th>\n",
       "      <td>74.500000</td>\n",
       "      <td>NaN</td>\n",
       "      <td>NaN</td>\n",
       "      <td>NaN</td>\n",
       "      <td>NaN</td>\n",
       "    </tr>\n",
       "    <tr>\n",
       "      <th>max</th>\n",
       "      <td>99.000000</td>\n",
       "      <td>NaN</td>\n",
       "      <td>NaN</td>\n",
       "      <td>NaN</td>\n",
       "      <td>NaN</td>\n",
       "    </tr>\n",
       "  </tbody>\n",
       "</table>\n",
       "</div>"
      ],
      "text/plain": [
       "                №  Город  Страна Население Год,источник\n",
       "count   99.000000     99      99        99           99\n",
       "unique        NaN     99      31        99           47\n",
       "top           NaN  Лодзь  Россия   580 097      2020[4]\n",
       "freq          NaN      1      25         1           22\n",
       "mean    50.000000    NaN     NaN       NaN          NaN\n",
       "std     28.722813    NaN     NaN       NaN          NaN\n",
       "min      1.000000    NaN     NaN       NaN          NaN\n",
       "25%     25.500000    NaN     NaN       NaN          NaN\n",
       "50%     50.000000    NaN     NaN       NaN          NaN\n",
       "75%     74.500000    NaN     NaN       NaN          NaN\n",
       "max     99.000000    NaN     NaN       NaN          NaN"
      ]
     },
     "execution_count": 25,
     "metadata": {},
     "output_type": "execute_result"
    }
   ],
   "source": [
    "cities.describe(include='all')"
   ]
  },
  {
   "cell_type": "code",
   "execution_count": 26,
   "metadata": {},
   "outputs": [
    {
     "name": "stdout",
     "output_type": "stream",
     "text": [
      "<class 'pandas.core.frame.DataFrame'>\n",
      "RangeIndex: 99 entries, 0 to 98\n",
      "Data columns (total 5 columns):\n",
      " #   Column        Non-Null Count  Dtype \n",
      "---  ------        --------------  ----- \n",
      " 0   №             99 non-null     int64 \n",
      " 1   Город         99 non-null     object\n",
      " 2   Страна        99 non-null     object\n",
      " 3   Население     99 non-null     object\n",
      " 4   Год,источник  99 non-null     object\n",
      "dtypes: int64(1), object(4)\n",
      "memory usage: 4.0+ KB\n"
     ]
    }
   ],
   "source": [
    "cities.info()"
   ]
  },
  {
   "cell_type": "code",
   "execution_count": 27,
   "metadata": {},
   "outputs": [
    {
     "data": {
      "text/plain": [
       "№               0\n",
       "Город           0\n",
       "Страна          0\n",
       "Население       0\n",
       "Год,источник    0\n",
       "dtype: int64"
      ]
     },
     "execution_count": 27,
     "metadata": {},
     "output_type": "execute_result"
    }
   ],
   "source": [
    "cities.isna().sum()"
   ]
  },
  {
   "cell_type": "code",
   "execution_count": 29,
   "metadata": {},
   "outputs": [
    {
     "data": {
      "text/plain": [
       "Index(['Город', 'Страна', 'Население', 'Год,источник'], dtype='object')"
      ]
     },
     "execution_count": 29,
     "metadata": {},
     "output_type": "execute_result"
    }
   ],
   "source": [
    "cities.columns"
   ]
  },
  {
   "cell_type": "code",
   "execution_count": 31,
   "metadata": {},
   "outputs": [
    {
     "data": {
      "text/plain": [
       "array(['2020[35]', '2018[1][44]', '2016[33]', '2017[9]', '2018[7]',\n",
       "       '2019[24]', '2018[41]', '2019[38]', '2020[21]', '2016[14]',\n",
       "       '2016[16]', '2018[18]', '2017[15]', '2018[13]', '2018[36]',\n",
       "       '2017[24]', '2018[19]', '2016[43]', '2017[39]', '2020[4]',\n",
       "       '2014[8]', '2018[12]', '2017[10]', '2018[11]', '2018[23]',\n",
       "       '2018[45]', '2018[46]', '2016[34]', '2018[3]', '2019[26]',\n",
       "       '2017[27]', '2018[37]', '2011[5]', '2018[47]', '2017[40]',\n",
       "       '2019[30]', '2017[20]', '2018[28]', '2020[17]', '2017[7]',\n",
       "       '2018[22]', '2016[25]', '2018[2]', '2016[31]', '2019[42]',\n",
       "       '2020[6]', '2018[32]'], dtype=object)"
      ]
     },
     "execution_count": 31,
     "metadata": {},
     "output_type": "execute_result"
    }
   ],
   "source": [
    "cities['Год,источник'].unique()"
   ]
  },
  {
   "cell_type": "code",
   "execution_count": 41,
   "metadata": {},
   "outputs": [
    {
     "data": {
      "text/html": [
       "<div>\n",
       "<style scoped>\n",
       "    .dataframe tbody tr th:only-of-type {\n",
       "        vertical-align: middle;\n",
       "    }\n",
       "\n",
       "    .dataframe tbody tr th {\n",
       "        vertical-align: top;\n",
       "    }\n",
       "\n",
       "    .dataframe thead th {\n",
       "        text-align: right;\n",
       "    }\n",
       "</style>\n",
       "<table border=\"1\" class=\"dataframe\">\n",
       "  <thead>\n",
       "    <tr style=\"text-align: right;\">\n",
       "      <th></th>\n",
       "      <th>0</th>\n",
       "    </tr>\n",
       "    <tr>\n",
       "      <th>№</th>\n",
       "      <th></th>\n",
       "    </tr>\n",
       "  </thead>\n",
       "  <tbody>\n",
       "    <tr>\n",
       "      <th>1</th>\n",
       "      <td>2020</td>\n",
       "    </tr>\n",
       "    <tr>\n",
       "      <th>2</th>\n",
       "      <td>2018</td>\n",
       "    </tr>\n",
       "    <tr>\n",
       "      <th>3</th>\n",
       "      <td>2016</td>\n",
       "    </tr>\n",
       "    <tr>\n",
       "      <th>4</th>\n",
       "      <td>2020</td>\n",
       "    </tr>\n",
       "    <tr>\n",
       "      <th>5</th>\n",
       "      <td>2017</td>\n",
       "    </tr>\n",
       "    <tr>\n",
       "      <th>...</th>\n",
       "      <td>...</td>\n",
       "    </tr>\n",
       "    <tr>\n",
       "      <th>95</th>\n",
       "      <td>2020</td>\n",
       "    </tr>\n",
       "    <tr>\n",
       "      <th>96</th>\n",
       "      <td>2019</td>\n",
       "    </tr>\n",
       "    <tr>\n",
       "      <th>97</th>\n",
       "      <td>2020</td>\n",
       "    </tr>\n",
       "    <tr>\n",
       "      <th>98</th>\n",
       "      <td>2020</td>\n",
       "    </tr>\n",
       "    <tr>\n",
       "      <th>99</th>\n",
       "      <td>2018</td>\n",
       "    </tr>\n",
       "  </tbody>\n",
       "</table>\n",
       "<p>99 rows × 1 columns</p>\n",
       "</div>"
      ],
      "text/plain": [
       "       0\n",
       "№       \n",
       "1   2020\n",
       "2   2018\n",
       "3   2016\n",
       "4   2020\n",
       "5   2017\n",
       "..   ...\n",
       "95  2020\n",
       "96  2019\n",
       "97  2020\n",
       "98  2020\n",
       "99  2018\n",
       "\n",
       "[99 rows x 1 columns]"
      ]
     },
     "execution_count": 41,
     "metadata": {},
     "output_type": "execute_result"
    }
   ],
   "source": [
    "df = cities['Год,источник'].str.split('[',expand=True)\n",
    "df.drop([1,2], axis='columns',inplace=True)\n",
    "df"
   ]
  },
  {
   "cell_type": "code",
   "execution_count": 43,
   "metadata": {},
   "outputs": [
    {
     "data": {
      "text/html": [
       "<div>\n",
       "<style scoped>\n",
       "    .dataframe tbody tr th:only-of-type {\n",
       "        vertical-align: middle;\n",
       "    }\n",
       "\n",
       "    .dataframe tbody tr th {\n",
       "        vertical-align: top;\n",
       "    }\n",
       "\n",
       "    .dataframe thead th {\n",
       "        text-align: right;\n",
       "    }\n",
       "</style>\n",
       "<table border=\"1\" class=\"dataframe\">\n",
       "  <thead>\n",
       "    <tr style=\"text-align: right;\">\n",
       "      <th></th>\n",
       "      <th>Город</th>\n",
       "      <th>Страна</th>\n",
       "      <th>Население</th>\n",
       "      <th>Год,источник</th>\n",
       "    </tr>\n",
       "    <tr>\n",
       "      <th>№</th>\n",
       "      <th></th>\n",
       "      <th></th>\n",
       "      <th></th>\n",
       "      <th></th>\n",
       "    </tr>\n",
       "  </thead>\n",
       "  <tbody>\n",
       "    <tr>\n",
       "      <th>1</th>\n",
       "      <td>Москва</td>\n",
       "      <td>Россия</td>\n",
       "      <td>12 678 079</td>\n",
       "      <td>2020</td>\n",
       "    </tr>\n",
       "    <tr>\n",
       "      <th>2</th>\n",
       "      <td>Стамбул (европейская часть)</td>\n",
       "      <td>Турция</td>\n",
       "      <td>9 772 961</td>\n",
       "      <td>2018</td>\n",
       "    </tr>\n",
       "    <tr>\n",
       "      <th>3</th>\n",
       "      <td>Лондон</td>\n",
       "      <td>Великобритания</td>\n",
       "      <td>8 787 892</td>\n",
       "      <td>2016</td>\n",
       "    </tr>\n",
       "    <tr>\n",
       "      <th>4</th>\n",
       "      <td>Санкт-Петербург</td>\n",
       "      <td>Россия</td>\n",
       "      <td>5 398 064</td>\n",
       "      <td>2020</td>\n",
       "    </tr>\n",
       "    <tr>\n",
       "      <th>5</th>\n",
       "      <td>Берлин</td>\n",
       "      <td>Германия</td>\n",
       "      <td>3 601 131</td>\n",
       "      <td>2017</td>\n",
       "    </tr>\n",
       "    <tr>\n",
       "      <th>...</th>\n",
       "      <td>...</td>\n",
       "      <td>...</td>\n",
       "      <td>...</td>\n",
       "      <td>...</td>\n",
       "    </tr>\n",
       "    <tr>\n",
       "      <th>95</th>\n",
       "      <td>Гомель</td>\n",
       "      <td>Белоруссия</td>\n",
       "      <td>510 300</td>\n",
       "      <td>2020</td>\n",
       "    </tr>\n",
       "    <tr>\n",
       "      <th>96</th>\n",
       "      <td>Скопье</td>\n",
       "      <td>Северная Македония</td>\n",
       "      <td>509 900</td>\n",
       "      <td>2019</td>\n",
       "    </tr>\n",
       "    <tr>\n",
       "      <th>97</th>\n",
       "      <td>Липецк</td>\n",
       "      <td>Россия</td>\n",
       "      <td>508 573</td>\n",
       "      <td>2020</td>\n",
       "    </tr>\n",
       "    <tr>\n",
       "      <th>98</th>\n",
       "      <td>Балашиха</td>\n",
       "      <td>Россия</td>\n",
       "      <td>507 366</td>\n",
       "      <td>2020</td>\n",
       "    </tr>\n",
       "    <tr>\n",
       "      <th>99</th>\n",
       "      <td>Лиссабон</td>\n",
       "      <td>Португалия</td>\n",
       "      <td>506 654</td>\n",
       "      <td>2018</td>\n",
       "    </tr>\n",
       "  </tbody>\n",
       "</table>\n",
       "<p>99 rows × 4 columns</p>\n",
       "</div>"
      ],
      "text/plain": [
       "                          Город              Страна   Население Год,источник\n",
       "№                                                                           \n",
       "1                        Москва              Россия  12 678 079         2020\n",
       "2   Стамбул (европейская часть)              Турция   9 772 961         2018\n",
       "3                        Лондон      Великобритания   8 787 892         2016\n",
       "4               Санкт-Петербург              Россия   5 398 064         2020\n",
       "5                        Берлин            Германия   3 601 131         2017\n",
       "..                          ...                 ...         ...          ...\n",
       "95                       Гомель          Белоруссия     510 300         2020\n",
       "96                       Скопье  Северная Македония     509 900         2019\n",
       "97                       Липецк              Россия     508 573         2020\n",
       "98                     Балашиха              Россия     507 366         2020\n",
       "99                     Лиссабон          Португалия     506 654         2018\n",
       "\n",
       "[99 rows x 4 columns]"
      ]
     },
     "execution_count": 43,
     "metadata": {},
     "output_type": "execute_result"
    }
   ],
   "source": [
    "cities.iloc[:,3] = df.iloc[:,0]\n",
    "cities"
   ]
  }
 ],
 "metadata": {
  "kernelspec": {
   "display_name": "Python 3",
   "language": "python",
   "name": "python3"
  },
  "language_info": {
   "codemirror_mode": {
    "name": "ipython",
    "version": 3
   },
   "file_extension": ".py",
   "mimetype": "text/x-python",
   "name": "python",
   "nbconvert_exporter": "python",
   "pygments_lexer": "ipython3",
   "version": "3.7.6"
  }
 },
 "nbformat": 4,
 "nbformat_minor": 4
}
