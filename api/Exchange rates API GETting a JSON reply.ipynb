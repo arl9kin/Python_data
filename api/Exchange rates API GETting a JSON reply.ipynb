{
 "cells": [
  {
   "cell_type": "markdown",
   "metadata": {},
   "source": [
    "# Получение данных из публичных API (без регистрации) - запрос GET"
   ]
  },
  {
   "cell_type": "markdown",
   "metadata": {},
   "source": [
    "Загружаем библиотеки"
   ]
  },
  {
   "cell_type": "code",
   "execution_count": 13,
   "metadata": {},
   "outputs": [],
   "source": [
    "import requests\n",
    "import json"
   ]
  },
  {
   "cell_type": "markdown",
   "metadata": {},
   "source": [
    "## Извлечение данных о курсах валют"
   ]
  },
  {
   "cell_type": "markdown",
   "metadata": {},
   "source": [
    "Мы будем использовать данные API содержащие обменный курс валют, опубликованный европейским центральным банкм (документация https://exchangeratesapi.io)"
   ]
  },
  {
   "cell_type": "markdown",
   "metadata": {},
   "source": [
    "### Отправляем GET запрос"
   ]
  },
  {
   "cell_type": "code",
   "execution_count": 14,
   "metadata": {},
   "outputs": [],
   "source": [
    "base_url = \"https://api.exchangeratesapi.io/latest\""
   ]
  },
  {
   "cell_type": "code",
   "execution_count": 15,
   "metadata": {},
   "outputs": [],
   "source": [
    "response = requests.get(base_url)"
   ]
  },
  {
   "cell_type": "markdown",
   "metadata": {},
   "source": [
    "Этот метод возвращает ответ с серверва. Мы сохраняем его в переменную, для дальнейшей обработки"
   ]
  },
  {
   "cell_type": "markdown",
   "metadata": {},
   "source": [
    "### Обзор ответа"
   ]
  },
  {
   "cell_type": "markdown",
   "metadata": {},
   "source": [
    "Проверим успешность запроса"
   ]
  },
  {
   "cell_type": "code",
   "execution_count": 16,
   "metadata": {},
   "outputs": [
    {
     "data": {
      "text/plain": [
       "True"
      ]
     },
     "execution_count": 16,
     "metadata": {},
     "output_type": "execute_result"
    }
   ],
   "source": [
    "response.ok"
   ]
  },
  {
   "cell_type": "code",
   "execution_count": 17,
   "metadata": {},
   "outputs": [
    {
     "data": {
      "text/plain": [
       "200"
      ]
     },
     "execution_count": 17,
     "metadata": {},
     "output_type": "execute_result"
    }
   ],
   "source": [
    "response.status_code"
   ]
  },
  {
   "cell_type": "markdown",
   "metadata": {},
   "source": [
    "Рассмотрим содержание ответа в строковом виде"
   ]
  },
  {
   "cell_type": "code",
   "execution_count": 18,
   "metadata": {},
   "outputs": [
    {
     "data": {
      "text/plain": [
       "'{\"rates\":{\"CAD\":1.5553,\"HKD\":9.2345,\"ISK\":163.5,\"PHP\":57.676,\"DKK\":7.4439,\"HUF\":355.18,\"CZK\":26.2,\"AUD\":1.6216,\"RON\":4.8395,\"SEK\":10.2603,\"IDR\":17330.67,\"INR\":87.2125,\"BRL\":6.5608,\"RUB\":88.625,\"HRK\":7.5275,\"JPY\":125.39,\"THB\":37.091,\"CHF\":1.0758,\"SGD\":1.6195,\"PLN\":4.3921,\"BGN\":1.9558,\"TRY\":8.7176,\"CNY\":8.1749,\"NOK\":10.47,\"NZD\":1.7723,\"ZAR\":19.8829,\"USD\":1.1915,\"MXN\":26.069,\"ILS\":4.0083,\"GBP\":0.89468,\"KRW\":1407.24,\"MYR\":4.9632},\"base\":\"EUR\",\"date\":\"2020-08-28\"}'"
      ]
     },
     "execution_count": 18,
     "metadata": {},
     "output_type": "execute_result"
    }
   ],
   "source": [
    "response.text"
   ]
  },
  {
   "cell_type": "markdown",
   "metadata": {},
   "source": [
    "в битовом виде"
   ]
  },
  {
   "cell_type": "code",
   "execution_count": 19,
   "metadata": {},
   "outputs": [
    {
     "data": {
      "text/plain": [
       "b'{\"rates\":{\"CAD\":1.5553,\"HKD\":9.2345,\"ISK\":163.5,\"PHP\":57.676,\"DKK\":7.4439,\"HUF\":355.18,\"CZK\":26.2,\"AUD\":1.6216,\"RON\":4.8395,\"SEK\":10.2603,\"IDR\":17330.67,\"INR\":87.2125,\"BRL\":6.5608,\"RUB\":88.625,\"HRK\":7.5275,\"JPY\":125.39,\"THB\":37.091,\"CHF\":1.0758,\"SGD\":1.6195,\"PLN\":4.3921,\"BGN\":1.9558,\"TRY\":8.7176,\"CNY\":8.1749,\"NOK\":10.47,\"NZD\":1.7723,\"ZAR\":19.8829,\"USD\":1.1915,\"MXN\":26.069,\"ILS\":4.0083,\"GBP\":0.89468,\"KRW\":1407.24,\"MYR\":4.9632},\"base\":\"EUR\",\"date\":\"2020-08-28\"}'"
      ]
     },
     "execution_count": 19,
     "metadata": {},
     "output_type": "execute_result"
    }
   ],
   "source": [
    "response.content"
   ]
  },
  {
   "cell_type": "markdown",
   "metadata": {},
   "source": [
    "Данные представлены в формате JSON"
   ]
  },
  {
   "cell_type": "markdown",
   "metadata": {},
   "source": [
    "### Обработка JSON"
   ]
  },
  {
   "cell_type": "markdown",
   "metadata": {},
   "source": [
    "# Библиотека Requests имеет встроенный метод прямой конвертации ответа из формата JSON"
   ]
  },
  {
   "cell_type": "code",
   "execution_count": 20,
   "metadata": {},
   "outputs": [
    {
     "data": {
      "text/plain": [
       "{'rates': {'CAD': 1.5553,\n",
       "  'HKD': 9.2345,\n",
       "  'ISK': 163.5,\n",
       "  'PHP': 57.676,\n",
       "  'DKK': 7.4439,\n",
       "  'HUF': 355.18,\n",
       "  'CZK': 26.2,\n",
       "  'AUD': 1.6216,\n",
       "  'RON': 4.8395,\n",
       "  'SEK': 10.2603,\n",
       "  'IDR': 17330.67,\n",
       "  'INR': 87.2125,\n",
       "  'BRL': 6.5608,\n",
       "  'RUB': 88.625,\n",
       "  'HRK': 7.5275,\n",
       "  'JPY': 125.39,\n",
       "  'THB': 37.091,\n",
       "  'CHF': 1.0758,\n",
       "  'SGD': 1.6195,\n",
       "  'PLN': 4.3921,\n",
       "  'BGN': 1.9558,\n",
       "  'TRY': 8.7176,\n",
       "  'CNY': 8.1749,\n",
       "  'NOK': 10.47,\n",
       "  'NZD': 1.7723,\n",
       "  'ZAR': 19.8829,\n",
       "  'USD': 1.1915,\n",
       "  'MXN': 26.069,\n",
       "  'ILS': 4.0083,\n",
       "  'GBP': 0.89468,\n",
       "  'KRW': 1407.24,\n",
       "  'MYR': 4.9632},\n",
       " 'base': 'EUR',\n",
       " 'date': '2020-08-28'}"
      ]
     },
     "execution_count": 20,
     "metadata": {},
     "output_type": "execute_result"
    }
   ],
   "source": [
    "response.json()"
   ]
  },
  {
   "cell_type": "markdown",
   "metadata": {},
   "source": [
    "В Пайтоне JSON хранится как словарь"
   ]
  },
  {
   "cell_type": "code",
   "execution_count": 21,
   "metadata": {},
   "outputs": [
    {
     "data": {
      "text/plain": [
       "dict"
      ]
     },
     "execution_count": 21,
     "metadata": {},
     "output_type": "execute_result"
    }
   ],
   "source": [
    "type(response.json())"
   ]
  },
  {
   "cell_type": "markdown",
   "metadata": {},
   "source": [
    "Полезная библиотека для обработки JSON и для аккуратного вывода на экран\n",
    "Есть 2 главных метода:\n",
    ".loads(), который создает словать Пайтона из строкаи JSON формата (также как response.json())\n",
    ".dumps(), который создает строку JSON формата из словаря пайтона\n",
    ".dumps() делает строку более читабельной\n",
    "Например, мы можем выбрать размер отступа"
   ]
  },
  {
   "cell_type": "code",
   "execution_count": 23,
   "metadata": {},
   "outputs": [
    {
     "data": {
      "text/plain": [
       "'{\\n    \"rates\": {\\n        \"CAD\": 1.5553,\\n        \"HKD\": 9.2345,\\n        \"ISK\": 163.5,\\n        \"PHP\": 57.676,\\n        \"DKK\": 7.4439,\\n        \"HUF\": 355.18,\\n        \"CZK\": 26.2,\\n        \"AUD\": 1.6216,\\n        \"RON\": 4.8395,\\n        \"SEK\": 10.2603,\\n        \"IDR\": 17330.67,\\n        \"INR\": 87.2125,\\n        \"BRL\": 6.5608,\\n        \"RUB\": 88.625,\\n        \"HRK\": 7.5275,\\n        \"JPY\": 125.39,\\n        \"THB\": 37.091,\\n        \"CHF\": 1.0758,\\n        \"SGD\": 1.6195,\\n        \"PLN\": 4.3921,\\n        \"BGN\": 1.9558,\\n        \"TRY\": 8.7176,\\n        \"CNY\": 8.1749,\\n        \"NOK\": 10.47,\\n        \"NZD\": 1.7723,\\n        \"ZAR\": 19.8829,\\n        \"USD\": 1.1915,\\n        \"MXN\": 26.069,\\n        \"ILS\": 4.0083,\\n        \"GBP\": 0.89468,\\n        \"KRW\": 1407.24,\\n        \"MYR\": 4.9632\\n    },\\n    \"base\": \"EUR\",\\n    \"date\": \"2020-08-28\"\\n}'"
      ]
     },
     "execution_count": 23,
     "metadata": {},
     "output_type": "execute_result"
    }
   ],
   "source": [
    "json.dumps(response.json(), indent=4)"
   ]
  },
  {
   "cell_type": "markdown",
   "metadata": {},
   "source": [
    "Чтобы посмотерть выведем строку на экран"
   ]
  },
  {
   "cell_type": "code",
   "execution_count": 25,
   "metadata": {},
   "outputs": [
    {
     "name": "stdout",
     "output_type": "stream",
     "text": [
      "{\n",
      "    \"rates\": {\n",
      "        \"CAD\": 1.5553,\n",
      "        \"HKD\": 9.2345,\n",
      "        \"ISK\": 163.5,\n",
      "        \"PHP\": 57.676,\n",
      "        \"DKK\": 7.4439,\n",
      "        \"HUF\": 355.18,\n",
      "        \"CZK\": 26.2,\n",
      "        \"AUD\": 1.6216,\n",
      "        \"RON\": 4.8395,\n",
      "        \"SEK\": 10.2603,\n",
      "        \"IDR\": 17330.67,\n",
      "        \"INR\": 87.2125,\n",
      "        \"BRL\": 6.5608,\n",
      "        \"RUB\": 88.625,\n",
      "        \"HRK\": 7.5275,\n",
      "        \"JPY\": 125.39,\n",
      "        \"THB\": 37.091,\n",
      "        \"CHF\": 1.0758,\n",
      "        \"SGD\": 1.6195,\n",
      "        \"PLN\": 4.3921,\n",
      "        \"BGN\": 1.9558,\n",
      "        \"TRY\": 8.7176,\n",
      "        \"CNY\": 8.1749,\n",
      "        \"NOK\": 10.47,\n",
      "        \"NZD\": 1.7723,\n",
      "        \"ZAR\": 19.8829,\n",
      "        \"USD\": 1.1915,\n",
      "        \"MXN\": 26.069,\n",
      "        \"ILS\": 4.0083,\n",
      "        \"GBP\": 0.89468,\n",
      "        \"KRW\": 1407.24,\n",
      "        \"MYR\": 4.9632\n",
      "    },\n",
      "    \"base\": \"EUR\",\n",
      "    \"date\": \"2020-08-28\"\n",
      "}\n"
     ]
    }
   ],
   "source": [
    "print(json.dumps(response.json(), indent=4))"
   ]
  },
  {
   "cell_type": "markdown",
   "metadata": {},
   "source": [
    "Строка содержит 3 ключа, значения ключа 'rates' - другой словарь."
   ]
  },
  {
   "cell_type": "code",
   "execution_count": 26,
   "metadata": {},
   "outputs": [
    {
     "data": {
      "text/plain": [
       "dict_keys(['rates', 'base', 'date'])"
      ]
     },
     "execution_count": 26,
     "metadata": {},
     "output_type": "execute_result"
    }
   ],
   "source": [
    "response.json().keys()"
   ]
  },
  {
   "cell_type": "markdown",
   "metadata": {},
   "source": [
    "## Включение допольнительных параметров в запрос GET"
   ]
  },
  {
   "cell_type": "code",
   "execution_count": 32,
   "metadata": {},
   "outputs": [
    {
     "data": {
      "text/plain": [
       "'https://api.exchangeratesapi.io/latest?symbols=USD,GBP'"
      ]
     },
     "execution_count": 32,
     "metadata": {},
     "output_type": "execute_result"
    }
   ],
   "source": [
    "param_url = base_url + '?symbols=USD,GBP'\n",
    "param_url"
   ]
  },
  {
   "cell_type": "code",
   "execution_count": 33,
   "metadata": {},
   "outputs": [
    {
     "data": {
      "text/plain": [
       "<Response [200]>"
      ]
     },
     "execution_count": 33,
     "metadata": {},
     "output_type": "execute_result"
    }
   ],
   "source": [
    "response = requests.get(param_url)\n",
    "response"
   ]
  },
  {
   "cell_type": "code",
   "execution_count": 35,
   "metadata": {},
   "outputs": [
    {
     "data": {
      "text/plain": [
       "{'rates': {'USD': 1.1915, 'GBP': 0.89468}, 'base': 'EUR', 'date': '2020-08-28'}"
      ]
     },
     "execution_count": 35,
     "metadata": {},
     "output_type": "execute_result"
    }
   ],
   "source": [
    "data = response.json()\n",
    "data"
   ]
  },
  {
   "cell_type": "code",
   "execution_count": 36,
   "metadata": {},
   "outputs": [
    {
     "data": {
      "text/plain": [
       "'EUR'"
      ]
     },
     "execution_count": 36,
     "metadata": {},
     "output_type": "execute_result"
    }
   ],
   "source": [
    "data['base']"
   ]
  },
  {
   "cell_type": "code",
   "execution_count": 37,
   "metadata": {},
   "outputs": [
    {
     "data": {
      "text/plain": [
       "{'USD': 1.1915, 'GBP': 0.89468}"
      ]
     },
     "execution_count": 37,
     "metadata": {},
     "output_type": "execute_result"
    }
   ],
   "source": [
    "data['rates']"
   ]
  },
  {
   "cell_type": "code",
   "execution_count": 38,
   "metadata": {},
   "outputs": [
    {
     "data": {
      "text/plain": [
       "'2020-08-28'"
      ]
     },
     "execution_count": 38,
     "metadata": {},
     "output_type": "execute_result"
    }
   ],
   "source": [
    "data['date']"
   ]
  },
  {
   "cell_type": "code",
   "execution_count": 42,
   "metadata": {},
   "outputs": [
    {
     "data": {
      "text/plain": [
       "'https://api.exchangeratesapi.io/latest?symbols=GBP&base=USD'"
      ]
     },
     "execution_count": 42,
     "metadata": {},
     "output_type": "execute_result"
    }
   ],
   "source": [
    "param_url = base_url + \"?symbols=GBP\" + \"&\" + \"base=USD\"\n",
    "param_url"
   ]
  },
  {
   "cell_type": "code",
   "execution_count": 43,
   "metadata": {},
   "outputs": [
    {
     "data": {
      "text/plain": [
       "True"
      ]
     },
     "execution_count": 43,
     "metadata": {},
     "output_type": "execute_result"
    }
   ],
   "source": [
    "response = requests.get(param_url)\n",
    "response.ok"
   ]
  },
  {
   "cell_type": "code",
   "execution_count": 44,
   "metadata": {},
   "outputs": [],
   "source": [
    "data = requests.get(param_url).json()"
   ]
  },
  {
   "cell_type": "code",
   "execution_count": 45,
   "metadata": {},
   "outputs": [
    {
     "data": {
      "text/plain": [
       "0.7508854385"
      ]
     },
     "execution_count": 45,
     "metadata": {},
     "output_type": "execute_result"
    }
   ],
   "source": [
    "usd_to_gbp = data['rates']['GBP']\n",
    "usd_to_gbp"
   ]
  },
  {
   "cell_type": "markdown",
   "metadata": {},
   "source": [
    "## Доступ к историческим данным"
   ]
  },
  {
   "cell_type": "code",
   "execution_count": 48,
   "metadata": {},
   "outputs": [
    {
     "data": {
      "text/plain": [
       "'https://api.exchangeratesapi.io/latest?2016-01-26'"
      ]
     },
     "execution_count": 48,
     "metadata": {},
     "output_type": "execute_result"
    }
   ],
   "source": [
    "historical_url = base_url + '?2016-01-26'\n",
    "historical_url"
   ]
  },
  {
   "cell_type": "code",
   "execution_count": 49,
   "metadata": {},
   "outputs": [
    {
     "data": {
      "text/plain": [
       "True"
      ]
     },
     "execution_count": 49,
     "metadata": {},
     "output_type": "execute_result"
    }
   ],
   "source": [
    "response = requests.get(historical_url)\n",
    "response.ok"
   ]
  },
  {
   "cell_type": "code",
   "execution_count": 53,
   "metadata": {},
   "outputs": [
    {
     "name": "stdout",
     "output_type": "stream",
     "text": [
      "{\n",
      "    \"rates\": {\n",
      "        \"CAD\": 1.5553,\n",
      "        \"HKD\": 9.2345,\n",
      "        \"ISK\": 163.5,\n",
      "        \"PHP\": 57.676,\n",
      "        \"DKK\": 7.4439,\n",
      "        \"HUF\": 355.18,\n",
      "        \"CZK\": 26.2,\n",
      "        \"AUD\": 1.6216,\n",
      "        \"RON\": 4.8395,\n",
      "        \"SEK\": 10.2603,\n",
      "        \"IDR\": 17330.67,\n",
      "        \"INR\": 87.2125,\n",
      "        \"BRL\": 6.5608,\n",
      "        \"RUB\": 88.625,\n",
      "        \"HRK\": 7.5275,\n",
      "        \"JPY\": 125.39,\n",
      "        \"THB\": 37.091,\n",
      "        \"CHF\": 1.0758,\n",
      "        \"SGD\": 1.6195,\n",
      "        \"PLN\": 4.3921,\n",
      "        \"BGN\": 1.9558,\n",
      "        \"TRY\": 8.7176,\n",
      "        \"CNY\": 8.1749,\n",
      "        \"NOK\": 10.47,\n",
      "        \"NZD\": 1.7723,\n",
      "        \"ZAR\": 19.8829,\n",
      "        \"USD\": 1.1915,\n",
      "        \"MXN\": 26.069,\n",
      "        \"ILS\": 4.0083,\n",
      "        \"GBP\": 0.89468,\n",
      "        \"KRW\": 1407.24,\n",
      "        \"MYR\": 4.9632\n",
      "    },\n",
      "    \"base\": \"EUR\",\n",
      "    \"date\": \"2020-08-28\"\n",
      "}\n"
     ]
    }
   ],
   "source": [
    "data = response.json()\n",
    "print(json.dumps(data, indent=4))"
   ]
  },
  {
   "cell_type": "markdown",
   "metadata": {},
   "source": [
    "## Извлечение данных за период времени"
   ]
  },
  {
   "cell_type": "code",
   "execution_count": 63,
   "metadata": {},
   "outputs": [
    {
     "data": {
      "text/plain": [
       "'https://api.exchangeratesapi.io/history?start_at=2017-04-26&end_at=2017-05-26&symbols=GBP'"
      ]
     },
     "execution_count": 63,
     "metadata": {},
     "output_type": "execute_result"
    }
   ],
   "source": [
    "time_period = 'https://api.exchangeratesapi.io' + '/history' + '?start_at=2017-04-26&end_at=2017-05-26' + '&symbols=GBP'\n",
    "time_period"
   ]
  },
  {
   "cell_type": "code",
   "execution_count": 64,
   "metadata": {},
   "outputs": [],
   "source": [
    "data = requests.get(time_period).json()"
   ]
  },
  {
   "cell_type": "code",
   "execution_count": 65,
   "metadata": {},
   "outputs": [
    {
     "name": "stdout",
     "output_type": "stream",
     "text": [
      "{\n",
      "    \"base\": \"EUR\",\n",
      "    \"end_at\": \"2017-05-26\",\n",
      "    \"rates\": {\n",
      "        \"2017-04-26\": {\n",
      "            \"GBP\": 0.84903\n",
      "        },\n",
      "        \"2017-04-27\": {\n",
      "            \"GBP\": 0.8442\n",
      "        },\n",
      "        \"2017-04-28\": {\n",
      "            \"GBP\": 0.84473\n",
      "        },\n",
      "        \"2017-05-02\": {\n",
      "            \"GBP\": 0.8452\n",
      "        },\n",
      "        \"2017-05-03\": {\n",
      "            \"GBP\": 0.8444\n",
      "        },\n",
      "        \"2017-05-04\": {\n",
      "            \"GBP\": 0.84765\n",
      "        },\n",
      "        \"2017-05-05\": {\n",
      "            \"GBP\": 0.8471\n",
      "        },\n",
      "        \"2017-05-08\": {\n",
      "            \"GBP\": 0.84465\n",
      "        },\n",
      "        \"2017-05-09\": {\n",
      "            \"GBP\": 0.843\n",
      "        },\n",
      "        \"2017-05-10\": {\n",
      "            \"GBP\": 0.83985\n",
      "        },\n",
      "        \"2017-05-11\": {\n",
      "            \"GBP\": 0.84485\n",
      "        },\n",
      "        \"2017-05-12\": {\n",
      "            \"GBP\": 0.84588\n",
      "        },\n",
      "        \"2017-05-15\": {\n",
      "            \"GBP\": 0.84928\n",
      "        },\n",
      "        \"2017-05-16\": {\n",
      "            \"GBP\": 0.85868\n",
      "        },\n",
      "        \"2017-05-17\": {\n",
      "            \"GBP\": 0.85745\n",
      "        },\n",
      "        \"2017-05-18\": {\n",
      "            \"GBP\": 0.85363\n",
      "        },\n",
      "        \"2017-05-19\": {\n",
      "            \"GBP\": 0.85908\n",
      "        },\n",
      "        \"2017-05-22\": {\n",
      "            \"GBP\": 0.86353\n",
      "        },\n",
      "        \"2017-05-23\": {\n",
      "            \"GBP\": 0.86463\n",
      "        },\n",
      "        \"2017-05-24\": {\n",
      "            \"GBP\": 0.8634\n",
      "        },\n",
      "        \"2017-05-25\": {\n",
      "            \"GBP\": 0.86528\n",
      "        },\n",
      "        \"2017-05-26\": {\n",
      "            \"GBP\": 0.8719\n",
      "        }\n",
      "    },\n",
      "    \"start_at\": \"2017-04-26\"\n",
      "}\n"
     ]
    }
   ],
   "source": [
    "print(json.dumps(data, indent=4, sort_keys=True))"
   ]
  },
  {
   "cell_type": "markdown",
   "metadata": {},
   "source": [
    "## Проверка API ответа на корректность ввода"
   ]
  },
  {
   "cell_type": "code",
   "execution_count": 83,
   "metadata": {},
   "outputs": [
    {
     "data": {
      "text/plain": [
       "'https://api.exchangeratesapi.io/2022-12-01?base=USB'"
      ]
     },
     "execution_count": 83,
     "metadata": {},
     "output_type": "execute_result"
    }
   ],
   "source": [
    "base_url = 'https://api.exchangeratesapi.io'\n",
    "inval = base_url + '/2022-12-01' + '?base=USB'\n",
    "inval"
   ]
  },
  {
   "cell_type": "code",
   "execution_count": 84,
   "metadata": {},
   "outputs": [
    {
     "data": {
      "text/plain": [
       "400"
      ]
     },
     "execution_count": 84,
     "metadata": {},
     "output_type": "execute_result"
    }
   ],
   "source": [
    "response = requests.get(inval)\n",
    "response.status_code"
   ]
  },
  {
   "cell_type": "code",
   "execution_count": 85,
   "metadata": {},
   "outputs": [
    {
     "data": {
      "text/plain": [
       "{'error': \"Base 'USB' is not supported.\"}"
      ]
     },
     "execution_count": 85,
     "metadata": {},
     "output_type": "execute_result"
    }
   ],
   "source": [
    "response.json()"
   ]
  },
  {
   "cell_type": "markdown",
   "metadata": {},
   "source": [
    "## Создаем конвертор валют"
   ]
  }
 ],
 "metadata": {
  "kernelspec": {
   "display_name": "Python 3",
   "language": "python",
   "name": "python3"
  },
  "language_info": {
   "codemirror_mode": {
    "name": "ipython",
    "version": 3
   },
   "file_extension": ".py",
   "mimetype": "text/x-python",
   "name": "python",
   "nbconvert_exporter": "python",
   "pygments_lexer": "ipython3",
   "version": "3.7.6"
  }
 },
 "nbformat": 4,
 "nbformat_minor": 4
}
